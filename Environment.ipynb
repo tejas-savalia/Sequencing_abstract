{
 "cells": [
  {
   "cell_type": "code",
   "execution_count": 1,
   "metadata": {
    "collapsed": true
   },
   "outputs": [],
   "source": [
    "import numpy"
   ]
  },
  {
   "cell_type": "code",
   "execution_count": 2,
   "metadata": {
    "collapsed": true
   },
   "outputs": [],
   "source": [
    "grid_size = [10, 10]"
   ]
  },
  {
   "cell_type": "code",
   "execution_count": 3,
   "metadata": {
    "collapsed": false
   },
   "outputs": [],
   "source": [
    "def state_verify(poss_state):\n",
    "    if poss_state == grid_size:\n",
    "        return poss_state\n",
    "    if poss_state[0] < grid_size[0] and poss_state[1] < grid_size[1] and poss_state[0] >= 0 and poss_state [1] >= 0:\n",
    "        allowed_state = poss_state\n",
    "        return allowed_state\n",
    "    return \"State not valid\""
   ]
  },
  {
   "cell_type": "code",
   "execution_count": null,
   "metadata": {
    "collapsed": true
   },
   "outputs": [],
   "source": []
  },
  {
   "cell_type": "code",
   "execution_count": 4,
   "metadata": {
    "collapsed": false
   },
   "outputs": [],
   "source": [
    "def action_vec(action):\n",
    "    if action == 'Left':\n",
    "        return numpy.array([-1, 0])\n",
    "    elif action == 'Right':\n",
    "        return numpy.array([1, 0])\n",
    "    elif action == 'Up':\n",
    "        return numpy.array([0, 1])\n",
    "    elif action == 'Down':\n",
    "        return numpy.array([0, -1])\n",
    "    else:\n",
    "        return numpy.array([0, 0])"
   ]
  },
  {
   "cell_type": "code",
   "execution_count": 5,
   "metadata": {
    "collapsed": true
   },
   "outputs": [],
   "source": [
    "def grid_struct(grid_size):\n",
    "    position = list()\n",
    "    grid = list()\n",
    "    for i in range(grid_size[0]):\n",
    "        for j in range(grid_size[1]):\n",
    "            position.append([i, j])\n",
    "            grid.append(0)\n",
    "    grid_arr = list()\n",
    "    for i in range(len(grid)):\n",
    "        grid_arr.append([position[i], grid[i]])\n",
    "    grid_world = numpy.array(grid_arr)\n",
    "    grid_world[-1, 1] = 10\n",
    "    grid_world[5, 1] = 10\n",
    "    grid_world[35, 1] = 10\n",
    "    return grid_world"
   ]
  },
  {
   "cell_type": "code",
   "execution_count": 6,
   "metadata": {
    "collapsed": false
   },
   "outputs": [],
   "source": [
    "grid_structure = grid_struct(grid_size)\n"
   ]
  },
  {
   "cell_type": "code",
   "execution_count": 7,
   "metadata": {
    "collapsed": false
   },
   "outputs": [],
   "source": [
    "def get_legal_actions(curr_pos):\n",
    "    poss_actions = numpy.array([[-1, 0], [1, 0], [0, 1], [0, -1]])\n",
    "    legal_actions = list()\n",
    "    for i in poss_actions:\n",
    "        if numpy.add(curr_pos, i).tolist() in grid_structure[:, 0].tolist():\n",
    "            legal_actions.append(i)\n",
    "    return legal_actions"
   ]
  },
  {
   "cell_type": "code",
   "execution_count": 8,
   "metadata": {
    "collapsed": false
   },
   "outputs": [],
   "source": [
    "def grid_world(state, action):\n",
    "    #state is of the form [grid_pos, value]\n",
    "    #action of the form \"Left\", \"Right\", \"Up\", \"Down\"\n",
    "    action = numpy.array(action)\n",
    "    new_pos = numpy.add(state[0], action)\n",
    "    new_state = numpy.array([new_pos, state[1]])\n",
    "    #if the new state is the last state (right corner), return reward 10, otherwise return reward 0  \n",
    "    reward = grid_structure[(new_state[0][0]*10 + new_state[0][1])][1]\n",
    "    return new_state, reward"
   ]
  },
  {
   "cell_type": "code",
   "execution_count": 9,
   "metadata": {
    "collapsed": false
   },
   "outputs": [],
   "source": [
    "(state, reward) = grid_world(numpy.array([[3, 4], 0]), [0, 1])"
   ]
  },
  {
   "cell_type": "code",
   "execution_count": null,
   "metadata": {
    "collapsed": false
   },
   "outputs": [],
   "source": []
  },
  {
   "cell_type": "code",
   "execution_count": null,
   "metadata": {
    "collapsed": false
   },
   "outputs": [],
   "source": []
  },
  {
   "cell_type": "code",
   "execution_count": 10,
   "metadata": {
    "collapsed": true
   },
   "outputs": [],
   "source": [
    "def model_free_action(pos, action):\n",
    "    new_pos = numpy.add(pos, action)\n",
    "    reward = grid_structure[(new_pos[0]*10 + new_pos[1])][1]\n",
    "    return new_pos, reward"
   ]
  },
  {
   "cell_type": "code",
   "execution_count": null,
   "metadata": {
    "collapsed": false
   },
   "outputs": [],
   "source": []
  },
  {
   "cell_type": "code",
   "execution_count": null,
   "metadata": {
    "collapsed": true
   },
   "outputs": [],
   "source": []
  }
 ],
 "metadata": {
  "anaconda-cloud": {},
  "kernelspec": {
   "display_name": "Python [default]",
   "language": "python",
   "name": "python2"
  },
  "language_info": {
   "codemirror_mode": {
    "name": "ipython",
    "version": 2
   },
   "file_extension": ".py",
   "mimetype": "text/x-python",
   "name": "python",
   "nbconvert_exporter": "python",
   "pygments_lexer": "ipython2",
   "version": "2.7.12"
  }
 },
 "nbformat": 4,
 "nbformat_minor": 1
}
