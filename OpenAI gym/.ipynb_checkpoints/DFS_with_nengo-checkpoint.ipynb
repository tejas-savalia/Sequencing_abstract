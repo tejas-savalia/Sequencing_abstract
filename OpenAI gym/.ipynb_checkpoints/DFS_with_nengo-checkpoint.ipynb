{
 "cells": [
  {
   "cell_type": "code",
   "execution_count": 1,
   "metadata": {
    "collapsed": true
   },
   "outputs": [],
   "source": [
    "import numpy\n",
    "import nengo\n",
    "import matplotlib.pyplot as plt\n",
    "import random\n",
    "import math\n",
    "%matplotlib inline"
   ]
  },
  {
   "cell_type": "code",
   "execution_count": 38,
   "metadata": {
    "collapsed": true
   },
   "outputs": [],
   "source": [
    "from nengo.utils.functions import piecewise"
   ]
  },
  {
   "cell_type": "code",
   "execution_count": 51,
   "metadata": {
    "collapsed": false
   },
   "outputs": [
    {
     "name": "stdout",
     "output_type": "stream",
     "text": [
      "[[0 0]\n",
      " [0 1]\n",
      " [0 2]\n",
      " [0 3]\n",
      " [1 0]\n",
      " [1 1]\n",
      " [1 2]\n",
      " [1 3]\n",
      " [2 0]\n",
      " [2 1]\n",
      " [2 2]\n",
      " [2 3]\n",
      " [3 0]\n",
      " [3 1]\n",
      " [3 2]\n",
      " [3 3]]\n"
     ]
    }
   ],
   "source": [
    "states = numpy.zeros((4, 4))\n",
    "states[1][1] = 1\n",
    "states[1][3] = 3\n",
    "actions = numpy.array([[0, -1], [1, 0], [0, 1], [-1, 0]])\n",
    "transition_prob = 1\n",
    "state_repo = list()\n",
    "for i in range(4):\n",
    "        for j in range(4):\n",
    "            state_repo.append([i, j])\n",
    "state_repo = numpy.array(state_repo)\n",
    "print state_repo"
   ]
  },
  {
   "cell_type": "code",
   "execution_count": 22,
   "metadata": {
    "collapsed": true
   },
   "outputs": [],
   "source": [
    "def one_hot(location, size):\n",
    "    one_hot_vector = numpy.zeros(size)\n",
    "    one_hot_vector[location] = 1\n",
    "    return one_hot_vector"
   ]
  },
  {
   "cell_type": "code",
   "execution_count": 79,
   "metadata": {
    "collapsed": true
   },
   "outputs": [],
   "source": [
    "def to_coordinate(vector):\n",
    "    index = numpy.argmax(vector)\n",
    "    coordinate_index_0 = index/4\n",
    "    coordinate_index_1 = index%4\n",
    "    return [coordinate_index_0, coordinate_index_1]"
   ]
  },
  {
   "cell_type": "code",
   "execution_count": 15,
   "metadata": {
    "collapsed": true
   },
   "outputs": [],
   "source": [
    "def dls(states, actions, curr_state, curr_depth, max_depth, transition_prob):\n",
    "    value_list = list()\n",
    "    if curr_depth == max_depth:\n",
    "        return states[curr_state[0]][curr_state[1]]\n",
    "    else:\n",
    "        for i in actions:\n",
    "            next_state = transition(curr_state, i, transition_prob)\n",
    "            #if list(next_state) in visited:\n",
    "             #   continue\n",
    "            value = states[next_state[0]][next_state[1]] + 0.9*dls(states, actions, next_state, curr_depth+1, max_depth, transition_prob)\n",
    "            value_list.append(value)\n",
    "        if value_list:\n",
    "            average_value = numpy.mean(numpy.array(value_list))\n",
    "    return average_value\n"
   ]
  },
  {
   "cell_type": "code",
   "execution_count": 7,
   "metadata": {
    "collapsed": true
   },
   "outputs": [],
   "source": [
    "def transition(state, action, transition_prob):\n",
    "    if numpy.random.rand() < transition_prob:\n",
    "        temp = numpy.add(state, action)\n",
    "        if temp[0] > 3 or temp[1] > 3 or temp[0] < 0 or temp[1] < 0:\n",
    "            new_state = state\n",
    "        else:\n",
    "            new_state = temp\n",
    "\n",
    "    else:\n",
    "        rand_action = actions[random.choice(actions)]\n",
    "        temp = states[numpy.add(state, rand_action)]\n",
    "        if temp[0] > 3 or temp[1] > 3 or temp[1] < 0 or temp[1] < 0:\n",
    "            new_state = state\n",
    "        else:\n",
    "            new_state = temp\n",
    "    return new_state                         \n"
   ]
  },
  {
   "cell_type": "code",
   "execution_count": 110,
   "metadata": {
    "collapsed": false
   },
   "outputs": [],
   "source": [
    "model = nengo.Network()\n",
    "with model:\n",
    "    #states\n",
    "    input_node = nengo.Node(one_hot(0, 16))\n",
    "    states_ensemble = nengo.networks.EnsembleArray(n_ensembles=16, n_neurons=4000)\n",
    "    nengo.Connection(input_node, states_ensemble.input)\n",
    "    \n",
    "    #actions\n",
    "    actions_node_0 = nengo.Node(piecewise({0:actions[0], 1:actions[1], 2:actions[2], 3:actions[3]}))\n",
    "    actions_ensemble = nengo.Ensemble(n_neurons=500, dimensions=2)\n",
    "    nengo.Connection(actions_node_0, actions_ensemble)\n",
    "    \n",
    "    #curr_state\n",
    "    #out_node = states_ensemble.add_output(function=to_coordinate,name=\"outnode\")\n",
    "    inter = nengo.Ensemble(n_neurons=4000, dimensions=16)\n",
    "    nengo.Connection(states_ensemble.output, inter)\n",
    "    state_ensemble = nengo.Ensemble(n_neurons=500, dimensions=2, radius=4)\n",
    "    nengo.Connection(inter, state_ensemble, function=to_coordinate)\n",
    "    nengo.Connection(actions_ensemble, state_ensemble)\n",
    "    #curr_state_node = \n",
    "    #curr_depth\n",
    "    #max_depth\n",
    "    #transition_prob\n",
    "    states_probe = nengo.Probe(states_ensemble.output)\n",
    "    actions_probe = nengo.Probe(actions_ensemble)\n",
    "    state_probe = nengo.Probe(state_ensemble)\n",
    "    "
   ]
  },
  {
   "cell_type": "code",
   "execution_count": null,
   "metadata": {
    "collapsed": false
   },
   "outputs": [],
   "source": [
    "sim = nengo.Simulator(model)\n",
    "sim.run(5)"
   ]
  },
  {
   "cell_type": "code",
   "execution_count": null,
   "metadata": {
    "collapsed": false
   },
   "outputs": [],
   "source": [
    "plt.plot(sim.trange(), sim.data[state_probe])"
   ]
  },
  {
   "cell_type": "code",
   "execution_count": 109,
   "metadata": {
    "collapsed": false
   },
   "outputs": [
    {
     "name": "stdout",
     "output_type": "stream",
     "text": [
      "-1.51905565985\n"
     ]
    }
   ],
   "source": [
    "print numpy.mean(sim.data[state_probe][:-100])"
   ]
  },
  {
   "cell_type": "code",
   "execution_count": 56,
   "metadata": {
    "collapsed": false
   },
   "outputs": [
    {
     "data": {
      "text/plain": [
       "4"
      ]
     },
     "execution_count": 56,
     "metadata": {},
     "output_type": "execute_result"
    }
   ],
   "source": []
  }
 ],
 "metadata": {
  "kernelspec": {
   "display_name": "Python 2",
   "language": "python",
   "name": "python2"
  },
  "language_info": {
   "codemirror_mode": {
    "name": "ipython",
    "version": 2
   },
   "file_extension": ".py",
   "mimetype": "text/x-python",
   "name": "python",
   "nbconvert_exporter": "python",
   "pygments_lexer": "ipython2",
   "version": "2.7.13"
  }
 },
 "nbformat": 4,
 "nbformat_minor": 2
}
