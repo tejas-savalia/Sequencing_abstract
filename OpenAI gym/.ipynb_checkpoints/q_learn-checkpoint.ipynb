{
 "cells": [
  {
   "cell_type": "code",
   "execution_count": 1,
   "metadata": {},
   "outputs": [
    {
     "name": "stderr",
     "output_type": "stream",
     "text": [
      "[2017-12-01 18:57:53,353] Making new env: Taxi-v2\n"
     ]
    }
   ],
   "source": [
    "import gym\n",
    "import numpy\n",
    "import scipy\n",
    "env = gym.make('Taxi-v2')\n",
    "new_state = env.reset()\n",
    "from copy import copy"
   ]
  },
  {
   "cell_type": "code",
   "execution_count": 2,
   "metadata": {},
   "outputs": [],
   "source": [
    "observation = env.reset()\n",
    "for i in range(100):\n",
    "    #env.render()\n",
    "    #print (observation)\n",
    "    action = env.action_space.sample()\n",
    "    observation, reward, done, info = env.step(action)\n",
    "    if done:\n",
    "        print (\"Done\")\n",
    "        break"
   ]
  },
  {
   "cell_type": "code",
   "execution_count": 3,
   "metadata": {},
   "outputs": [],
   "source": [
    "q_values = numpy.random.rand(env.observation_space.n, env.action_space.n)\n",
    "s_values = numpy.random.rand(env.observation_space.n)\n",
    "gamma = 0.9\n",
    "alpha = 0.5"
   ]
  },
  {
   "cell_type": "code",
   "execution_count": 5,
   "metadata": {
    "collapsed": true
   },
   "outputs": [],
   "source": [
    "def q_learn(iterations, q_values):\n",
    "    total_reward = 0\n",
    "    for i in range(iterations):\n",
    "        new_state = env.reset()\n",
    "        state = new_state \n",
    "        while True:\n",
    "            action = numpy.argmax(q_values[state])\n",
    "            new_state, reward, done, info = env.step(action)\n",
    "            q_values[state][action] = reward + 0.5*numpy.max(q_values[new_state]) + 0.5*q_values[state][action]\n",
    "            state = new_state\n",
    "            total_reward += reward\n",
    "            if done:\n",
    "                break\n",
    "    return q_values, total_reward"
   ]
  },
  {
   "cell_type": "code",
   "execution_count": null,
   "metadata": {
    "collapsed": true
   },
   "outputs": [],
   "source": []
  },
  {
   "cell_type": "code",
   "execution_count": 6,
   "metadata": {
    "collapsed": true
   },
   "outputs": [],
   "source": [
    "def dls(env_state, observation, curr_depth, max_depth):\n",
    "    value_list = list()\n",
    "    begin_state = copy(env)\n",
    "    state = copy(env_state)\n",
    "    if curr_depth == max_depth:\n",
    "        return s_values[observation]\n",
    "    else:\n",
    "        for i in range(env.action_space.n):\n",
    "            if curr_depth == 0:\n",
    "                new_observation, reward, done, info = begin_state.step(i)\n",
    "                state = copy(begin_state)\n",
    "            else:\n",
    "                new_observation, reward, done, info = state.step(i)\n",
    "            if done:\n",
    "                value = s_values[new_observation]\n",
    "            else:\n",
    "                value = reward + s_values[observation] + gamma * dls(state, new_observation, curr_depth+1, max_depth)\n",
    "            value_list.append(value)\n",
    "            state = copy(env)\n",
    "        value = numpy.mean(value_list)\n",
    "    return value\n",
    "\n",
    "    \n",
    "\n",
    "def dls_action(env_state, observation, max_depth):\n",
    "    # Do depth Limited Search till max_depth on the mb_internal_environment\n",
    "    value_list = numpy.zeros(env.action_space.n)\n",
    "    for i in range(env.action_space.n):\n",
    "        state = copy(env_state)\n",
    "        new_observation, reward, done, info = state.step(i)\n",
    "        value_list[i] = dls(state, new_observation, 0, max_depth)\n",
    "    action = numpy.random.choice(numpy.flatnonzero(value_list == value_list.max()))\n",
    "    return action"
   ]
  },
  {
   "cell_type": "code",
   "execution_count": 10,
   "metadata": {
    "collapsed": true
   },
   "outputs": [],
   "source": [
    "def dual(env, observation, max_depth, num_iters):\n",
    "    j = 0\n",
    "    reward_list = list()\n",
    "    for i in range(num_iters):\n",
    "        new_state = env.reset()  \n",
    "        state = new_state\n",
    "        sum_reward = 0\n",
    "        count = 0\n",
    "        while True:\n",
    "            if j%(i+1) == 0:\n",
    "                action = dls_action(env, observation, max_depth)\n",
    "                new_state, reward, done, info = env.step(action)\n",
    "                q_values[state][action] = reward + 0.5*numpy.max(q_values[new_state]) + 0.5*q_values[state][action]\n",
    "                sum_reward += reward\n",
    "\n",
    "                if done:\n",
    "                    reward_list.append(sum_reward)\n",
    "                    break\n",
    "            else:\n",
    "                action = numpy.argmax(q_values[state])\n",
    "                new_state, reward, done, info = env.step(action)\n",
    "                q_values[state][action] = reward + 0.5*numpy.max(q_values[new_state]) + 0.5*q_values[state][action]\n",
    "                state = new_state\n",
    "                sum_reward += reward\n",
    "                if done:\n",
    "                    reward_list.append(sum_reward)\n",
    "                    break\n",
    "            j += 1\n",
    "    return reward_list\n",
    "                "
   ]
  },
  {
   "cell_type": "code",
   "execution_count": 11,
   "metadata": {},
   "outputs": [],
   "source": [
    "action = env.action_space.sample()\n",
    "state = env.reset()"
   ]
  },
  {
   "cell_type": "code",
   "execution_count": 23,
   "metadata": {},
   "outputs": [],
   "source": [
    "values = dual(env, state, max_depth=4, num_iters=100)"
   ]
  },
  {
   "cell_type": "code",
   "execution_count": 24,
   "metadata": {},
   "outputs": [
    {
     "name": "stdout",
     "output_type": "stream",
     "text": [
      "-58.32\n"
     ]
    }
   ],
   "source": [
    "print (numpy.mean(values))"
   ]
  },
  {
   "cell_type": "code",
   "execution_count": null,
   "metadata": {},
   "outputs": [],
   "source": [
    "print (values[1])\n"
   ]
  },
  {
   "cell_type": "code",
   "execution_count": null,
   "metadata": {
    "collapsed": true
   },
   "outputs": [],
   "source": []
  }
 ],
 "metadata": {
  "kernelspec": {
   "display_name": "Python 3",
   "language": "python",
   "name": "python3"
  },
  "language_info": {
   "codemirror_mode": {
    "name": "ipython",
    "version": 3
   },
   "file_extension": ".py",
   "mimetype": "text/x-python",
   "name": "python",
   "nbconvert_exporter": "python",
   "pygments_lexer": "ipython3",
   "version": "3.6.0"
  }
 },
 "nbformat": 4,
 "nbformat_minor": 2
}
