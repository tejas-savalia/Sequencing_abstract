{
 "cells": [
  {
   "cell_type": "code",
   "execution_count": 64,
   "metadata": {
    "collapsed": false
   },
   "outputs": [
    {
     "name": "stderr",
     "output_type": "stream",
     "text": [
      "[2017-09-12 16:19:36,828] Making new env: FrozenLake-v0\n"
     ]
    }
   ],
   "source": [
    "import gym\n",
    "import numpy\n",
    "env = gym.make('FrozenLake-v0')\n",
    "new_state = env.reset()\n",
    "from copy import copy"
   ]
  },
  {
   "cell_type": "code",
   "execution_count": 109,
   "metadata": {
    "collapsed": false
   },
   "outputs": [],
   "source": [
    "q_values = numpy.zeros((env.observation_space.n, env.action_space.n))\n",
    "s_values = numpy.zeros((4, 4))"
   ]
  },
  {
   "cell_type": "code",
   "execution_count": 3,
   "metadata": {
    "collapsed": true
   },
   "outputs": [],
   "source": [
    "def q_learn(iterations, q_values):\n",
    "    total_reward = 0\n",
    "    for i in range(iterations):\n",
    "        new_state = env.reset()\n",
    "        state = new_state \n",
    "        for t in range(100):\n",
    "            \n",
    "            if numpy.random.random_sample() > (1 - i/100):\n",
    "                action = numpy.argmax(q_values[state])\n",
    "            else:\n",
    "                action = int(numpy.random.choice(q_values[state]))\n",
    "            new_state, reward, done, info = env.step(action)\n",
    "            q_values[state][action] = reward + 0.5*numpy.max(q_values[new_state]) + 0.5*q_values[state][action] - 0.01\n",
    "            state = new_state\n",
    "            if done:\n",
    "                if reward == 0:\n",
    "                    q_values[state][action] = -1\n",
    "                else:\n",
    "                    q_values[state][action] = 1\n",
    "                    total_reward += 1\n",
    "                break\n",
    "    return q_values, total_reward"
   ]
  },
  {
   "cell_type": "code",
   "execution_count": 102,
   "metadata": {
    "collapsed": false
   },
   "outputs": [],
   "source": [
    "def search(iterations, q_values):\n",
    "    total_reward = 0\n",
    "    for i in range(iterations):\n",
    "        new_state = env.reset()\n",
    "        env_state = copy(env)\n",
    "        state = new_state\n",
    "        for i in range(env.action_space.n):\n",
    "            q_values[state][i] = dls(state, i, env_state, q_values, 3, 0)\n",
    "        for t in range(100):\n",
    "            if numpy.random.random_sample() > (1 - i/100):\n",
    "                action = numpy.argmax(q_values[state])\n",
    "            else:\n",
    "                action = int(numpy.random.choice(q_values[state]))\n",
    "            new_state, reward, done, info = env.step(action)\n",
    "    return q_values, total_reward"
   ]
  },
  {
   "cell_type": "code",
   "execution_count": 107,
   "metadata": {
    "collapsed": false
   },
   "outputs": [],
   "source": [
    "def dls(state, action, env_state, q_values, max_depth, curr_depth):\n",
    "    value_list = list()\n",
    "    if curr_depth == max_depth:\n",
    "        return q_values[state][action]\n",
    "    new_state, new_reward, done, info = env_state.step(action)\n",
    "    for i in range(env.action_space.n):\n",
    "        value = q_values[state][action] + 0.9 * dls(new_state, i, env_state, q_values, max_depth, curr_depth+1)\n",
    "        value_list.append(value)\n",
    "    if value_list:\n",
    "        average_value = numpy.mean(numpy.array(value_list))\n",
    "    return average_value"
   ]
  },
  {
   "cell_type": "code",
   "execution_count": 108,
   "metadata": {
    "collapsed": false
   },
   "outputs": [
    {
     "name": "stdout",
     "output_type": "stream",
     "text": [
      "(array([[ 0.,  0.,  0.,  0.],\n",
      "       [ 0.,  0.,  0.,  0.],\n",
      "       [ 0.,  0.,  0.,  0.],\n",
      "       [ 0.,  0.,  0.,  0.],\n",
      "       [ 0.,  0.,  0.,  0.],\n",
      "       [ 0.,  0.,  0.,  0.],\n",
      "       [ 0.,  0.,  0.,  0.],\n",
      "       [ 0.,  0.,  0.,  0.],\n",
      "       [ 0.,  0.,  0.,  0.],\n",
      "       [ 0.,  0.,  0.,  0.],\n",
      "       [ 0.,  0.,  0.,  0.],\n",
      "       [ 0.,  0.,  0.,  0.],\n",
      "       [ 0.,  0.,  0.,  0.],\n",
      "       [ 0.,  0.,  0.,  0.],\n",
      "       [ 0.,  0.,  0.,  0.],\n",
      "       [ 0.,  0.,  0.,  0.]]), 0)\n"
     ]
    }
   ],
   "source": [
    "print search(10, q_values)"
   ]
  },
  {
   "cell_type": "code",
   "execution_count": 70,
   "metadata": {
    "collapsed": false
   },
   "outputs": [],
   "source": [
    "env_state = copy(env)"
   ]
  },
  {
   "cell_type": "code",
   "execution_count": 91,
   "metadata": {
    "collapsed": false
   },
   "outputs": [
    {
     "name": "stdout",
     "output_type": "stream",
     "text": [
      "12\n"
     ]
    }
   ],
   "source": [
    "print env_state.observation_space.sample()"
   ]
  },
  {
   "cell_type": "code",
   "execution_count": null,
   "metadata": {
    "collapsed": true
   },
   "outputs": [],
   "source": []
  }
 ],
 "metadata": {
  "kernelspec": {
   "display_name": "Python 2",
   "language": "python",
   "name": "python2"
  },
  "language_info": {
   "codemirror_mode": {
    "name": "ipython",
    "version": 2
   },
   "file_extension": ".py",
   "mimetype": "text/x-python",
   "name": "python",
   "nbconvert_exporter": "python",
   "pygments_lexer": "ipython2",
   "version": "2.7.13"
  }
 },
 "nbformat": 4,
 "nbformat_minor": 2
}
