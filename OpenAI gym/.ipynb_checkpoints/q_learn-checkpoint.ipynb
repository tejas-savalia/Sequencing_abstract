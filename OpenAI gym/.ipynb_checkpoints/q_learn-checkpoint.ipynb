{
 "cells": [
  {
   "cell_type": "code",
   "execution_count": 121,
   "metadata": {},
   "outputs": [
    {
     "name": "stderr",
     "output_type": "stream",
     "text": [
      "[2017-08-24 15:27:06,836] Making new env: FrozenLake-v0\n"
     ]
    }
   ],
   "source": [
    "import gym\n",
    "import numpy\n",
    "env = gym.make('FrozenLake-v0')\n",
    "new_state = env.reset()\n"
   ]
  },
  {
   "cell_type": "code",
   "execution_count": 246,
   "metadata": {},
   "outputs": [],
   "source": []
  },
  {
   "cell_type": "code",
   "execution_count": 247,
   "metadata": {},
   "outputs": [],
   "source": [
    "def q_learn(iterations, q_values):\n",
    "    total_reward = 0\n",
    "    for i in range(iterations):\n",
    "        new_state = env.reset()\n",
    "        state = new_state \n",
    "        for t in range(100):\n",
    "            if numpy.random.random_sample() > (1 - i/100):\n",
    "                action = numpy.argmax(q_values[state])\n",
    "            else:\n",
    "                action = int(numpy.random.choice(q_values[state]))\n",
    "            new_state, reward, done, info = env.step(action)\n",
    "            q_values[state][action] = reward + 0.5*numpy.max(q_values[new_state]) + 0.5*q_values[state][action] - 0.01\n",
    "            state = new_state\n",
    "            if done:\n",
    "                if reward == 0:\n",
    "                    q_values[state][action] = -1\n",
    "                else:\n",
    "                    q_values[state][action] = 1\n",
    "                    total_reward += 1\n",
    "                break\n",
    "    return q_values, total_reward"
   ]
  },
  {
   "cell_type": "code",
   "execution_count": 253,
   "metadata": {},
   "outputs": [
    {
     "name": "stdout",
     "output_type": "stream",
     "text": [
      "(array([[-1.09774162,  0.04472298, -1.09732304, -1.10193512],\n",
      "       [-1.09719862, -0.92735665, -1.09276472, -1.10103039],\n",
      "       [-1.07971417, -0.74611722, -1.08634474, -1.08455219],\n",
      "       [-1.0788538 , -1.03463151, -1.08060425, -1.07938565],\n",
      "       [-1.06389902, -0.57407805, -1.04524793, -1.05330705],\n",
      "       [-1.        , -1.        , -1.        , -1.        ],\n",
      "       [-1.01957831, -0.83261487, -1.02889947, -1.01866562],\n",
      "       [-1.        , -1.        , -1.        , -1.        ],\n",
      "       [-1.01941625,  0.09367283, -1.02922186, -1.02      ],\n",
      "       [-0.71006486,  1.96411261, -0.7017842 , -0.77981027],\n",
      "       [ 2.05881058, -1.        , -0.7326055 , -0.70979857],\n",
      "       [ 0.        ,  0.        , -1.        ,  0.        ],\n",
      "       [-1.        , -1.        , -1.        , -1.        ],\n",
      "       [-0.0275    , -0.515     ,  2.18891849, -0.02      ],\n",
      "       [-0.015     , -0.02      , -0.10983497,  2.62782432],\n",
      "       [ 0.        ,  0.        ,  1.        ,  1.        ]]), 114)\n"
     ]
    }
   ],
   "source": [
    "print (q_learn(1000, numpy.zeros((env.observation_space.n, env.action_space.n))))"
   ]
  },
  {
   "cell_type": "code",
   "execution_count": null,
   "metadata": {
    "collapsed": true
   },
   "outputs": [],
   "source": []
  }
 ],
 "metadata": {
  "kernelspec": {
   "display_name": "Python 3",
   "language": "python",
   "name": "python3"
  },
  "language_info": {
   "codemirror_mode": {
    "name": "ipython",
    "version": 3
   },
   "file_extension": ".py",
   "mimetype": "text/x-python",
   "name": "python",
   "nbconvert_exporter": "python",
   "pygments_lexer": "ipython3",
   "version": "3.6.0"
  }
 },
 "nbformat": 4,
 "nbformat_minor": 2
}
