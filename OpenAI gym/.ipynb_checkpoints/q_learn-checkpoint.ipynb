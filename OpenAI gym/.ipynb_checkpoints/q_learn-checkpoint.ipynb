{
 "cells": [
  {
   "cell_type": "code",
   "execution_count": 1,
   "metadata": {},
   "outputs": [
    {
     "name": "stderr",
     "output_type": "stream",
     "text": [
      "[2017-12-02 18:53:47,800] Making new env: Taxi-v2\n"
     ]
    }
   ],
   "source": [
    "import gym\n",
    "import numpy\n",
    "import scipy\n",
    "import matplotlib.pyplot as plt\n",
    "%matplotlib inline\n",
    "env = gym.make('Taxi-v2')\n",
    "new_state = env.reset()\n",
    "from copy import copy"
   ]
  },
  {
   "cell_type": "code",
   "execution_count": 2,
   "metadata": {},
   "outputs": [],
   "source": [
    "observation = env.reset()\n",
    "for i in range(100):\n",
    "    #env.render()\n",
    "    #print (observation)\n",
    "    action = env.action_space.sample()\n",
    "    observation, reward, done, info = env.step(action)\n",
    "    if done:\n",
    "        print (\"Done\")\n",
    "        break"
   ]
  },
  {
   "cell_type": "code",
   "execution_count": 3,
   "metadata": {
    "collapsed": true
   },
   "outputs": [],
   "source": [
    "q_values = numpy.random.rand(env.observation_space.n, env.action_space.n)\n",
    "s_values = numpy.random.rand(env.observation_space.n)\n",
    "gamma = 0.9\n",
    "alpha = 0.5"
   ]
  },
  {
   "cell_type": "code",
   "execution_count": 4,
   "metadata": {
    "collapsed": true
   },
   "outputs": [],
   "source": [
    "def q_learn(iterations, q_values):\n",
    "    total_reward = 0\n",
    "    for i in range(iterations):\n",
    "        new_state = env.reset()\n",
    "        state = new_state \n",
    "        while True:\n",
    "            action = numpy.argmax(q_values[state])\n",
    "            new_state, reward, done, info = env.step(action)\n",
    "            q_values[state][action] = reward + 0.5*numpy.max(q_values[new_state]) + 0.5*q_values[state][action]\n",
    "            state = new_state\n",
    "            total_reward += reward\n",
    "            if done:\n",
    "                break\n",
    "    return total_reward"
   ]
  },
  {
   "cell_type": "code",
   "execution_count": null,
   "metadata": {
    "collapsed": true
   },
   "outputs": [],
   "source": []
  },
  {
   "cell_type": "code",
   "execution_count": 5,
   "metadata": {},
   "outputs": [],
   "source": [
    "def dls(env_copy_1, new_state, curr_depth, max_depth):\n",
    "    value_list = list()\n",
    "    env_copy_2 = copy(env_copy_1)\n",
    "    if curr_depth == max_depth:\n",
    "        return s_values[new_state]\n",
    "    else:\n",
    "        for i in range(env.action_space.n):\n",
    "            new_state_1, reward, done, info = env_copy_2.step(i)\n",
    "                \n",
    "            if done:\n",
    "                value = s_values[new_state_1]\n",
    "            else:\n",
    "                value = reward + s_values[new_state] + gamma * dls(env_copy_2, new_state_1, curr_depth+1, max_depth)\n",
    "            value_list.append(value)\n",
    "            env_copy_2 = copy(env_copy_1)\n",
    "        value = numpy.mean(value_list)\n",
    "    return value\n",
    "\n",
    "    \n",
    "\n",
    "def dls_action(env_copy, state, max_depth):\n",
    "    # Do depth Limited Search till max_depth on the mb_internal_environment\n",
    "    value_list = numpy.zeros(env.action_space.n)\n",
    "    for i in range(env.action_space.n):\n",
    "        env_copy_1 = copy(env_copy)\n",
    "        new_state = state\n",
    "        value = 0\n",
    "        for _ in range(max_depth):\n",
    "            new_state, reward, done, info = env_copy.step(numpy.argmax(q_values[new_state]))\n",
    "            value += reward\n",
    "        value_list[i] = value\n",
    "    action = numpy.random.choice(numpy.flatnonzero(value_list == value_list.max()))\n",
    "    return action"
   ]
  },
  {
   "cell_type": "code",
   "execution_count": 15,
   "metadata": {},
   "outputs": [],
   "source": [
    "def dual(env, observation, max_depth, num_iters):\n",
    "    j = 0\n",
    "    sum_reward = 0\n",
    "    reward_list = list()\n",
    "    for i in range(num_iters):\n",
    "        new_state = env.reset()  \n",
    "        env_copy = copy(env)        \n",
    "        state = new_state\n",
    "        reward_list.append(sum_reward)\n",
    "        sum_reward = 0\n",
    "        while True:\n",
    "            j += 1\n",
    "            if True:\n",
    "                action = dls_action(env_copy, state, max_depth)\n",
    "                new_state, reward, done, info = env.step(action)\n",
    "                q_values[state][action] = reward + 0.5*numpy.max(q_values[new_state]) + 0.5*q_values[state][action]\n",
    "                s_values[state] = (1/env.action_space.n) * q_values[state][action] + (env.action_space.n - 1)/env.action_space.n * s_values[state]\n",
    "                sum_reward += reward\n",
    "                state = new_state\n",
    "            else:\n",
    "                action = numpy.argmax(q_values[state])\n",
    "                new_state, reward, done, info = env.step(action)\n",
    "                q_values[state][action] = reward + 0.5*numpy.max(q_values[new_state]) + 0.5*q_values[state][action]\n",
    "                s_values[state] = (1/env.action_space.n) * q_values[state][action] + (env.action_space.n - 1)/env.action_space.n * s_values[state]\n",
    "                state = new_state\n",
    "                sum_reward += reward\n",
    "            if done:\n",
    "                break\n",
    "    return reward_list\n",
    "                "
   ]
  },
  {
   "cell_type": "code",
   "execution_count": 16,
   "metadata": {
    "collapsed": true
   },
   "outputs": [],
   "source": [
    "action = env.action_space.sample()\n",
    "observation = env.reset()\n"
   ]
  },
  {
   "cell_type": "code",
   "execution_count": 22,
   "metadata": {},
   "outputs": [],
   "source": [
    "values = dual(env, observation, max_depth=50, num_iters=50)"
   ]
  },
  {
   "cell_type": "code",
   "execution_count": 25,
   "metadata": {},
   "outputs": [
    {
     "name": "stdout",
     "output_type": "stream",
     "text": [
      "-343.56\n"
     ]
    }
   ],
   "source": [
    "print (numpy.mean(values))"
   ]
  },
  {
   "cell_type": "code",
   "execution_count": null,
   "metadata": {},
   "outputs": [],
   "source": [
    "print (dls_action(env, env.reset(), 4))"
   ]
  },
  {
   "cell_type": "code",
   "execution_count": null,
   "metadata": {},
   "outputs": [],
   "source": [
    "env.reset()\n",
    "print (q_learn(1, q_values))"
   ]
  },
  {
   "cell_type": "code",
   "execution_count": 26,
   "metadata": {},
   "outputs": [
    {
     "name": "stdout",
     "output_type": "stream",
     "text": [
      "[  5.26739424e-01  -5.63214027e+00  -3.08683987e+00  -2.05078067e+00\n",
      "   2.63808291e-01   7.86796922e-02  -7.78317505e+00  -1.24506897e+01\n",
      "  -5.30854853e+00  -1.52319740e+01   6.02901361e-01  -1.11126357e+01\n",
      "   3.27684499e-01  -1.18185935e+01  -4.81844059e+00   6.21234152e-01\n",
      "   2.50100615e+02  -2.34493505e+00  -2.53467296e+00  -3.84951140e+00\n",
      "   1.31355958e-01  -6.54885352e+00  -7.20532608e+00  -1.65111128e+00\n",
      "   7.62186350e-01   9.50180469e-01  -1.09567607e+01  -1.33823697e+01\n",
      "  -1.34766667e+01  -1.11626643e+01   4.56874928e-01  -9.52630498e+00\n",
      "   1.24014757e+00  -7.99742500e+00  -2.06193406e+00   1.26484740e-01\n",
      "   2.22874809e+02  -4.56161536e+00   9.23500230e+00  -4.22901383e+00\n",
      "   9.26261032e-01  -5.75115922e+00  -7.38284563e+00  -6.33683898e+00\n",
      "   2.82766580e+01   7.35115195e-01  -1.11061062e+01  -1.15235228e+01\n",
      "  -7.32857780e+00  -1.18067531e+01   5.27492917e-01  -7.31919979e+00\n",
      "   7.92334757e+00  -8.25718691e+00   3.97933069e-01   8.15471865e-01\n",
      "   1.27940229e+02   2.53694241e+01   3.16045848e-01  -3.28705585e+00\n",
      "   5.33976464e-01  -6.05988220e+00  -7.56323868e+00  -7.35908877e+00\n",
      "   1.10313308e+02   8.62424120e-01  -9.65714296e+00  -1.62334631e+01\n",
      "  -6.80400653e+00  -1.17480091e+01   6.56577928e-01  -1.27210674e+01\n",
      "   1.49971161e+01  -1.23147185e+01  -5.54641123e-01   9.84057895e-01\n",
      "   2.08858947e+02   9.63340136e+01  -1.42254748e-01   5.36187553e+00\n",
      "   6.03119071e-01  -5.50606741e+00  -1.00632149e+01  -7.72487773e+00\n",
      "   1.82527267e+02   1.07162051e-01  -4.65599696e+00  -7.30222008e+00\n",
      "  -1.00926722e+01  -6.06978168e+00   7.69017560e-01  -8.57369845e+00\n",
      "   2.83266853e+01  -1.35296446e+01  -3.91712454e+00   4.90305085e-01\n",
      "   2.15699879e+02   1.07931479e+02  -2.79730776e+00   9.98957256e+00\n",
      "   2.29556469e-01  -2.87792511e+00   2.00958691e+00  -5.31017926e+00\n",
      "   1.91357511e+01   2.97421159e-01  -4.98230069e+00  -1.43872706e+01\n",
      "  -6.43994788e+00  -1.04371552e+01   8.83578969e-01  -1.03297662e+01\n",
      "   5.38604831e+00  -3.29075926e+00  -2.91024382e+00   3.63482053e-01\n",
      "   1.54349688e+02  -3.97642269e+00   1.70577638e+01  -4.53836846e+00\n",
      "   8.87864783e-01  -1.35845147e+00  -9.25067612e+00  -5.48371436e+00\n",
      "   3.48804328e+00   4.19067694e-01  -1.03610580e+01  -1.16003659e+01\n",
      "  -8.20831098e+00  -6.39216958e+00   5.09641590e-01  -1.60284472e+01\n",
      "   1.86050956e+00   1.39696107e+00  -1.17394166e+00   5.78318594e-02\n",
      "   9.69207506e+01  -6.67172119e+00   1.66706710e+01  -6.92761957e+00\n",
      "   9.57720931e-01  -2.47557686e+00  -5.10503534e+00  -6.59023345e+00\n",
      "   1.36116473e+01   6.59830971e-01  -6.82769828e+00  -1.35124263e+01\n",
      "  -3.32072232e+00  -9.61548150e+00   6.01075029e-01  -1.06498356e+01\n",
      "   1.19884936e+01  -6.28738673e+00   9.14940079e-01   8.95846751e-01\n",
      "   1.95553754e+02  -3.12094515e+00   1.60048207e+01  -5.88292228e+00\n",
      "   5.86001883e-01  -1.71089540e+00  -6.25489015e+00  -4.35358607e+00\n",
      "   6.41648347e+01   4.51161014e-01  -9.86996307e+00  -1.68353544e+01\n",
      "  -5.19842402e+00  -1.37580833e+01   5.33054973e-01  -8.66139892e+00\n",
      "   2.20296750e+01  -7.76910976e+00  -6.42263926e+00   1.25723080e-02\n",
      "   2.13657173e+02   7.67011360e+00   3.06818436e+00   1.80967892e+00\n",
      "   6.24001211e-01  -9.96862329e+00  -7.68531971e+00  -6.66470987e+00\n",
      "   1.43834707e+02   3.89387972e-02  -5.72735064e+00  -1.27062230e+01\n",
      "  -6.86307885e+00  -7.44062701e+00   3.03616267e-01  -1.20785689e+01\n",
      "   3.25464870e+01  -1.17996034e+01  -8.09636177e+00   3.59642242e-01\n",
      "   2.14914502e+02   5.46602642e+01  -2.10379274e-01   4.00453341e+00\n",
      "   8.40398631e-01  -2.87131695e+00   6.45550428e+00  -7.04921990e+00\n",
      "  -3.49527325e+00   5.26976769e-01  -4.05143613e+00  -1.41489079e+01\n",
      "   9.79541938e-02  -8.62878067e+00   6.66305415e-01  -7.86703862e+00\n",
      "   2.82792649e+00  -1.00480614e+01  -4.09128852e+00   8.42334588e-01\n",
      "   9.98819099e+00  -2.56151869e+00   1.43723189e+00  -2.14648886e+00\n",
      "   6.21944567e-03  -1.26377318e+00   3.89951873e+00  -3.32597060e+00\n",
      "   3.15947422e+00   2.63927452e-02  -8.03048993e+00  -2.11553359e+01\n",
      "  -1.86415083e+00  -6.07165564e+00   5.34983501e-01  -9.53117223e+00\n",
      "  -8.08475056e-01  -3.70463037e+00  -1.21001206e+00   5.65684976e-01\n",
      "   1.02230769e+01   1.07691886e+00   2.17976023e+00  -5.60049970e+00\n",
      "   9.93532021e-01  -2.08054955e+00  -4.29951639e+00  -8.03441826e+00\n",
      "   1.05412926e+01   9.87769576e-02  -1.27069153e+01  -1.06289616e+01\n",
      "  -1.56933492e+00  -6.14901144e+00   8.26770659e-01  -1.63840009e+01\n",
      "  -5.88049700e+00  -4.64320650e+00  -1.33875918e+00   6.47992752e-01\n",
      "   1.12009955e+02  -5.69441346e+00  -1.99291153e-02  -3.58972651e+00\n",
      "   7.62504261e-01  -3.32025000e+00  -7.44400756e+00  -7.26916732e+00\n",
      "   5.77632260e+01   8.30290893e-01  -6.93771336e+00  -1.14848714e+01\n",
      "  -3.85382993e+00  -8.37977462e+00   7.43439409e-01  -1.40584202e+01\n",
      "   1.06636919e+01  -9.04248708e+00  -3.85390381e+00   3.92460961e-01\n",
      "   2.09293631e+02  -6.31456997e+00   5.77031169e+00  -4.21284409e+00\n",
      "   5.07700099e-01  -1.88001258e+00  -7.80364959e+00  -2.95717854e+00\n",
      "   1.00935949e+02   7.44908933e-01  -7.59743890e+00  -1.10002692e+01\n",
      "  -2.93429395e+00  -3.66602707e+00   8.09345671e-01  -1.22958036e+01\n",
      "   1.35858268e+01  -7.71818434e+00  -8.27534892e+00   9.86051822e-01\n",
      "   2.18401926e+02   1.08324041e+01   2.20320567e+00  -5.26819497e+00\n",
      "   1.73821139e-01  -1.66497108e+00   6.54512873e+00  -7.00802206e+00\n",
      "  -6.75268962e+00   6.66756059e-01  -7.32489155e+00  -1.63741361e+01\n",
      "  -1.09672724e+00  -1.14879460e+01   9.80109159e-02  -1.09899888e+01\n",
      "  -3.81411849e-01  -1.14222153e+01  -8.12279271e+00   3.44831839e-01\n",
      "  -2.77577399e-02  -8.62066144e+00   3.45462227e+01  -4.68386293e+00\n",
      "   9.58437844e-01  -7.37860812e-01  -2.10990087e+00  -7.08877937e+00\n",
      "   8.93881431e+00   5.02942554e-01  -7.00561109e+00  -9.84429657e+00\n",
      "  -1.04239211e+01  -7.85983488e+00   5.80030254e-01  -1.53923707e+01\n",
      "  -6.33640304e+00  -8.16166935e+00  -4.14144570e+00   8.80761373e-01\n",
      "  -7.79994488e+00  -5.06972664e-01  -4.41493182e+00  -6.50479673e+00\n",
      "   3.33362576e-01  -9.05005710e-01  -2.88669032e+00  -6.31389997e+00\n",
      "   1.87430189e+01   3.15880550e-01  -6.76073974e+00  -1.15000469e+01\n",
      "  -4.45862189e+00  -7.01313560e+00   6.83478894e-02  -7.57803372e+00\n",
      "  -6.69072828e+00  -1.26901043e+01   1.70847701e-01   2.80783341e-01\n",
      "  -1.01493825e+00  -2.95859324e+00  -5.45141209e+00  -7.44778263e+00\n",
      "   3.68735149e-01  -6.08128059e+00  -9.58200661e+00  -8.37431696e+00\n",
      "   3.30014319e+01   7.80002272e-01  -7.75825185e+00  -1.26935700e+01\n",
      "  -5.11138638e+00  -4.59008036e+00   4.65553841e-01  -1.25504265e+01\n",
      "   7.51649905e+01   1.37237249e+01  -2.52155251e+00   1.20114120e-01\n",
      "   1.85259791e+02   2.50806110e+01   1.10030134e+01   2.73422907e+01\n",
      "   7.93311824e-02  -2.73877002e+00  -9.93770073e+00  -8.31887069e+00\n",
      "   6.10479112e+01   1.02061328e-01  -8.97794338e+00  -1.70612891e+01\n",
      "  -8.48078750e+00  -9.04008616e+00   1.60471105e-01  -1.08867259e+01\n",
      "   1.92691018e+01  -1.43852015e+00  -2.82583687e+00   3.98469371e-01\n",
      "   2.06589736e+02   5.49565449e+01   4.87562881e+00   2.32437870e+01\n",
      "   2.97824713e-01  -5.29720893e+00   3.25977311e+00  -7.93109786e+00\n",
      "  -4.94307578e+00   6.53819865e-01  -4.78203373e+00  -1.40447114e+01\n",
      "  -3.96932172e+00  -5.56659360e+00   6.24219075e-01  -7.21449953e+00\n",
      "  -1.04724080e+01  -1.12313389e+01  -6.41358463e+00   3.83691274e-01\n",
      "   2.13691185e-01  -4.27321478e+00   6.46322160e+01  -5.73631731e+00\n",
      "   8.04195984e-01  -3.20279089e-01  -5.91604134e+00  -7.98559171e+00\n",
      "   1.17809451e+01   6.31038159e-01  -8.15240332e+00  -1.40131478e+01\n",
      "  -7.64538406e+00  -9.47749231e+00   9.23823908e-01  -1.24760157e+01\n",
      "  -2.46653427e+00  -8.16614536e+00  -7.83083603e+00   2.58177747e-01\n",
      "  -5.34871998e+00  -7.39747245e-01  -4.74291375e+00  -1.04563929e+01\n",
      "   6.31291164e-01  -1.05145942e+00  -4.93956007e+00  -4.84547733e+00\n",
      "   2.26776974e+01   6.62336322e-01  -9.57208401e+00  -1.19877712e+01\n",
      "  -3.61407629e+00  -8.13924150e+00   3.92181742e-01  -1.12661406e+01\n",
      "  -9.66473673e+00  -1.21558088e+01  -7.34737862e+00   6.95518640e-01\n",
      "  -5.16055769e-02  -3.67597960e+00  -6.11875266e+00  -7.82283303e+00\n",
      "   1.19631212e-01  -3.06246230e+00  -8.02970569e+00  -4.20022188e+00\n",
      "   1.96415222e+01   3.11888954e-01  -8.13636461e+00  -1.60823474e+01\n",
      "  -5.58723352e+00  -8.54577749e+00   1.61269802e-01  -1.09566465e+01\n",
      "   9.53458444e+01   3.40974629e+01   3.77498069e+00   8.37291560e-01\n",
      "   1.41564341e+02   7.67578963e+01   5.61044597e+00   5.46260737e+01\n",
      "   4.22130299e-01  -6.30804055e+00  -6.37426877e+00  -8.25428961e+00\n",
      "   3.37944037e+01   9.68809260e-03  -9.12113324e+00  -1.11030558e+01\n",
      "  -5.14954346e+00  -6.83697675e+00   9.91070771e-01  -1.46377269e+01\n",
      "   7.82631221e+01   1.87682028e+01  -1.17094419e+00   8.62049015e-01\n",
      "   1.66170949e+02   8.45192209e+01   2.44828378e+00   3.66974805e+01]\n"
     ]
    }
   ],
   "source": [
    "print (s_values)"
   ]
  },
  {
   "cell_type": "code",
   "execution_count": null,
   "metadata": {
    "collapsed": true
   },
   "outputs": [],
   "source": []
  }
 ],
 "metadata": {
  "kernelspec": {
   "display_name": "Python 3",
   "language": "python",
   "name": "python3"
  },
  "language_info": {
   "codemirror_mode": {
    "name": "ipython",
    "version": 3
   },
   "file_extension": ".py",
   "mimetype": "text/x-python",
   "name": "python",
   "nbconvert_exporter": "python",
   "pygments_lexer": "ipython3",
   "version": "3.6.0"
  }
 },
 "nbformat": 4,
 "nbformat_minor": 2
}
