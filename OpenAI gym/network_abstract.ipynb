{
 "cells": [
  {
   "cell_type": "code",
   "execution_count": 1,
   "metadata": {
    "collapsed": true
   },
   "outputs": [],
   "source": [
    "import nengo\n",
    "import matplotlib.pyplot as plt\n",
    "import numpy\n",
    "import gym\n",
    "import math\n",
    "%matplotlib inline"
   ]
  },
  {
   "cell_type": "markdown",
   "metadata": {},
   "source": [
    "# Network details\n",
    "\n",
    "## Goal Directed/Model-Based\n",
    "\n",
    "1. LatPFC Maintains a repository representing the environment. Repository of all states and actions.\n",
    "   Receives cues from the environment and maintains it\n",
    "   Receives SPE from preSMA and/or pIPS\n",
    "   \n",
    "2. LatOFC receives the repository and State Prediction Error from LatPFC and maintains a map of the environment. Something like an internal environment. Updates trainsition probabilities by SPE and updates reward values from dopamine errors.\n",
    "\n",
    "3. mOFC uses the internal environment from map from LatOFC to do state space search. Receives dopamine errors and passes it to LatOFC to update the internal environment. Passes expected value of the next state after DFS to vmPFC.\n",
    "\n",
    "4. vmPFC maintains the expected value and passes it to the striatum. Updates expected value for that state from dopamne errors from the striatum and passes it to mOFC.\n",
    "\n",
    "5. DMS represents expected value. Modulated by Dopamine. Passes it back to vmPFC\n",
    "\n",
    "6. preSMA/pIPS compare expected state and actual and generates SPE. Passes SPE to latPFC.\n",
    "\n",
    "## Habitual/Model-Free\n",
    "\n",
    "1. latPFC maintains the repository of states and passes cue and the repository to dlPFC.\n",
    "\n",
    "2. dlPFC maintains q_values. Constructs them using the repository from latPFC and dopamine errors from DLS. Uses the cue to decide which value to pass to the DLS.\n",
    "\n",
    "3. DLS represents expected q_value. Modulated by Dopamine. Passes it back to dlPFC"
   ]
  },
  {
   "cell_type": "code",
   "execution_count": 2,
   "metadata": {
    "collapsed": false
   },
   "outputs": [
    {
     "name": "stderr",
     "output_type": "stream",
     "text": [
      "[2017-09-05 17:46:17,608] Making new env: FrozenLake-v0\n"
     ]
    }
   ],
   "source": [
    "env = gym.make(\"FrozenLake-v0\")\n",
    "state = env.reset()"
   ]
  },
  {
   "cell_type": "code",
   "execution_count": 3,
   "metadata": {
    "collapsed": true
   },
   "outputs": [],
   "source": [
    "def to_discrete(vector):\n",
    "    discrete = vector[0]*4 + vector[1]\n",
    "    return discrete\n",
    "\n",
    "def to_vector(discrete):\n",
    "    vector = numpy.zeros((1, 2))\n",
    "    vector[1] = discrete%4\n",
    "    vector[0] = int(discrete/4)\n",
    "    return vector\n"
   ]
  },
  {
   "cell_type": "code",
   "execution_count": 4,
   "metadata": {
    "collapsed": false
   },
   "outputs": [],
   "source": [
    "class latPFC:\n",
    "    \n",
    "    def __init__(self):\n",
    "        self.state_repo = list()\n",
    "        self.action_repo = list()\n",
    "        \n",
    "    def build_state_repo(self, env):\n",
    "        for i in range(env.observation_space.n/4):\n",
    "            for j in range(env.observation_space.n/4):\n",
    "                self.state_repo.append([i, j])\n",
    "        self.state_repo = numpy.array(self.state_repo)\n",
    "\n",
    "    def bulid_action_repo(self, env):\n",
    "        for i in range(env.action_space.n/4):\n",
    "            for j in range(env.action_space.n/4):\n",
    "                self.action_repo.append([i, j])\n",
    "        self.action_repo = numpy.array(self.action_repo)\n",
    "    \n",
    "    def get_cue(self, cue):\n",
    "        self.state = env.observation_space.sample()\n",
    "    \n",
    "    def calc_spe(self, exp_state, actual_state):\n",
    "        if exp_state == actual_state:\n",
    "            self.spe = 0\n",
    "        else:\n",
    "            self.spe = 1\n",
    "        return spe\n",
    "    "
   ]
  },
  {
   "cell_type": "code",
   "execution_count": 5,
   "metadata": {
    "collapsed": false
   },
   "outputs": [],
   "source": [
    "#spe is the state prediction error. 1 or 0. 1 is no error\n",
    "#states is matrix of value for each state\n",
    "#actions is actions in order \"left, down, right, up\"\n",
    "\n",
    "class latOFC:\n",
    "    def __init__(self, state_repo, action_repo, spe):\n",
    "        self.spe = spe\n",
    "        self.spe_sum = 0\n",
    "        self.count = 0\n",
    "        self.states = numpy.zeros((len(state_repo)/4, len(state_repo)/4))\n",
    "        self.states[0][1] = 1\n",
    "        self.states[0][2] = 1\n",
    "        self.actions = numpy.array([[0, -1], [1, 0], [0, 1], [-1, 0]])\n",
    "        self.transition_prob = 1.0\n",
    "\n",
    "        \n",
    "    def update_transition_prob(self, spe):\n",
    "        self.count += 1\n",
    "        self.spe_sum += spe\n",
    "        self.transition_prob = float(self.spe_sum)/self.count\n",
    "    \n",
    "    @classmethod\n",
    "    def transition(self, state, action, transition_prob):\n",
    "        if numpy.random.rand() < transition_prob:\n",
    "            temp = numpy.add(state, action)\n",
    "            if temp[0] > 3 or temp[1] > 3 or temp[0] < 0 or temp[1] < 0:\n",
    "                new_state = state\n",
    "            else:\n",
    "                new_state = temp\n",
    "            \n",
    "        else:\n",
    "            rand_action = self.actions[env.action_space.sample()]\n",
    "            temp = self.states[numpy.add(state, rand_action)]\n",
    "            if temp[0] > 3 or temp[1] > 3 or temp[1] < 0 or temp[1] < 0:\n",
    "                new_state = state\n",
    "            else:\n",
    "                new_state = temp\n",
    "        return new_state                            \n",
    "\n",
    "       "
   ]
  },
  {
   "cell_type": "code",
   "execution_count": 59,
   "metadata": {
    "collapsed": false
   },
   "outputs": [],
   "source": [
    "class mOFC:\n",
    "    #transition_prob, states and actions received from latPFC\n",
    "    def __init__(self, transition_prob, states, actions):\n",
    "        self.transition_prob = transition_prob\n",
    "        self.states = states\n",
    "        print states\n",
    "        self.actions = actions\n",
    "\n",
    "    \n",
    "    #calculate value of current state using depth limited search\n",
    "    @classmethod\n",
    "    def dls(self, curr_state, curr_depth, max_depth):\n",
    "        value_list = list()\n",
    "        if curr_depth == max_depth:\n",
    "            return self.states[curr_state[0]][curr_state[1]]\n",
    "        else:\n",
    "            for i in self.actions:\n",
    "                next_state = latOFC.transition(curr_state, i, self.transition_prob)\n",
    "                #if list(next_state) in visited:\n",
    "                 #   continue\n",
    "                value = self.states[next_state[0]][next_state[1]] + 0.9*self.dls(next_state, curr_depth+1, max_depth)\n",
    "                value_list.append(value)\n",
    "            if value_list:\n",
    "                average_value = numpy.mean(numpy.array(value_list))\n",
    "        return average_value\n",
    "    \n",
    "    def value_of_action(self, curr_state):\n",
    "        value_list = list()\n",
    "        for i in self.actions:\n",
    "            next_state = latOFC.transition(curr_state, i, self.transition_prob)\n",
    "            value_list.append(self.dls(next_state, 0, 3, self.visited))\n",
    "        return value_list\n",
    "        "
   ]
  },
  {
   "cell_type": "code",
   "execution_count": 80,
   "metadata": {
    "collapsed": false
   },
   "outputs": [],
   "source": [
    "class vmPFC(mOFC):\n",
    "    def __init__(self, states, actions, curr_state, transition_prob):\n",
    "        mOFC.__init__(self, transition_prob, states, actions)\n",
    "        self.curr_state = curr_state\n",
    "    def value_of_actions(self):\n",
    "        value_list = list()\n",
    "        for i in self.actions:\n",
    "            next_state = latOFC.transition(self.curr_state, i, self.transition_prob)\n",
    "            value_list.append(self.dls(next_state, 0, 3))"
   ]
  },
  {
   "cell_type": "code",
   "execution_count": 70,
   "metadata": {
    "collapsed": false
   },
   "outputs": [],
   "source": [
    "a = latPFC()"
   ]
  },
  {
   "cell_type": "code",
   "execution_count": 71,
   "metadata": {
    "collapsed": false
   },
   "outputs": [],
   "source": [
    "a.build_state_repo(env)\n",
    "a.bulid_action_repo(env)"
   ]
  },
  {
   "cell_type": "code",
   "execution_count": 72,
   "metadata": {
    "collapsed": false
   },
   "outputs": [],
   "source": [
    "b = latOFC(a.state_repo, a.action_repo, 0)"
   ]
  },
  {
   "cell_type": "code",
   "execution_count": 77,
   "metadata": {
    "collapsed": false
   },
   "outputs": [
    {
     "name": "stdout",
     "output_type": "stream",
     "text": [
      "[[ 0.  1.  1.  0.]\n",
      " [ 0.  0.  0.  0.]\n",
      " [ 0.  0.  0.  0.]\n",
      " [ 0.  0.  0.  0.]]\n"
     ]
    }
   ],
   "source": [
    "c = mOFC(1.0, b.states, b.actions)"
   ]
  },
  {
   "cell_type": "code",
   "execution_count": 81,
   "metadata": {
    "collapsed": false
   },
   "outputs": [
    {
     "name": "stdout",
     "output_type": "stream",
     "text": [
      "[[ 0.  1.  1.  0.]\n",
      " [ 0.  0.  0.  0.]\n",
      " [ 0.  0.  0.  0.]\n",
      " [ 0.  0.  0.  0.]]\n"
     ]
    }
   ],
   "source": [
    "d = vmPFC(c.states, c.actions, numpy.array([1, 0]), 1.0)"
   ]
  },
  {
   "cell_type": "code",
   "execution_count": 82,
   "metadata": {
    "collapsed": false
   },
   "outputs": [
    {
     "ename": "AttributeError",
     "evalue": "class vmPFC has no attribute 'actions'",
     "output_type": "error",
     "traceback": [
      "\u001b[0;31m---------------------------------------------------------------------------\u001b[0m",
      "\u001b[0;31mAttributeError\u001b[0m                            Traceback (most recent call last)",
      "\u001b[0;32m<ipython-input-82-c8c21a195a70>\u001b[0m in \u001b[0;36m<module>\u001b[0;34m()\u001b[0m\n\u001b[0;32m----> 1\u001b[0;31m \u001b[0;32mprint\u001b[0m \u001b[0md\u001b[0m\u001b[0;34m.\u001b[0m\u001b[0mvalue_of_actions\u001b[0m\u001b[0;34m(\u001b[0m\u001b[0;34m)\u001b[0m\u001b[0;34m\u001b[0m\u001b[0m\n\u001b[0m",
      "\u001b[0;32m<ipython-input-80-835264061ffc>\u001b[0m in \u001b[0;36mvalue_of_actions\u001b[0;34m(self)\u001b[0m\n\u001b[1;32m      7\u001b[0m         \u001b[0;32mfor\u001b[0m \u001b[0mi\u001b[0m \u001b[0;32min\u001b[0m \u001b[0mself\u001b[0m\u001b[0;34m.\u001b[0m\u001b[0mactions\u001b[0m\u001b[0;34m:\u001b[0m\u001b[0;34m\u001b[0m\u001b[0m\n\u001b[1;32m      8\u001b[0m             \u001b[0mnext_state\u001b[0m \u001b[0;34m=\u001b[0m \u001b[0mlatOFC\u001b[0m\u001b[0;34m.\u001b[0m\u001b[0mtransition\u001b[0m\u001b[0;34m(\u001b[0m\u001b[0mself\u001b[0m\u001b[0;34m.\u001b[0m\u001b[0mcurr_state\u001b[0m\u001b[0;34m,\u001b[0m \u001b[0mi\u001b[0m\u001b[0;34m,\u001b[0m \u001b[0mself\u001b[0m\u001b[0;34m.\u001b[0m\u001b[0mtransition_prob\u001b[0m\u001b[0;34m)\u001b[0m\u001b[0;34m\u001b[0m\u001b[0m\n\u001b[0;32m----> 9\u001b[0;31m             \u001b[0mvalue_list\u001b[0m\u001b[0;34m.\u001b[0m\u001b[0mappend\u001b[0m\u001b[0;34m(\u001b[0m\u001b[0mself\u001b[0m\u001b[0;34m.\u001b[0m\u001b[0mdls\u001b[0m\u001b[0;34m(\u001b[0m\u001b[0mnext_state\u001b[0m\u001b[0;34m,\u001b[0m \u001b[0;36m0\u001b[0m\u001b[0;34m,\u001b[0m \u001b[0;36m3\u001b[0m\u001b[0;34m)\u001b[0m\u001b[0;34m)\u001b[0m\u001b[0;34m\u001b[0m\u001b[0m\n\u001b[0m",
      "\u001b[0;32m<ipython-input-59-b3d1cac27a5c>\u001b[0m in \u001b[0;36mdls\u001b[0;34m(self, curr_state, curr_depth, max_depth)\u001b[0m\n\u001b[1;32m     15\u001b[0m             \u001b[0;32mreturn\u001b[0m \u001b[0mself\u001b[0m\u001b[0;34m.\u001b[0m\u001b[0mstates\u001b[0m\u001b[0;34m[\u001b[0m\u001b[0mcurr_state\u001b[0m\u001b[0;34m[\u001b[0m\u001b[0;36m0\u001b[0m\u001b[0;34m]\u001b[0m\u001b[0;34m]\u001b[0m\u001b[0;34m[\u001b[0m\u001b[0mcurr_state\u001b[0m\u001b[0;34m[\u001b[0m\u001b[0;36m1\u001b[0m\u001b[0;34m]\u001b[0m\u001b[0;34m]\u001b[0m\u001b[0;34m\u001b[0m\u001b[0m\n\u001b[1;32m     16\u001b[0m         \u001b[0;32melse\u001b[0m\u001b[0;34m:\u001b[0m\u001b[0;34m\u001b[0m\u001b[0m\n\u001b[0;32m---> 17\u001b[0;31m             \u001b[0;32mfor\u001b[0m \u001b[0mi\u001b[0m \u001b[0;32min\u001b[0m \u001b[0mself\u001b[0m\u001b[0;34m.\u001b[0m\u001b[0mactions\u001b[0m\u001b[0;34m:\u001b[0m\u001b[0;34m\u001b[0m\u001b[0m\n\u001b[0m\u001b[1;32m     18\u001b[0m                 \u001b[0mnext_state\u001b[0m \u001b[0;34m=\u001b[0m \u001b[0mlatOFC\u001b[0m\u001b[0;34m.\u001b[0m\u001b[0mtransition\u001b[0m\u001b[0;34m(\u001b[0m\u001b[0mcurr_state\u001b[0m\u001b[0;34m,\u001b[0m \u001b[0mi\u001b[0m\u001b[0;34m,\u001b[0m \u001b[0mself\u001b[0m\u001b[0;34m.\u001b[0m\u001b[0mtransition_prob\u001b[0m\u001b[0;34m)\u001b[0m\u001b[0;34m\u001b[0m\u001b[0m\n\u001b[1;32m     19\u001b[0m                 \u001b[0;31m#if list(next_state) in visited:\u001b[0m\u001b[0;34m\u001b[0m\u001b[0;34m\u001b[0m\u001b[0m\n",
      "\u001b[0;31mAttributeError\u001b[0m: class vmPFC has no attribute 'actions'"
     ]
    }
   ],
   "source": [
    "print d.value_of_actions()"
   ]
  },
  {
   "cell_type": "code",
   "execution_count": null,
   "metadata": {
    "collapsed": false
   },
   "outputs": [],
   "source": [
    "print b.transition(numpy.array([1, 1]), numpy.array([0, -1]), 1.0)"
   ]
  },
  {
   "cell_type": "code",
   "execution_count": null,
   "metadata": {
    "collapsed": false
   },
   "outputs": [],
   "source": []
  },
  {
   "cell_type": "code",
   "execution_count": null,
   "metadata": {
    "collapsed": true
   },
   "outputs": [],
   "source": []
  }
 ],
 "metadata": {
  "kernelspec": {
   "display_name": "Python 2",
   "language": "python",
   "name": "python2"
  },
  "language_info": {
   "codemirror_mode": {
    "name": "ipython",
    "version": 2
   },
   "file_extension": ".py",
   "mimetype": "text/x-python",
   "name": "python",
   "nbconvert_exporter": "python",
   "pygments_lexer": "ipython2",
   "version": "2.7.13"
  }
 },
 "nbformat": 4,
 "nbformat_minor": 2
}
