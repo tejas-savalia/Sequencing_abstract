{
 "cells": [
  {
   "cell_type": "code",
   "execution_count": 1,
   "metadata": {
    "collapsed": true
   },
   "outputs": [],
   "source": [
    "import nengo\n",
    "import matplotlib.pyplot as plt\n",
    "import numpy\n",
    "import gym\n",
    "import math\n",
    "%matplotlib inline"
   ]
  },
  {
   "cell_type": "markdown",
   "metadata": {},
   "source": [
    "# Network details\n",
    "\n",
    "## Goal Directed/Model-Based\n",
    "\n",
    "1. LatPFC Maintains a repository representing the environment. Repository of all states and actions.\n",
    "   Receives cues from the environment and maintains it\n",
    "   Receives SPE from preSMA and/or pIPS\n",
    "   \n",
    "2. LatOFC receives the repository and State Prediction Error from LatPFC and maintains a map of the environment. Something like an internal environment. Updates trainsition probabilities by SPE and updates reward values from dopamine errors.\n",
    "\n",
    "3. mOFC uses the internal environment from map from LatOFC to do state space search. Receives dopamine errors and passes it to LatOFC to update the internal environment. Passes expected value of the next state after DFS to vmPFC.\n",
    "\n",
    "4. vmPFC maintains the expected value and passes it to the striatum. Updates expected value for that state from dopamne errors from the striatum and passes it to mOFC.\n",
    "\n",
    "5. DMS represents expected value. Modulated by Dopamine. Passes it back to vmPFC\n",
    "\n",
    "6. preSMA/pIPS compare expected state and actual and generates SPE. Passes SPE to latPFC.\n",
    "\n",
    "## Habitual/Model-Free\n",
    "\n",
    "1. latPFC maintains the repository of states and passes cue and the repository to dlPFC.\n",
    "\n",
    "2. dlPFC maintains q_values. Constructs them using the repository from latPFC and dopamine errors from DLS. Uses the cue to decide which value to pass to the DLS.\n",
    "\n",
    "3. DLS represents expected q_value. Modulated by Dopamine. Passes it back to dlPFC"
   ]
  },
  {
   "cell_type": "code",
   "execution_count": 31,
   "metadata": {
    "collapsed": false
   },
   "outputs": [
    {
     "name": "stderr",
     "output_type": "stream",
     "text": [
      "[2017-09-04 12:54:04,768] Making new env: FrozenLake-v0\n"
     ]
    }
   ],
   "source": [
    "env = gym.make(\"FrozenLake-v0\")\n",
    "state = env.reset()"
   ]
  },
  {
   "cell_type": "code",
   "execution_count": 103,
   "metadata": {
    "collapsed": true
   },
   "outputs": [],
   "source": [
    "def to_discrete(vector):\n",
    "    discrete = vector[0]*4 + vector[1]\n",
    "    return discrete\n",
    "\n",
    "def to_vector(discrete):\n",
    "    vector = numpy.zeros((1, 2))\n",
    "    vector[1] = discrete%4\n",
    "    vector[0] = int(discrete/4)\n",
    "    return vector\n"
   ]
  },
  {
   "cell_type": "code",
   "execution_count": 48,
   "metadata": {
    "collapsed": false
   },
   "outputs": [],
   "source": [
    "class latPFC:\n",
    "    \n",
    "    def __init__(self):\n",
    "        self.state_repo = list()\n",
    "        self.action_repo = list()\n",
    "        \n",
    "    def build_state_repo(self, env):\n",
    "        for i in range(env.observation_space.n/4):\n",
    "            for j in range(env.observation_space.n/4):\n",
    "                self.state_repo.append([i, j])\n",
    "        self.state_repo = numpy.array(self.state_repo)\n",
    "\n",
    "    def bulid_action_repo(self, env):\n",
    "        for i in range(env.action_space.n/4):\n",
    "            for j in range(env.action_space.n/4):\n",
    "                self.action_repo.append([i, j])\n",
    "        self.action_repo = numpy.array(self.action_repo)\n",
    "    \n",
    "    def get_cue(self, cue):\n",
    "        self.state = env.observation_space.sample()\n",
    "    \n",
    "    def calc_spe(self, exp_state, actual_state):\n",
    "        if exp_state == actual_state:\n",
    "            self.spe = 0\n",
    "        else:\n",
    "            self.spe = 1\n",
    "        return spe\n",
    "    "
   ]
  },
  {
   "cell_type": "code",
   "execution_count": 262,
   "metadata": {
    "collapsed": false
   },
   "outputs": [],
   "source": [
    "#spe is the state prediction error. 1 or 0. 1 is no error\n",
    "#states is matrix of value for each state\n",
    "#actions is actions in order \"left, down, right, up\"\n",
    "\n",
    "class latOFC:\n",
    "    def __init__(self, state_repo, action_repo, spe):\n",
    "        self.spe = spe\n",
    "        self.spe_sum = 0\n",
    "        self.count = 0\n",
    "        self.states = numpy.zeros((len(state_repo)/4, len(state_repo)/4))\n",
    "        self.states[0][1] = 1\n",
    "        self.actions = numpy.array([[0, -1], [1, 0], [0, 1], [-1, 0]])\n",
    "\n",
    "        \n",
    "    def update_transition_prob(self, spe):\n",
    "        self.count += 1\n",
    "        print \"count\", self.count\n",
    "        self.spe_sum += spe\n",
    "        self.transition_prob = float(self.spe_sum)/self.count\n",
    "        print \n",
    "        \n",
    "        \n",
    "    def transition(self, state, action, transition_prob):\n",
    "        if numpy.random.rand() < transition_prob:\n",
    "            if env.observation_space.contains(to_discrete(numpy.add(state,action))):\n",
    "                new_state = numpy.add(state, action)\n",
    "            else:\n",
    "                new_state = state\n",
    "        else:\n",
    "            rand_action = self.actions[env.action_space.sample()]\n",
    "            if env.observation_space.contains(to_discrete(numpy.add(state,rand_action))):\n",
    "                new_state = numpy.add(state, rand_action)\n",
    "            else:\n",
    "                new_state = state\n",
    "        return new_state                            \n",
    "\n",
    "       "
   ]
  },
  {
   "cell_type": "code",
   "execution_count": 272,
   "metadata": {
    "collapsed": true
   },
   "outputs": [],
   "source": [
    "class mOFC:\n",
    "    #transition_prob, states and actions received from latPFC\n",
    "    def __init__(self, transition_prob, states, actions):\n",
    "        self.transition_prob = transition_prob\n",
    "        self.states = states\n",
    "        self.actions = actions\n",
    "    \n",
    "    def dls(self, curr_state, curr_depth, max_depth):\n",
    "        if curr_depth == max_depth:\n",
    "            return states(curr_state)\n",
    "        else:\n",
    "            for i in self.actions:\n",
    "                if env.observation_space.contains(to_discrete(numpy.add(curr_state, i))):\n",
    "                    next_state = numpy.add(curr_state, i)\n",
    "                    self.states[curr_state] = self.states[next_state] + 0.9*self.dls(self, next_state, curr_depth+1, max_depth)\n",
    "        "
   ]
  },
  {
   "cell_type": "code",
   "execution_count": 264,
   "metadata": {
    "collapsed": false
   },
   "outputs": [],
   "source": [
    "a = latPFC()"
   ]
  },
  {
   "cell_type": "code",
   "execution_count": 265,
   "metadata": {
    "collapsed": false
   },
   "outputs": [],
   "source": [
    "a.build_state_repo(env)\n",
    "a.bulid_action_repo(env)"
   ]
  },
  {
   "cell_type": "code",
   "execution_count": 268,
   "metadata": {
    "collapsed": false
   },
   "outputs": [],
   "source": [
    "b = latOFC(a.state_repo, a.action_repo, 0)"
   ]
  },
  {
   "cell_type": "code",
   "execution_count": 270,
   "metadata": {
    "collapsed": false
   },
   "outputs": [
    {
     "name": "stdout",
     "output_type": "stream",
     "text": [
      "States [[ 0.  1.  0.  0.]\n",
      " [ 0.  0.  0.  0.]\n",
      " [ 0.  0.  0.  0.]\n",
      " [ 0.  0.  0.  0.]]\n"
     ]
    }
   ],
   "source": [
    "c = mOFC(1.0, b.states, b.actions)"
   ]
  },
  {
   "cell_type": "code",
   "execution_count": 273,
   "metadata": {
    "collapsed": false
   },
   "outputs": [
    {
     "ename": "NameError",
     "evalue": "global name 'dls' is not defined",
     "output_type": "error",
     "traceback": [
      "\u001b[0;31m---------------------------------------------------------------------------\u001b[0m",
      "\u001b[0;31mNameError\u001b[0m                                 Traceback (most recent call last)",
      "\u001b[0;32m<ipython-input-273-aa4929bd77f2>\u001b[0m in \u001b[0;36m<module>\u001b[0;34m()\u001b[0m\n\u001b[0;32m----> 1\u001b[0;31m \u001b[0mc\u001b[0m\u001b[0;34m.\u001b[0m\u001b[0mdls\u001b[0m\u001b[0;34m(\u001b[0m\u001b[0mnumpy\u001b[0m\u001b[0;34m.\u001b[0m\u001b[0marray\u001b[0m\u001b[0;34m(\u001b[0m\u001b[0;34m[\u001b[0m\u001b[0;36m0\u001b[0m\u001b[0;34m,\u001b[0m \u001b[0;36m0\u001b[0m\u001b[0;34m]\u001b[0m\u001b[0;34m)\u001b[0m\u001b[0;34m,\u001b[0m \u001b[0;36m0\u001b[0m\u001b[0;34m,\u001b[0m \u001b[0;36m2\u001b[0m\u001b[0;34m)\u001b[0m\u001b[0;34m\u001b[0m\u001b[0m\n\u001b[0m",
      "\u001b[0;32m<ipython-input-269-6c2aa5c7ba8e>\u001b[0m in \u001b[0;36mdls\u001b[0;34m(self, curr_state, curr_depth, max_depth)\u001b[0m\n\u001b[1;32m     14\u001b[0m                 \u001b[0;32mif\u001b[0m \u001b[0menv\u001b[0m\u001b[0;34m.\u001b[0m\u001b[0mobservation_space\u001b[0m\u001b[0;34m.\u001b[0m\u001b[0mcontains\u001b[0m\u001b[0;34m(\u001b[0m\u001b[0mto_discrete\u001b[0m\u001b[0;34m(\u001b[0m\u001b[0mnumpy\u001b[0m\u001b[0;34m.\u001b[0m\u001b[0madd\u001b[0m\u001b[0;34m(\u001b[0m\u001b[0mcurr_state\u001b[0m\u001b[0;34m,\u001b[0m \u001b[0mi\u001b[0m\u001b[0;34m)\u001b[0m\u001b[0;34m)\u001b[0m\u001b[0;34m)\u001b[0m\u001b[0;34m:\u001b[0m\u001b[0;34m\u001b[0m\u001b[0m\n\u001b[1;32m     15\u001b[0m                     \u001b[0mnext_state\u001b[0m \u001b[0;34m=\u001b[0m \u001b[0mnumpy\u001b[0m\u001b[0;34m.\u001b[0m\u001b[0madd\u001b[0m\u001b[0;34m(\u001b[0m\u001b[0mcurr_state\u001b[0m\u001b[0;34m,\u001b[0m \u001b[0mi\u001b[0m\u001b[0;34m)\u001b[0m\u001b[0;34m\u001b[0m\u001b[0m\n\u001b[0;32m---> 16\u001b[0;31m                     \u001b[0mself\u001b[0m\u001b[0;34m.\u001b[0m\u001b[0mstates\u001b[0m\u001b[0;34m[\u001b[0m\u001b[0mcurr_state\u001b[0m\u001b[0;34m]\u001b[0m \u001b[0;34m=\u001b[0m \u001b[0mself\u001b[0m\u001b[0;34m.\u001b[0m\u001b[0mstates\u001b[0m\u001b[0;34m[\u001b[0m\u001b[0mnext_state\u001b[0m\u001b[0;34m]\u001b[0m \u001b[0;34m+\u001b[0m \u001b[0;36m0.9\u001b[0m\u001b[0;34m*\u001b[0m\u001b[0mdls\u001b[0m\u001b[0;34m(\u001b[0m\u001b[0mself\u001b[0m\u001b[0;34m,\u001b[0m \u001b[0mnext_state\u001b[0m\u001b[0;34m,\u001b[0m \u001b[0mcurr_depth\u001b[0m\u001b[0;34m+\u001b[0m\u001b[0;36m1\u001b[0m\u001b[0;34m,\u001b[0m \u001b[0mmax_depth\u001b[0m\u001b[0;34m)\u001b[0m\u001b[0;34m\u001b[0m\u001b[0m\n\u001b[0m\u001b[1;32m     17\u001b[0m \u001b[0;34m\u001b[0m\u001b[0m\n",
      "\u001b[0;31mNameError\u001b[0m: global name 'dls' is not defined"
     ]
    }
   ],
   "source": [
    "c.dls(numpy.array([0, 0]), 0, 2)"
   ]
  }
 ],
 "metadata": {
  "kernelspec": {
   "display_name": "Python 2",
   "language": "python",
   "name": "python2"
  },
  "language_info": {
   "codemirror_mode": {
    "name": "ipython",
    "version": 2
   },
   "file_extension": ".py",
   "mimetype": "text/x-python",
   "name": "python",
   "nbconvert_exporter": "python",
   "pygments_lexer": "ipython2",
   "version": "2.7.13"
  }
 },
 "nbformat": 4,
 "nbformat_minor": 2
}
