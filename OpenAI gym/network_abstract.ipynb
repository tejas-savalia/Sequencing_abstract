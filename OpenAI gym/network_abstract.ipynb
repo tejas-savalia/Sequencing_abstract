{
 "cells": [
  {
   "cell_type": "code",
   "execution_count": 1,
   "metadata": {
    "collapsed": true
   },
   "outputs": [],
   "source": [
    "import nengo\n",
    "import matplotlib.pyplot as plt\n",
    "import numpy\n",
    "import gym\n",
    "import math\n",
    "%matplotlib inline"
   ]
  },
  {
   "cell_type": "markdown",
   "metadata": {},
   "source": [
    "# Network details\n",
    "\n",
    "## Goal Directed/Model-Based\n",
    "\n",
    "1. LatPFC Maintains a repository representing the environment. Repository of all states and actions.\n",
    "   Receives cues from the environment and maintains it\n",
    "   Receives SPE from preSMA and/or pIPS\n",
    "   \n",
    "2. LatOFC receives the repository and State Prediction Error from LatPFC and maintains a map of the environment. Something like an internal environment. Updates trainsition probabilities by SPE and updates reward values from dopamine errors. Infers current state based on cue received from LatPFC, previous action, previous state and previous action\n",
    "\n",
    "3. mOFC uses the internal environment from map from LatOFC to do state space search. Receives dopamine errors and passes it to LatOFC to update the internal environment. Passes expected value of the next state after Depth Limited Search to vmPFC.\n",
    "\n",
    "4. vmPFC maintains the expected value and passes it to the striatum. Updates expected value for that state from dopamne errors from the striatum and passes it to mOFC.\n",
    "\n",
    "5. DMS represents expected value. Modulated by Dopamine. Passes it back to vmPFC\n",
    "\n",
    "6. preSMA/pIPS compare expected state and actual and generates SPE. Passes SPE to latPFC.\n",
    "\n",
    "## Habitual/Model-Free\n",
    "\n",
    "1. latPFC maintains the repository of states and passes cue and the repository to dlPFC.\n",
    "\n",
    "2. dlPFC maintains q_values. Constructs them using the repository from latPFC and dopamine errors from DLS. Uses the cue to decide which value to pass to the DLS.\n",
    "\n",
    "3. DLS represents expected q_value. Modulated by Dopamine. Passes it back to dlPFC"
   ]
  },
  {
   "cell_type": "code",
   "execution_count": 2,
   "metadata": {
    "collapsed": false
   },
   "outputs": [
    {
     "name": "stderr",
     "output_type": "stream",
     "text": [
      "[2017-09-07 15:54:39,617] Making new env: FrozenLake-v0\n"
     ]
    }
   ],
   "source": [
    "env = gym.make(\"FrozenLake-v0\")\n",
    "state = env.reset()"
   ]
  },
  {
   "cell_type": "code",
   "execution_count": 3,
   "metadata": {
    "collapsed": true
   },
   "outputs": [],
   "source": [
    "def to_discrete(vector):\n",
    "    discrete = vector[0]*4 + vector[1]\n",
    "    return discrete\n",
    "\n",
    "def to_vector(discrete):\n",
    "    vector = numpy.zeros((1, 2))\n",
    "    vector[1] = discrete%4\n",
    "    vector[0] = int(discrete/4)\n",
    "    return vector\n"
   ]
  },
  {
   "cell_type": "code",
   "execution_count": 4,
   "metadata": {
    "collapsed": false
   },
   "outputs": [],
   "source": [
    "class latPFC:\n",
    "    \n",
    "    def __init__(self):\n",
    "        self.state_repo = list()\n",
    "        self.action_repo = list()\n",
    "        \n",
    "    def build_state_repo(self, env):\n",
    "        for i in range(env.observation_space.n/4):\n",
    "            for j in range(env.observation_space.n/4):\n",
    "                self.state_repo.append([i, j])\n",
    "        self.state_repo = numpy.array(self.state_repo)\n",
    "\n",
    "    def bulid_action_repo(self, env):\n",
    "        self.action_repo = numpy.array([[0, -1], [1, 0], [0, 1], [-1, 0]])\n",
    "    \n",
    "    def get_cue(self, cue):\n",
    "        self.state = env.observation_space.sample()\n",
    "    \n",
    "    def calc_spe(self, exp_state, actual_state):\n",
    "        if exp_state == actual_state:\n",
    "            self.spe = 0\n",
    "        else:\n",
    "            self.spe = 1\n",
    "        return spe\n",
    "    "
   ]
  },
  {
   "cell_type": "code",
   "execution_count": 5,
   "metadata": {
    "collapsed": false
   },
   "outputs": [],
   "source": [
    "#spe is the state prediction error. 1 or 0. 1 is no error\n",
    "#states is matrix of value for each state\n",
    "#actions is actions in order \"left, down, right, up\"\n",
    "\n",
    "class latOFC:\n",
    "    def __init__(self, state_repo, action_repo, spe, cue):\n",
    "        self.spe = spe\n",
    "        self.spe_sum = 0\n",
    "        self.count = 0\n",
    "        self.states = numpy.zeros((len(state_repo)/4, len(state_repo)/4))\n",
    "        self.states[0][1] = 1\n",
    "        self.states[0][2] = 1\n",
    "        self.actions = numpy.array([[0, -1], [1, 0], [0, 1], [-1, 0]])\n",
    "        self.transition_prob = 1.0\n",
    "        self.cue = cue\n",
    "\n",
    "        \n",
    "    def update_transition_prob(self, spe):\n",
    "        self.count += 1\n",
    "        self.spe_sum += spe\n",
    "        self.transition_prob = float(self.spe_sum)/self.count\n",
    "    \n",
    "    @classmethod\n",
    "    def transition(self, state, action, transition_prob):\n",
    "        if numpy.random.rand() < transition_prob:\n",
    "            temp = numpy.add(state, action)\n",
    "            if temp[0] > 3 or temp[1] > 3 or temp[0] < 0 or temp[1] < 0:\n",
    "                new_state = state\n",
    "            else:\n",
    "                new_state = temp\n",
    "            \n",
    "        else:\n",
    "            rand_action = self.actions[env.action_space.sample()]\n",
    "            temp = self.states[numpy.add(state, rand_action)]\n",
    "            if temp[0] > 3 or temp[1] > 3 or temp[1] < 0 or temp[1] < 0:\n",
    "                new_state = state\n",
    "            else:\n",
    "                new_state = temp\n",
    "        return new_state                         \n",
    "    \n",
    "    def infer_state(self, cue, transition_prob, prev_state, prev_action):\n",
    "        if self.count == 0:\n",
    "            new_state = numpy.array([0, 0])\n",
    "        else:    \n",
    "            new_state = latOFC.transition(prev_state, prev_action, transition_prob)\n",
    "        return new_state\n",
    "\n",
    "       "
   ]
  },
  {
   "cell_type": "code",
   "execution_count": 6,
   "metadata": {
    "collapsed": false
   },
   "outputs": [],
   "source": [
    "class mOFC:\n",
    "    #transition_prob, states and actions received from latPFC\n",
    "    def __init__(self, transition_prob, states, actions):\n",
    "        self.transition_prob = transition_prob\n",
    "        self.states = states\n",
    "        self.actions = actions\n",
    "\n",
    "    \n",
    "    #calculate value of current state using depth limited search\n",
    "    def dls(self, curr_state, curr_depth, max_depth):\n",
    "        value_list = list()\n",
    "        if curr_depth == max_depth:\n",
    "            return self.states[curr_state[0]][curr_state[1]]\n",
    "        else:\n",
    "            for i in self.actions:\n",
    "                next_state = latOFC.transition(curr_state, i, self.transition_prob)\n",
    "                #if list(next_state) in visited:\n",
    "                 #   continue\n",
    "                value = self.states[next_state[0]][next_state[1]] + 0.9*self.dls(next_state, curr_depth+1, max_depth)\n",
    "                value_list.append(value)\n",
    "            if value_list:\n",
    "                average_value = numpy.mean(numpy.array(value_list))\n",
    "        return average_value\n",
    "    \n",
    "    def value_of_action(self, curr_state):\n",
    "        value_list = list()\n",
    "        for i in self.actions:\n",
    "            next_state = latOFC.transition(curr_state, i, self.transition_prob)\n",
    "            value_list.append(self.dls(next_state, 0, 3))\n",
    "        return value_list\n",
    "        "
   ]
  },
  {
   "cell_type": "code",
   "execution_count": 7,
   "metadata": {
    "collapsed": false
   },
   "outputs": [],
   "source": [
    "class vmPFC:\n",
    "    def __init__(self, actions, curr_state, value_list):\n",
    "        self.curr_state = curr_state\n",
    "        self.actions = actions\n",
    "        self.value_list = value_list\n"
   ]
  },
  {
   "cell_type": "code",
   "execution_count": 8,
   "metadata": {
    "collapsed": true
   },
   "outputs": [],
   "source": [
    "class dlPFC:\n",
    "    def __init__(self, state_repo, action_repo, cue):\n",
    "        self.state_repo = state_repo\n",
    "        self.action_repo = action_repo\n",
    "        self.q_values = numpy.zeros((len(self.state_repo), len(self.action_repo)))\n",
    "        self.cue = cue\n",
    "        \n",
    "    def q_update(self, cue, action, error):\n",
    "        self.q_values[cue][action] = 0.5*self.q_values[cue][action] + 0.5*error\n",
    "        \n",
    "    def q_value_from_state(self, cue):\n",
    "        return self.q_values[cue]"
   ]
  },
  {
   "cell_type": "code",
   "execution_count": 9,
   "metadata": {
    "collapsed": false
   },
   "outputs": [],
   "source": [
    "class dls:\n",
    "    def __init__(self, q_value):\n",
    "        self.q_value = q_value\n",
    "    \n",
    "    def error_modulation(self, action, error):\n",
    "        self.q_value[action] = 0.5*self.q_value[action] + 0.5*error\n",
    "        return self.q_value"
   ]
  },
  {
   "cell_type": "code",
   "execution_count": 10,
   "metadata": {
    "collapsed": false
   },
   "outputs": [],
   "source": [
    "a = latPFC()"
   ]
  },
  {
   "cell_type": "code",
   "execution_count": 11,
   "metadata": {
    "collapsed": false
   },
   "outputs": [],
   "source": [
    "a.build_state_repo(env)\n",
    "a.bulid_action_repo(env)"
   ]
  },
  {
   "cell_type": "code",
   "execution_count": 13,
   "metadata": {
    "collapsed": false
   },
   "outputs": [],
   "source": [
    "b = latOFC(a.state_repo, a.action_repo, 0, 1)"
   ]
  },
  {
   "cell_type": "code",
   "execution_count": 14,
   "metadata": {
    "collapsed": false
   },
   "outputs": [],
   "source": [
    "c = mOFC(1.0, b.states, b.actions)"
   ]
  },
  {
   "cell_type": "code",
   "execution_count": 15,
   "metadata": {
    "collapsed": false
   },
   "outputs": [],
   "source": [
    "d = vmPFC(a.action_repo, numpy.array([1, 1]), c.value_of_action(numpy.array([1, 1])))"
   ]
  },
  {
   "cell_type": "code",
   "execution_count": 16,
   "metadata": {
    "collapsed": false
   },
   "outputs": [],
   "source": [
    "e = dlPFC(a.state_repo, a.action_repo, 2)\n",
    "q_values = e.q_value_from_state(2)"
   ]
  },
  {
   "cell_type": "code",
   "execution_count": 17,
   "metadata": {
    "collapsed": false
   },
   "outputs": [
    {
     "name": "stdout",
     "output_type": "stream",
     "text": [
      "[ 0.   0.   0.5  0. ]\n"
     ]
    }
   ],
   "source": [
    "f = dls(q_values)\n",
    "print f.error_modulation(2, 1)"
   ]
  },
  {
   "cell_type": "code",
   "execution_count": 25,
   "metadata": {
    "collapsed": false
   },
   "outputs": [],
   "source": [
    "model = nengo.Network()\n",
    "with model:\n",
    "    a_state_repo_0 = nengo.networks.EnsembleArray(n_neurons=1000, n_ensembles=16, radius = 4)\n",
    "    a_state_repo_1 = nengo.networks.EnsembleArray(n_neurons=1000, n_ensembles=16, radius = 4)\n",
    "    a_state_0 = nengo.Node(a.state_repo[:, 0])\n",
    "    a_state_1 = nengo.Node(a.state_repo[:, 1])    \n",
    "    nengo.Connection(a_state_0, a_state_repo_0.input)\n",
    "    nengo.Connection(a_state_1, a_state_repo_1.input)    \n",
    "    \n",
    "    a_action_repo_0 = nengo.networks.EnsembleArray(n_neurons=1000, n_ensembles=4, radius = 1)\n",
    "    a_action_repo_1 = nengo.networks.EnsembleArray(n_neurons=1000, n_ensembles=4, radius = 1)\n",
    "    a_action_0 = nengo.Node(a.action_repo[:, 0])\n",
    "    a_action_1 = nengo.Node(a.action_repo[:, 1])    \n",
    "    nengo.Connection(a_action_0, a_action_repo_0.input)\n",
    "    nengo.Connection(a_action_1, a_action_repo_1.input)  \n",
    "    \n",
    "    new_state_0 = nengo.Ensemble(n_neurons=100, dimensions = 1, radius = 4)\n",
    "    new_state_1 = nengo.Ensemble(n_neurons=100, dimensions = 1, radius = 4)\n",
    "    \n",
    "    nengo.Connection(a_action_repo_0.output[0], new_state_0)\n",
    "    nengo.Connection(a_state_repo_0.output[3], new_state_0)\n",
    "\n",
    "    nengo.Connection(a_action_repo_1.output[3], new_state_1)\n",
    "    nengo.Connection(a_state_repo_1.output[1], new_state_1)\n",
    "    \n",
    "    probe_1 = nengo.Probe(new_state_0, synapse=0)\n",
    "    probe_2 = nengo.Probe(new_state_1, synapse=0)"
   ]
  },
  {
   "cell_type": "code",
   "execution_count": 26,
   "metadata": {
    "collapsed": false
   },
   "outputs": [
    {
     "name": "stdout",
     "output_type": "stream",
     "text": [
      "Building finished in 0:00:13.                                                   \n",
      "Simulating finished in 0:00:01.                                                 \n"
     ]
    }
   ],
   "source": [
    "with nengo.Simulator(model) as sim:\n",
    "    sim.run(0.01)\n"
   ]
  },
  {
   "cell_type": "code",
   "execution_count": 27,
   "metadata": {
    "collapsed": false
   },
   "outputs": [
    {
     "data": {
      "text/plain": [
       "[<matplotlib.lines.Line2D at 0x7f84852abd10>]"
      ]
     },
     "execution_count": 27,
     "metadata": {},
     "output_type": "execute_result"
    },
    {
     "data": {
      "image/png": "[encoded data removed]",
      "text/plain": [
       "<matplotlib.figure.Figure at 0x7f84853df5d0>"
      ]
     },
     "metadata": {},
     "output_type": "display_data"
    }
   ],
   "source": [
    "plt.plot(sim.trange(), sim.data[probe_1])"
   ]
  },
  {
   "cell_type": "code",
   "execution_count": null,
   "metadata": {
    "collapsed": false
   },
   "outputs": [],
   "source": [
    "print sim.data[probe_1]"
   ]
  }
 ],
 "metadata": {
  "kernelspec": {
   "display_name": "Python 2",
   "language": "python",
   "name": "python2"
  },
  "language_info": {
   "codemirror_mode": {
    "name": "ipython",
    "version": 2
   },
   "file_extension": ".py",
   "mimetype": "text/x-python",
   "name": "python",
   "nbconvert_exporter": "python",
   "pygments_lexer": "ipython2",
   "version": "2.7.13"
  }
 },
 "nbformat": 4,
 "nbformat_minor": 2
}
