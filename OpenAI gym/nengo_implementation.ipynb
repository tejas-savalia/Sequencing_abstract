{
 "cells": [
  {
   "cell_type": "code",
   "execution_count": 1,
   "metadata": {
    "collapsed": false
   },
   "outputs": [],
   "source": [
    "import nengo\n",
    "import matplotlib.pyplot as plt\n",
    "import numpy\n",
    "import gym\n",
    "%matplotlib inline"
   ]
  },
  {
   "cell_type": "code",
   "execution_count": 2,
   "metadata": {
    "collapsed": false
   },
   "outputs": [
    {
     "name": "stderr",
     "output_type": "stream",
     "text": [
      "[2017-09-01 16:56:26,863] Making new env: FrozenLake-v0\n"
     ]
    }
   ],
   "source": [
    "env = gym.make('FrozenLake-v0')\n",
    "new_state = env.reset()\n",
    "model = nengo.Network()"
   ]
  },
  {
   "cell_type": "code",
   "execution_count": 4,
   "metadata": {
    "collapsed": false
   },
   "outputs": [],
   "source": [
    "def one_hot(location, size):\n",
    "    one_hot_vector = numpy.zeros(size)\n",
    "    one_hot_vector[location] = 1\n",
    "    return one_hot_vector"
   ]
  },
  {
   "cell_type": "code",
   "execution_count": 5,
   "metadata": {
    "collapsed": false
   },
   "outputs": [
    {
     "name": "stdout",
     "output_type": "stream",
     "text": [
      "[ 0.  0.  0.  0.  0.  0.  1.  0.  0.  0.]\n"
     ]
    }
   ],
   "source": []
  },
  {
   "cell_type": "code",
   "execution_count": null,
   "metadata": {
    "collapsed": false
   },
   "outputs": [],
   "source": [
    "with model:\n",
    "    #One Hot representation of current state as given by the environment. \n",
    "    state_vector = one_hot(state)\n",
    "    state_node = nengo.Node(state_vector)\n",
    "    #Action vectors\n",
    "    action_vector = numpy.array([0, 1])\n",
    "    action_node = nengo.Node(action_vector)\n",
    "    \n",
    "    #dlpfc keeps a repository of all states, Connecting the one hot representation of state node to dlpfc ensemble with\n",
    "    #sixteen dimensions\n",
    "    \n",
    "    dlpfc_state = nengo.networks.EnsembleArray(n_neurons=1000, n_ensembles=16, radius = 1)\n",
    "    nengo.Connection(state_node, dlpfc_state.input)\n",
    "    dlpfc_state_probe = nengo.Probe(dlpfc_state.output)\n",
    "\n",
    "    dlpfc_action = nengo.Ensemble(n_neurons=100, dimensions=2, radius = 1)\n",
    "    #nengo.Connection(state_node, dlpfc_action)\n",
    "    #dlpfc_action_probe = nengo.Probe(dlpfc_action)\n",
    "\n",
    "    #mOFC infers one state based on previous state and all states information obtained from latOFC with environmental \n",
    "    #cues. Observation is the environment cue -- will be noisy eventually. \n",
    "    observation = nengo.Node([0, 1])\n",
    "    latOFC = nengo.Ensemble(n_neurons=1000, dimensions=2, radius = 4)\n",
    "    prev_state = nengo.Ensemble(n_neurons=1000, dimensions=2, radius = 4)\n",
    "    #nengo.Connection(mOFC, prev_state)\n",
    "    \n",
    "    "
   ]
  },
  {
   "cell_type": "code",
   "execution_count": null,
   "metadata": {
    "collapsed": true
   },
   "outputs": [],
   "source": [
    "with model:\n",
    "    state_vector = one_hot(state)\n",
    "    state_node = nengo.Node(state_vector)\n",
    "    state = nengo.networks.EnsembleArray(n_neurons=1000, n_ensembles=env.observation_space.n, radius=1)\n",
    "    nengo.Connection(state_node, state.input)\n",
    "    "
   ]
  },
  {
   "cell_type": "code",
   "execution_count": null,
   "metadata": {
    "collapsed": false
   },
   "outputs": [],
   "source": [
    "#Test with simulator and plot\n",
    "sim = nengo.Simulator(model)\n",
    "sim.run(0.5)\n",
    "plt.figure()\n",
    "plt.plot(sim.trange(), sim.data[dlpfc_state_probe])"
   ]
  },
  {
   "cell_type": "code",
   "execution_count": null,
   "metadata": {
    "collapsed": true
   },
   "outputs": [],
   "source": []
  }
 ],
 "metadata": {
  "kernelspec": {
   "display_name": "Python 2",
   "language": "python",
   "name": "python2"
  },
  "language_info": {
   "codemirror_mode": {
    "name": "ipython",
    "version": 2
   },
   "file_extension": ".py",
   "mimetype": "text/x-python",
   "name": "python",
   "nbconvert_exporter": "python",
   "pygments_lexer": "ipython2",
   "version": "2.7.13"
  }
 },
 "nbformat": 4,
 "nbformat_minor": 2
}
