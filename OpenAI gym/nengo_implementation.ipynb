{
 "cells": [
  {
   "cell_type": "code",
   "execution_count": 1,
   "metadata": {
    "collapsed": false
   },
   "outputs": [],
   "source": [
    "import nengo\n",
    "import matplotlib.pyplot as plt\n",
    "import numpy\n",
    "import gym\n",
    "import math\n",
    "%matplotlib inline"
   ]
  },
  {
   "cell_type": "code",
   "execution_count": 2,
   "metadata": {
    "collapsed": false
   },
   "outputs": [
    {
     "name": "stderr",
     "output_type": "stream",
     "text": [
      "[2017-09-04 10:23:49,157] Making new env: FrozenLake-v0\n"
     ]
    }
   ],
   "source": [
    "env = gym.make('FrozenLake-v0')\n",
    "new_state = env.reset()\n",
    "model = nengo.Network()"
   ]
  },
  {
   "cell_type": "code",
   "execution_count": 3,
   "metadata": {
    "collapsed": false
   },
   "outputs": [],
   "source": [
    "def one_hot(location, size):\n",
    "    one_hot_vector = numpy.zeros(size)\n",
    "    one_hot_vector[location] = 1\n",
    "    return one_hot_vector"
   ]
  },
  {
   "cell_type": "code",
   "execution_count": 4,
   "metadata": {
    "collapsed": false
   },
   "outputs": [
    {
     "name": "stdout",
     "output_type": "stream",
     "text": [
      "i 1\n",
      "1\n"
     ]
    }
   ],
   "source": [
    "def softmax(x):\n",
    "    \"\"\"Compute softmax values for each sets of scores in x.\"\"\"\n",
    "    e_x = numpy.exp(x - numpy.max(x))\n",
    "    return e_x / e_x.sum()\n",
    "def action_from_softmax(softmax_score):\n",
    "    random = numpy.random.sample()\n",
    "    prev_j = 0\n",
    "    for i, j in enumerate(softmax_score):\n",
    "        j_total = j + prev_j\n",
    "        if random < j_total:\n",
    "            print \"i\", i\n",
    "            return i\n",
    "        prev_j = j\n",
    "print action_from_softmax(softmax(numpy.array([0.4, 0.6])))"
   ]
  },
  {
   "cell_type": "code",
   "execution_count": null,
   "metadata": {
    "collapsed": false
   },
   "outputs": [],
   "source": []
  },
  {
   "cell_type": "code",
   "execution_count": null,
   "metadata": {
    "collapsed": false
   },
   "outputs": [],
   "source": []
  },
  {
   "cell_type": "code",
   "execution_count": 72,
   "metadata": {
    "collapsed": false
   },
   "outputs": [],
   "source": [
    "weight = numpy.random.uniform(size=(env.observation_space.n, env.action_space.n))\n",
    "weight = numpy.zeros((env.observation_space.n, env.action_space.n))\n",
    "\n",
    "observation = env.reset()\n",
    "with nengo.Network() as model:\n",
    "    state_vector = one_hot(observation, env.observation_space.n)\n",
    "    state_node = nengo.Node(state_vector)\n",
    "    state = nengo.Ensemble(label=\"State\", n_neurons=1000, dimensions=env.observation_space.n, radius=1)\n",
    "    nengo.Connection(state_node, state)\n",
    "    weight[0][2] = 1\n",
    "    action = nengo.Ensemble(label=\"Actions\", n_neurons=1000, dimensions=env.action_space.n, radius=1)\n",
    "    for i in range(env.observation_space.n):\n",
    "        for j in range(env.action_space.n):\n",
    "            nengo.Connection(state[i], action[j], weight[i][j])\n",
    "            \n",
    "    basal_ganglia = nengo.Ensemble(n_neurons=100, dimensions=1, radius=4)\n",
    "    nengo.Connection(action, basal_ganglia, function=numpy.argmax)\n",
    "    selected_action = nengo.Probe(basal_ganglia)\n",
    "    "
   ]
  },
  {
   "cell_type": "code",
   "execution_count": null,
   "metadata": {
    "collapsed": false
   },
   "outputs": [],
   "source": []
  },
  {
   "cell_type": "code",
   "execution_count": 73,
   "metadata": {
    "collapsed": false
   },
   "outputs": [
    {
     "name": "stdout",
     "output_type": "stream",
     "text": [
      "Building finished in 0:00:18.                                                   \n",
      "Simulating finished in 0:00:01.                                                 \n"
     ]
    }
   ],
   "source": [
    "#Test with simulator and plot\n",
    "thresold = 0.5\n",
    "sim = nengo.Simulator(model)\n",
    "sim.run(0.01)\n"
   ]
  },
  {
   "cell_type": "code",
   "execution_count": 74,
   "metadata": {
    "collapsed": false
   },
   "outputs": [
    {
     "data": {
      "text/plain": [
       "[<matplotlib.lines.Line2D at 0x7f926e6a3510>]"
      ]
     },
     "execution_count": 74,
     "metadata": {},
     "output_type": "execute_result"
    },
    {
     "data": {
      "image/png": "[encoded data removed]",
      "text/plain": [
       "<matplotlib.figure.Figure at 0x7f926e43b450>"
      ]
     },
     "metadata": {},
     "output_type": "display_data"
    }
   ],
   "source": [
    "plt.figure()\n",
    "plt.plot(sim.trange(), sim.data[selected_action])\n"
   ]
  },
  {
   "cell_type": "code",
   "execution_count": 75,
   "metadata": {
    "collapsed": false
   },
   "outputs": [
    {
     "name": "stdout",
     "output_type": "stream",
     "text": [
      "[[ 0.        ]\n",
      " [-0.17465596]\n",
      " [ 1.00949513]\n",
      " [ 1.35298583]\n",
      " [ 1.62334787]\n",
      " [ 0.70028661]\n",
      " [ 1.27959519]\n",
      " [ 0.1067208 ]\n",
      " [ 2.37487444]\n",
      " [ 1.41952826]]\n"
     ]
    }
   ],
   "source": [
    "print (sim.data[selected_action])"
   ]
  },
  {
   "cell_type": "code",
   "execution_count": null,
   "metadata": {
    "collapsed": true
   },
   "outputs": [],
   "source": []
  }
 ],
 "metadata": {
  "kernelspec": {
   "display_name": "Python 2",
   "language": "python",
   "name": "python2"
  },
  "language_info": {
   "codemirror_mode": {
    "name": "ipython",
    "version": 2
   },
   "file_extension": ".py",
   "mimetype": "text/x-python",
   "name": "python",
   "nbconvert_exporter": "python",
   "pygments_lexer": "ipython2",
   "version": "2.7.13"
  }
 },
 "nbformat": 4,
 "nbformat_minor": 2
}
