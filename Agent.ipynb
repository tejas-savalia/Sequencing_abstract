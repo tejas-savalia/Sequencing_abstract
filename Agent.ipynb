{
 "cells": [
  {
   "cell_type": "code",
   "execution_count": 1,
   "metadata": {
    "collapsed": false
   },
   "outputs": [],
   "source": [
    "import numpy\n",
    "import random\n",
    "import Environment as ev"
   ]
  },
  {
   "cell_type": "code",
   "execution_count": 2,
   "metadata": {
    "collapsed": false
   },
   "outputs": [],
   "source": [
    "internal_model = list()\n",
    "grid_size = 10\n",
    "for i in range(grid_size):\n",
    "    for j in range(grid_size):\n",
    "        internal_model.append([[i, j], 0])\n",
    "internal_model = numpy.array(internal_model)\n",
    "internal_model[10, 1] = 5\n",
    "internal_model[15, 1] = 10"
   ]
  },
  {
   "cell_type": "code",
   "execution_count": 3,
   "metadata": {
    "collapsed": true
   },
   "outputs": [],
   "source": [
    "q_values = list()\n",
    "for i in range(10):\n",
    "    for j in range(10):\n",
    "        for k in ev.get_legal_actions([i, j]):\n",
    "            q_values.append([[i, j], k.tolist(), 0])"
   ]
  },
  {
   "cell_type": "code",
   "execution_count": 4,
   "metadata": {
    "collapsed": false
   },
   "outputs": [],
   "source": [
    "def model_update(internal_model, instant_reward, state):\n",
    "    internal_model[state[0][0]*10 + state[0][1]][1] = instant_reward\n",
    "    return internal_model"
   ]
  },
  {
   "cell_type": "code",
   "execution_count": 5,
   "metadata": {
    "collapsed": false
   },
   "outputs": [],
   "source": [
    "gamma = 0.9"
   ]
  },
  {
   "cell_type": "code",
   "execution_count": 6,
   "metadata": {
    "collapsed": true
   },
   "outputs": [],
   "source": [
    "def q_states_from_pos(q_values, pos):\n",
    "    q_state = list()\n",
    "    for i in q_values:\n",
    "        if i[0] == pos:\n",
    "            q_state.append(i)\n",
    "    return q_state"
   ]
  },
  {
   "cell_type": "code",
   "execution_count": 7,
   "metadata": {
    "collapsed": true
   },
   "outputs": [],
   "source": [
    "def depth_limited_search(max_depth, curr_depth, internal_model, curr_state):\n",
    "    value = 0\n",
    "    curr_pos = curr_state[0]\n",
    "    curr_val = curr_state[1]\n",
    "    legal_actions = ev.get_legal_actions(curr_pos)\n",
    "    curr_depth += 1\n",
    "    if max_depth <= curr_depth:\n",
    "        return curr_val\n",
    "    else:\n",
    "        for i in legal_actions:\n",
    "            new_pos = numpy.add(curr_pos, i)\n",
    "            new_state = internal_model[(10*new_pos[0] + new_pos[1])]\n",
    "            value += curr_val + gamma * depth_limited_search(max_depth, curr_depth, internal_model, new_state)\n",
    "        return value"
   ]
  },
  {
   "cell_type": "code",
   "execution_count": null,
   "metadata": {
    "collapsed": false
   },
   "outputs": [],
   "source": []
  },
  {
   "cell_type": "code",
   "execution_count": 8,
   "metadata": {
    "collapsed": false
   },
   "outputs": [],
   "source": [
    "def model_based_action_selection(curr_state, visited_pos, internal_model):\n",
    "    curr_val = curr_state[1]\n",
    "    curr_pos = curr_state[0]\n",
    "    legal_actions = ev.get_legal_actions(curr_pos)\n",
    "    next_state_values = list()\n",
    "    actions_to_next_states = list()\n",
    "    for i in legal_actions:\n",
    "        new_pos = numpy.add(curr_pos, i)\n",
    "        if any(numpy.equal(numpy.array(visited_pos),new_pos).all(1)):\n",
    "            continue\n",
    "        new_state = internal_model[(10*new_pos[0] + new_pos[1])]\n",
    "        next_state_values.append(depth_limited_search(10, 0, internal_model, new_state))\n",
    "        actions_to_next_states.append(i)\n",
    "    if next_state_values == []:\n",
    "        action = random.choice(legal_actions)\n",
    "    else:\n",
    "        value_action = list(zip(next_state_values, actions_to_next_states))\n",
    "        random.shuffle(value_action)\n",
    "        next_state_values[:], actions_to_next_states[:] = zip(*value_action)\n",
    "        action = actions_to_next_states[next_state_values.index(max(next_state_values))]        \n",
    "    return action"
   ]
  },
  {
   "cell_type": "code",
   "execution_count": 9,
   "metadata": {
    "collapsed": false
   },
   "outputs": [],
   "source": [
    "def take_action(state, action):\n",
    "    (new_state, reward) = ev.grid_world(state, action)\n",
    "    return new_state, reward"
   ]
  },
  {
   "cell_type": "code",
   "execution_count": 10,
   "metadata": {
    "collapsed": false,
    "scrolled": true
   },
   "outputs": [
    {
     "ename": "NameError",
     "evalue": "name 'q_update' is not defined",
     "output_type": "error",
     "traceback": [
      "\u001b[0;31m---------------------------------------------------------------------------\u001b[0m",
      "\u001b[0;31mNameError\u001b[0m                                 Traceback (most recent call last)",
      "\u001b[0;32m<ipython-input-10-626f62aa1885>\u001b[0m in \u001b[0;36m<module>\u001b[0;34m()\u001b[0m\n\u001b[1;32m      7\u001b[0m     \u001b[0minternal_model\u001b[0m \u001b[1;33m=\u001b[0m \u001b[0mmodel_update\u001b[0m\u001b[1;33m(\u001b[0m\u001b[0minternal_model\u001b[0m\u001b[1;33m,\u001b[0m \u001b[0minstant_reward\u001b[0m\u001b[1;33m,\u001b[0m \u001b[0mstate\u001b[0m\u001b[1;33m)\u001b[0m\u001b[1;33m\u001b[0m\u001b[0m\n\u001b[1;32m      8\u001b[0m     \u001b[0mvisited_pos\u001b[0m \u001b[1;33m=\u001b[0m \u001b[0mnumpy\u001b[0m\u001b[1;33m.\u001b[0m\u001b[0mvstack\u001b[0m\u001b[1;33m(\u001b[0m\u001b[1;33m(\u001b[0m\u001b[0mvisited_pos\u001b[0m\u001b[1;33m,\u001b[0m \u001b[0mstate\u001b[0m\u001b[1;33m[\u001b[0m\u001b[1;36m0\u001b[0m\u001b[1;33m]\u001b[0m\u001b[1;33m)\u001b[0m\u001b[1;33m)\u001b[0m\u001b[1;33m\u001b[0m\u001b[0m\n\u001b[0;32m----> 9\u001b[0;31m     \u001b[0mq_values\u001b[0m \u001b[1;33m=\u001b[0m \u001b[0mq_update\u001b[0m\u001b[1;33m(\u001b[0m\u001b[0mq_values\u001b[0m\u001b[1;33m,\u001b[0m \u001b[0mcurr_state\u001b[0m\u001b[1;33m[\u001b[0m\u001b[1;36m0\u001b[0m\u001b[1;33m]\u001b[0m\u001b[1;33m,\u001b[0m \u001b[0maction\u001b[0m\u001b[1;33m,\u001b[0m \u001b[0minstant_reward\u001b[0m\u001b[1;33m)\u001b[0m\u001b[1;33m\u001b[0m\u001b[0m\n\u001b[0m\u001b[1;32m     10\u001b[0m     \u001b[0mcurr_state\u001b[0m \u001b[1;33m=\u001b[0m \u001b[0mstate\u001b[0m\u001b[1;33m\u001b[0m\u001b[0m\n\u001b[1;32m     11\u001b[0m     \u001b[0mreward\u001b[0m \u001b[1;33m+=\u001b[0m \u001b[0minstant_reward\u001b[0m\u001b[1;33m\u001b[0m\u001b[0m\n",
      "\u001b[0;31mNameError\u001b[0m: name 'q_update' is not defined"
     ]
    }
   ],
   "source": [
    "curr_state = internal_model[0]\n",
    "visited_pos = [curr_state[0]]\n",
    "reward = 0\n",
    "for i in range(10):\n",
    "    action = model_based_action_selection(curr_state, visited_pos, internal_model)\n",
    "    state, instant_reward = take_action(curr_state, action)\n",
    "    internal_model = model_update(internal_model, instant_reward, state)\n",
    "    visited_pos = numpy.vstack((visited_pos, state[0]))\n",
    "    q_values = q_update(q_values, curr_state[0], action, instant_reward)\n",
    "    curr_state = state\n",
    "    reward += instant_reward"
   ]
  },
  {
   "cell_type": "code",
   "execution_count": null,
   "metadata": {
    "collapsed": false
   },
   "outputs": [],
   "source": [
    "def q_update(q_values, state, action, reward):\n",
    "    q_states = q_states_from_pos(q_values, state[0])\n",
    "    for i in q_states:\n",
    "        if i[1] == action:\n",
    "            i[2] = alpha*i[2] + (1-alpha)\n",
    "    return q_values"
   ]
  },
  {
   "cell_type": "code",
   "execution_count": null,
   "metadata": {
    "collapsed": false
   },
   "outputs": [],
   "source": [
    "print reward"
   ]
  },
  {
   "cell_type": "code",
   "execution_count": null,
   "metadata": {
    "collapsed": false
   },
   "outputs": [],
   "source": []
  },
  {
   "cell_type": "code",
   "execution_count": null,
   "metadata": {
    "collapsed": true
   },
   "outputs": [],
   "source": []
  }
 ],
 "metadata": {
  "anaconda-cloud": {},
  "kernelspec": {
   "display_name": "Python [default]",
   "language": "python",
   "name": "python2"
  },
  "language_info": {
   "codemirror_mode": {
    "name": "ipython",
    "version": 2
   },
   "file_extension": ".py",
   "mimetype": "text/x-python",
   "name": "python",
   "nbconvert_exporter": "python",
   "pygments_lexer": "ipython2",
   "version": "2.7.12"
  }
 },
 "nbformat": 4,
 "nbformat_minor": 1
}
