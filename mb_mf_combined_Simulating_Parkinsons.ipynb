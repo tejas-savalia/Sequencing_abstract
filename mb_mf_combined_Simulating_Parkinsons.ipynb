{
 "cells": [
  {
   "cell_type": "code",
   "execution_count": 1,
   "metadata": {
    "collapsed": true
   },
   "outputs": [],
   "source": [
    "import numpy\n",
    "import math\n",
    "\n",
    "import random\n",
    "import time\n",
    "import matplotlib.pyplot as plt\n",
    "import collections\n",
    "from scipy.optimize import curve_fit"
   ]
  },
  {
   "cell_type": "code",
   "execution_count": 2,
   "metadata": {
    "collapsed": true
   },
   "outputs": [],
   "source": [
    "environment = numpy.zeros((2, 7))\n",
    "trans_prob = 0.7\n",
    "environment[1, 6] = 10\n",
    "#environment[8, 8] = -10\n",
    "environment[1, 0] = 5"
   ]
  },
  {
   "cell_type": "code",
   "execution_count": 3,
   "metadata": {
    "collapsed": true
   },
   "outputs": [],
   "source": [
    "alpha = 0.5\n",
    "gamma = 0.9"
   ]
  },
  {
   "cell_type": "code",
   "execution_count": 4,
   "metadata": {
    "collapsed": true
   },
   "outputs": [],
   "source": [
    "def softmax(values):\n",
    "    scoreMatExp = numpy.exp(numpy.asarray(values))\n",
    "    return scoreMatExp / scoreMatExp.sum(0)"
   ]
  },
  {
   "cell_type": "code",
   "execution_count": 5,
   "metadata": {
    "collapsed": true
   },
   "outputs": [],
   "source": [
    "def action_from_softmax(softmax_scores):\n",
    "    random_number = numpy.random.random_sample()\n",
    "    cumm_sum = numpy.cumsum(softmax_scores)\n",
    "    for i in range(len(softmax_scores)):\n",
    "        if random_number < cumm_sum[i]:\n",
    "            return i"
   ]
  },
  {
   "cell_type": "code",
   "execution_count": null,
   "metadata": {
    "collapsed": true
   },
   "outputs": [],
   "source": []
  },
  {
   "cell_type": "code",
   "execution_count": 6,
   "metadata": {
    "collapsed": true
   },
   "outputs": [],
   "source": [
    "def get_legal_actions(pos):\n",
    "    legal_actions = list()\n",
    "    new_pos = list()\n",
    "    all_actions = [[1, 0], [0, 1], [-1, 0], [0, -1]]\n",
    "    for i in all_actions:\n",
    "        try:\n",
    "            new_pos = numpy.add(pos, numpy.array(i))\n",
    "            legal_actions.append(i)\n",
    "            env = environment[new_pos[0]][new_pos[1]]\n",
    "            if any(j < 0 for j in new_pos):\n",
    "                legal_actions.pop()\n",
    "        except IndexError:\n",
    "            legal_actions.pop()\n",
    "            \n",
    "        \n",
    "    return legal_actions"
   ]
  },
  {
   "cell_type": "code",
   "execution_count": null,
   "metadata": {
    "collapsed": true
   },
   "outputs": [],
   "source": []
  },
  {
   "cell_type": "code",
   "execution_count": 7,
   "metadata": {
    "collapsed": true
   },
   "outputs": [],
   "source": [
    "def take_action(pos, action):\n",
    "    # Take action in the actual environment and return a reward and new position based on environment dynamics\n",
    "    if numpy.random.rand(1) < trans_prob:\n",
    "        new_pos = numpy.add(pos, action)\n",
    "    else:\n",
    "        new_pos = numpy.add(pos, random.choice(get_legal_actions(pos)))\n",
    "    reward = environment[new_pos[0]][new_pos[1]]\n",
    "    return new_pos, reward"
   ]
  },
  {
   "cell_type": "code",
   "execution_count": null,
   "metadata": {
    "collapsed": true
   },
   "outputs": [],
   "source": []
  },
  {
   "cell_type": "code",
   "execution_count": null,
   "metadata": {
    "collapsed": true
   },
   "outputs": [],
   "source": []
  },
  {
   "cell_type": "code",
   "execution_count": 8,
   "metadata": {
    "collapsed": true
   },
   "outputs": [],
   "source": [
    "def mb_internal_environment_value(pos, mb_internal_environment):\n",
    "    value = mb_internal_environment[pos[0], pos[1]]\n",
    "    return value"
   ]
  },
  {
   "cell_type": "code",
   "execution_count": 9,
   "metadata": {
    "collapsed": true
   },
   "outputs": [],
   "source": [
    "def update_mb_internal_environment(pos, next_pos, reward, mb_internal_environment):\n",
    "    next_value_list = list()\n",
    "    for i in get_legal_actions(next_pos):\n",
    "        next_value_list.append(mb_internal_environment[next_pos[0]][next_pos[1]])\n",
    "    next_value = max(next_value_list)\n",
    "    error = reward + gamma*next_value - mb_internal_environment_value(pos, mb_internal_environment)\n",
    "    if error > 0.5:\n",
    "        error = 0.5\n",
    "    mb_internal_environment[pos[0], pos[1]] = mb_internal_environment_value(pos, mb_internal_environment) + alpha * error\n",
    "    return mb_internal_environment\n"
   ]
  },
  {
   "cell_type": "code",
   "execution_count": 10,
   "metadata": {
    "collapsed": true
   },
   "outputs": [],
   "source": [
    "def dls(pos, curr_depth, max_depth, mb_internal_environment):\n",
    "    value_list = list()\n",
    "    if curr_depth == max_depth:\n",
    "        return mb_internal_environment_value(pos, mb_internal_environment)\n",
    "    else:\n",
    "        actions = get_legal_actions(pos)\n",
    "        for i in actions:\n",
    "            next_pos = numpy.add(numpy.array(pos), numpy.array(i))\n",
    "            value = mb_internal_environment_value(pos, mb_internal_environment) + gamma * dls(next_pos, curr_depth+1, max_depth, mb_internal_environment)\n",
    "            value_list.append(value)\n",
    "        if value_list:\n",
    "            average_value = numpy.mean(numpy.array(value_list))\n",
    "    return average_value"
   ]
  },
  {
   "cell_type": "code",
   "execution_count": 11,
   "metadata": {
    "collapsed": true
   },
   "outputs": [],
   "source": [
    "def dls_action(pos, max_depth, mb_internal_environment):\n",
    "    # Do depth Limited Search till max_depth on the mb_internal_environment\n",
    "    actions = get_legal_actions(pos)\n",
    "    next_value_list = list()\n",
    "    next_pos_list = list()\n",
    "    for i in actions:\n",
    "        next_pos = numpy.add(numpy.array(pos), numpy.array(i))\n",
    "        next_value_list.append(dls(next_pos, 0, max_depth, mb_internal_environment))\n",
    "        next_pos_list.append(next_pos)\n",
    "    zipped = list(zip(actions, next_value_list))\n",
    "    random.shuffle(zipped)\n",
    "    actions, next_value_list = zip(*zipped)\n",
    "    action = actions[action_from_softmax(softmax(next_value_list))]\n",
    "    return action"
   ]
  },
  {
   "cell_type": "code",
   "execution_count": null,
   "metadata": {
    "collapsed": true
   },
   "outputs": [],
   "source": []
  },
  {
   "cell_type": "code",
   "execution_count": 12,
   "metadata": {
    "collapsed": true
   },
   "outputs": [],
   "source": [
    "def q_action(pos, mb_internal_environment):\n",
    "    # Look for q values in mf_internal_environment for given position\n",
    "    actions = get_legal_actions(pos)\n",
    "    next_value_list = list()\n",
    "    next_pos_list = list()\n",
    "    for i in actions:\n",
    "        next_pos = numpy.add(numpy.array(pos), numpy.array(i))\n",
    "        next_value_list.append(mb_internal_environment[next_pos[0], next_pos[1]])\n",
    "        next_pos_list.append(next_pos)\n",
    "    zipped = list(zip(actions, next_value_list))\n",
    "    random.shuffle(zipped)\n",
    "    actions, next_value_list = zip(*zipped)\n",
    "    action = actions[action_from_softmax(softmax(next_value_list))]\n",
    "    return action"
   ]
  },
  {
   "cell_type": "code",
   "execution_count": 53,
   "metadata": {
    "collapsed": true
   },
   "outputs": [],
   "source": [
    "def dual(num_iters, mb_internal_environment, change_env, change_at):\n",
    "    max_depth = 3\n",
    "    steps_per_reward = 0\n",
    "    steps = list()\n",
    "    time_per_reward = list()\n",
    "    first_action = list()\n",
    "    response_time_across_trials = list()\n",
    "    dls_count_across_trials = list()\n",
    "    q_count_across_trials = list()\n",
    "    total_count_across_trials = list()\n",
    "    total_reward_across_trials = list()\n",
    "    chunk_count = 0\n",
    "    for i in range(num_iters):\n",
    "        response_time = list()\n",
    "        pos = [0, 0]\n",
    "        mb_heat_env = numpy.zeros((numpy.shape(mb_internal_environment)))\n",
    "        mf_heat_env = numpy.zeros((numpy.shape(mb_internal_environment)))\n",
    "        map_heat = numpy.zeros((numpy.shape(mb_internal_environment)))\n",
    "        j = 0\n",
    "        dls_count = 0\n",
    "        q_count = 0\n",
    "        sum_reward = 0\n",
    "        total_count = 1\n",
    "        factor = 1\n",
    "        goal_start_time = time.time()\n",
    "        #change the environment at moderate training\n",
    "        if change_env and i == change_at:\n",
    "            environment[6, 6] = -10\n",
    "            environment[0, 0] = 10\n",
    "        while True:\n",
    "            if j % int((i)/factor+1) == 0 or chunk_count == 9:\n",
    "                factor += 0.5\n",
    "                mb_heat_env[pos[0]][pos[1]] += 1\n",
    "                response_time_start = time.time()\n",
    "                action = dls_action(pos, max_depth, mb_internal_environment)\n",
    "                next_pos, reward = take_action(pos, action)\n",
    "                mb_internal_environment = update_mb_internal_environment(pos, next_pos, reward, mb_internal_environment)\n",
    "                pos = next_pos\n",
    "                response_time_end = time.time()\n",
    "                dls_count += 1\n",
    "                chunk_count = 0\n",
    "                \n",
    "            else:\n",
    "                mf_heat_env[pos[0]][pos[1]] += 1\n",
    "                response_time_start = time.time()\n",
    "                action = q_action(pos, mb_internal_environment)\n",
    "                next_pos, reward = take_action(pos, action)\n",
    "                mb_internal_environment = update_mb_internal_environment(pos, next_pos, reward, mb_internal_environment)\n",
    "                pos = next_pos\n",
    "                response_time_end = time.time()\n",
    "                q_count += 1\n",
    "                chunk_count += 1\n",
    "            map_heat[pos[0]][pos[1]] += 1\n",
    "                \n",
    "            response_time.append(response_time_end - response_time_start)\n",
    "            sum_reward += reward\n",
    "            steps_per_reward += 1\n",
    "            if j == 0 and i == change_at:\n",
    "                prev_first = action\n",
    "            if j == 0 and i > change_at:\n",
    "                if numpy.array_equal(prev_first, [1, 0]) or numpy.array_equal(prev_first, [0, 1]):\n",
    "                    first_action.append(numpy.array_equal([1, 0], action) or numpy.array_equal([0, 1], action))\n",
    "                    \n",
    "            j += 1\n",
    "            if reward > 1:\n",
    "                mb_internal_environment[pos[0], pos[1]] = (1-alpha) * mb_internal_environment_value(pos, mb_internal_environment) + (alpha) * (reward)\n",
    "                steps.append(steps_per_reward)\n",
    "                steps_per_reward = 0\n",
    "                #print \"here\", pos\n",
    "                goal_time = time.time()\n",
    "                time_per_reward.append(goal_time - goal_start_time)\n",
    "                \n",
    "                break\n",
    "            total_count += 1\n",
    "            \n",
    "        total_reward_across_trials.append(sum_reward)\n",
    "        dls_count_across_trials.append(dls_count)\n",
    "        q_count_across_trials.append(q_count)\n",
    "        total_count_across_trials.append(total_count)\n",
    "        \"\"\"\n",
    "        print (\"Mb Heat\")\n",
    "        plt.imshow(mb_heat_env, cmap='hot', interpolation='nearest')\n",
    "        plt.show()\n",
    "        print (\"Mf Heat\")\n",
    "        plt.imshow(mf_heat_env, cmap='hot', interpolation='nearest')\n",
    "        plt.show()\n",
    "        \n",
    "        #print (\"Map Heat\")\n",
    "        #plt.imshow(mb_internal_environment, cmap='hot', interpolation='nearest')\n",
    "        #plt.show()\n",
    "        \"\"\"\n",
    "        response_time_across_trials.append(numpy.mean(response_time))\n",
    "    return total_reward_across_trials, steps, mb_internal_environment, time_per_reward, first_action, response_time_across_trials, dls_count_across_trials, q_count_across_trials,total_count_across_trials"
   ]
  },
  {
   "cell_type": "code",
   "execution_count": 28,
   "metadata": {
    "collapsed": true
   },
   "outputs": [],
   "source": [
    "def mb(num_iters, mb_internal_environment):\n",
    "    sum_reward = 0\n",
    "    max_depth = 3\n",
    "    steps = list()\n",
    "    time_per_reward = list()\n",
    "    for i in range(num_iters):\n",
    "        pos = [0, 0]\n",
    "        steps_per_reward = 0\n",
    "        goal_start_time = time.time()\n",
    "        while True:\n",
    "            action = dls_action(pos, max_depth, mb_internal_environment)\n",
    "            next_pos, reward = take_action(pos, action)\n",
    "            mb_internal_environemnt = update_mb_internal_environment(pos, next_pos, reward, mb_internal_environment)\n",
    "            pos = next_pos\n",
    "            sum_reward = 0.5*sum_reward + 0.5*reward\n",
    "            steps_per_reward += 1\n",
    "            if reward != 0:\n",
    "                mb_internal_environment[pos[0], pos[1]] = (1-alpha) * mb_internal_environment_value(pos, mb_internal_environment) + (alpha) * (reward)                \n",
    "                steps.append(steps_per_reward)\n",
    "                steps_per_reward = 0\n",
    "                goal_time = time.time()\n",
    "                time_per_reward.append(goal_time - goal_start_time)\n",
    "                #print \"here\"\n",
    "                break\n",
    "\n",
    "    return sum_reward, steps, mb_internal_environment, time_per_reward"
   ]
  },
  {
   "cell_type": "code",
   "execution_count": 29,
   "metadata": {
    "collapsed": true
   },
   "outputs": [],
   "source": [
    "def mf(num_iters, mb_internal_environment):\n",
    "    sum_reward = 0\n",
    "    steps = list()\n",
    "    time_per_reward = list()\n",
    "    \n",
    "    for i in range(num_iters):\n",
    "        pos = [3, 3]\n",
    "        steps_per_reward = 0        \n",
    "        #print (mb_internal_environment)\n",
    "        goal_start_time = time.time()\n",
    "        \n",
    "        while True:\n",
    "            action = q_action(pos, mb_internal_environment)\n",
    "            next_pos, reward = take_action(pos, action)\n",
    "            mb_internal_environment = update_mb_internal_environment(pos, next_pos, reward, mb_internal_environment)\n",
    "            pos = next_pos\n",
    "            sum_reward = 0.5*sum_reward + 0.5*reward\n",
    "            steps_per_reward += 1\n",
    "            if reward != 0:\n",
    "                \n",
    "                mb_internal_environment[pos[0], pos[1]] = (1-alpha) * mb_internal_environment_value(pos, mb_internal_environment) + (alpha) * (reward)\n",
    "                steps.append(steps_per_reward)\n",
    "                steps_per_reward = 0\n",
    "                goal_time = time.time()\n",
    "                time_per_reward.append(goal_time - goal_start_time)\n",
    "                \n",
    "                break\n",
    "            \n",
    "    return sum_reward, steps, mb_internal_environment, mb_internal_environment, time_per_reward"
   ]
  },
  {
   "cell_type": "code",
   "execution_count": null,
   "metadata": {
    "collapsed": true
   },
   "outputs": [],
   "source": []
  },
  {
   "cell_type": "markdown",
   "metadata": {},
   "source": [
    "Run the Dual Process on grid world. Get a list of individual time taken for each and rewards obtained."
   ]
  },
  {
   "cell_type": "code",
   "execution_count": 58,
   "metadata": {
    "collapsed": true
   },
   "outputs": [],
   "source": [
    "times_dual = list()\n",
    "reward_dual = list()\n",
    "steps_dual = list()\n",
    "time_per_reward_dual = list()\n",
    "first_action_dual = list()\n",
    "response_time_dual = list()\n",
    "dls_count_dual = list()\n",
    "q_count_dual = list()\n",
    "total_count_dual = list()\n",
    "change_at = 30\n",
    "iterations = 50\n",
    "change = False\n",
    "trials = 10\n",
    "for i in range(trials):\n",
    "    environment = numpy.ones((7, 7))\n",
    "    environment = -0.1*environment\n",
    "    trans_prob = 0.7\n",
    "    environment[6, 6] = 10\n",
    "    #environment[8, 8] = -10\n",
    "    #environment[0, 0] = -10\n",
    "    mb_internal_environment = numpy.zeros((7, 7))\n",
    "    #mb_internal_environment[6, 6] = 10\n",
    "    start_time = time.time()\n",
    "    dual_result = dual(iterations, mb_internal_environment, change, change_at)\n",
    "    reward_dual.append(dual_result[0])\n",
    "    steps_dual.append(dual_result[1])\n",
    "    times_dual.append(time.time() - start_time)\n",
    "    time_per_reward_dual.append(dual_result[3])\n",
    "    first_action_dual.append(dual_result[4])\n",
    "    response_time_dual.append(dual_result[5])\n",
    "    dls_count_dual.append(dual_result[6])\n",
    "    q_count_dual.append(dual_result[7])\n",
    "    total_count_dual.append(dual_result[8])\n",
    "\n"
   ]
  },
  {
   "cell_type": "code",
   "execution_count": 59,
   "metadata": {},
   "outputs": [
    {
     "name": "stdout",
     "output_type": "stream",
     "text": [
      "[ 167.6   96.6   54.4   63.4   30.4   45.    34.4   34.    36.4   31.9\n",
      "   43.8   24.2   15.7   10.    21.1   15.2   23.    11.9   10.3   13.7\n",
      "   12.6   10.4   12.5   13.9    8.4    8.2   10.4   10.2    9.     8.9\n",
      "    5.6   11.4   10.6    7.8    6.4    6.2    6.7    6.3    4.7    7.5\n",
      "    6.2    6.6    8.4    6.8    3.7    7.     6.2    4.8    8.4    9.7]\n",
      "[ 167.6   96.6   56.4   67.4   38.4   55.    48.    49.    54.6   55.8\n",
      "   71.6   52.8   44.8   36.    49.4   48.4   66.4   43.8   46.    57.2\n",
      "   53.2   42.8   53.6   59.    40.    40.4   48.    50.6   48.4   45.6\n",
      "   35.2   60.6   61.4   47.2   42.    43.6   45.6   42.2   38.2   52.6\n",
      "   51.2   53.6   59.4   52.    32.    46.6   44.4   36.8   59.6   64. ]\n",
      "[-6.66  0.44  4.46  3.36  6.26  4.6   5.3   5.2   4.64  4.52  2.94  4.82\n",
      "  5.62  6.5   5.16  5.26  3.46  5.72  5.5   4.38  4.78  5.82  4.74  4.2\n",
      "  6.1   6.06  5.3   5.04  5.26  5.54  6.58  4.04  3.96  5.38  5.9   5.74\n",
      "  5.54  5.88  6.28  4.84  4.98  4.74  4.16  4.9   6.9   5.44  5.66  6.42\n",
      "  4.14  3.7 ]\n"
     ]
    }
   ],
   "source": [
    "print (numpy.mean(dls_count_dual, axis=0))\n",
    "print (numpy.mean(total_count_dual, axis=0))\n",
    "print (numpy.mean(reward_dual, axis=0))\n"
   ]
  },
  {
   "cell_type": "code",
   "execution_count": 60,
   "metadata": {
    "scrolled": true
   },
   "outputs": [
    {
     "data": {
      "image/png": "[encoded data removed]",
      "text/plain": [
       "<matplotlib.figure.Figure at 0x7f5725434940>"
      ]
     },
     "metadata": {},
     "output_type": "display_data"
    }
   ],
   "source": [
    "#print dls_count_dual\n",
    "#print q_count_dual\n",
    "#print total_count_dual\n",
    "plt.cla()\n",
    "mb_line, = plt.plot(numpy.arange(iterations), (numpy.true_divide(numpy.transpose(numpy.mean(dls_count_dual, axis=0)), numpy.transpose(numpy.mean(total_count_dual, axis=0)))), label = \"GD Percentage\")\n",
    "mf_line, = plt.plot(numpy.arange(iterations), numpy.true_divide(numpy.transpose(numpy.mean(q_count_dual, axis=0)), numpy.transpose(numpy.mean(total_count_dual, axis=0)))) \n",
    "plt.legend([mb_line, mf_line], [\"Model Based\", \"Model_free\"])\n",
    "plt.title(\"Relative Control of MB and MF actors\")\n",
    "plt.xlabel(\"Iterations\")\n",
    "plt.ylabel(\"Proportion of Actions\")\n",
    "plt.show()"
   ]
  },
  {
   "cell_type": "code",
   "execution_count": 61,
   "metadata": {},
   "outputs": [
    {
     "data": {
      "image/png": "[encoded data removed]",
      "text/plain": [
       "<matplotlib.figure.Figure at 0x7f57289e1828>"
      ]
     },
     "metadata": {},
     "output_type": "display_data"
    },
    {
     "name": "stdout",
     "output_type": "stream",
     "text": [
      "4.79\n"
     ]
    }
   ],
   "source": [
    "plt.cla()\n",
    "reward_line, = plt.plot(numpy.arange(iterations), numpy.mean(reward_dual, axis=0))\n",
    "plt.show()\n",
    "print (numpy.mean(reward_dual))"
   ]
  },
  {
   "cell_type": "code",
   "execution_count": null,
   "metadata": {},
   "outputs": [],
   "source": []
  },
  {
   "cell_type": "code",
   "execution_count": null,
   "metadata": {
    "collapsed": true
   },
   "outputs": [],
   "source": [
    "plt.cla()\n",
    "plt.plot(numpy.arange(iterations), numpy.multiply(numpy.mean(response_time_dual, axis=0), 1000))\n",
    "plt.title(\"Decreasing Response Time With Practice\")\n",
    "plt.ylabel(\"Mean Response Time\")\n",
    "plt.xlabel(\"Iterations\")\n",
    "plt.show()"
   ]
  },
  {
   "cell_type": "markdown",
   "metadata": {},
   "source": [
    "Outcome devaluation for overtraining. (Change = True, change_at = 30)"
   ]
  },
  {
   "cell_type": "code",
   "execution_count": 16,
   "metadata": {},
   "outputs": [
    {
     "name": "stdout",
     "output_type": "stream",
     "text": [
      "Trial Done\n",
      "Trial Done\n",
      "Trial Done\n",
      "Trial Done\n",
      "Trial Done\n",
      "Trial Done\n"
     ]
    },
    {
     "name": "stderr",
     "output_type": "stream",
     "text": [
      "/home/tejas/anaconda3/lib/python3.6/site-packages/numpy/core/_methods.py:59: RuntimeWarning: Mean of empty slice.\n",
      "  warnings.warn(\"Mean of empty slice.\", RuntimeWarning)\n",
      "/home/tejas/anaconda3/lib/python3.6/site-packages/numpy/core/_methods.py:70: RuntimeWarning: invalid value encountered in double_scalars\n",
      "  ret = ret.dtype.type(ret / rcount)\n"
     ]
    },
    {
     "name": "stdout",
     "output_type": "stream",
     "text": [
      "Trial Done\n",
      "Trial Done\n",
      "Trial Done\n",
      "Trial Done\n",
      "Trial Done\n",
      "Trial Done\n",
      "Trial Done\n",
      "Trial Done\n",
      "Trial Done\n",
      "Trial Done\n",
      "Trial Done\n",
      "Trial Done\n",
      "Trial Done\n",
      "Trial Done\n",
      "Trial Done\n",
      "Trial Done\n",
      "Trial Done\n",
      "Trial Done\n",
      "Trial Done\n",
      "Trial Done\n",
      "Trial Done\n",
      "Trial Done\n",
      "Trial Done\n",
      "Trial Done\n",
      "Trial Done\n",
      "Trial Done\n",
      "Trial Done\n",
      "Trial Done\n",
      "Trial Done\n",
      "Trial Done\n",
      "Trial Done\n",
      "Trial Done\n",
      "Trial Done\n",
      "Trial Done\n"
     ]
    }
   ],
   "source": [
    "times_dual = list()\n",
    "reward_dual = list()\n",
    "steps_dual = list()\n",
    "time_per_reward_dual = list()\n",
    "first_action_dual = list()\n",
    "change = True\n",
    "iterations = 50\n",
    "trials = 10\n",
    "change_list = [10, 20, 30, 40]\n",
    "stay_percentage = numpy.zeros((trials, len(change_list)))\n",
    "for i in range(trials):\n",
    "    for k in range(len(change_list)):\n",
    "        environment = numpy.ones((7, 7))\n",
    "        environment = -0.1*environment\n",
    "        trans_prob = 0.7\n",
    "        environment[6, 6] = 10\n",
    "        #environment[8, 8] = -10\n",
    "        environment[0, 0] = -10\n",
    "        mb_internal_environment = numpy.zeros((7, 7))\n",
    "        #mb_internal_environment[6, 6] = 10\n",
    "        start_time = time.time()\n",
    "        dual_result = dual(iterations, mb_internal_environment, change, change_at=change_list[k])\n",
    "        reward_dual.append(dual_result[0])\n",
    "        steps_dual.append(dual_result[1])\n",
    "        times_dual.append(time.time() - start_time)\n",
    "        time_per_reward_dual.append(dual_result[3])\n",
    "        stay_percentage[i][k] = numpy.mean(dual_result[4])\n",
    "        print (\"Trial Done\")\n",
    "        \n",
    "    #stay_percentage[i] = [numpy.mean(i) for i in first_action_dual]\n",
    "    #print float(sum(first_action_dual))\n"
   ]
  },
  {
   "cell_type": "code",
   "execution_count": 17,
   "metadata": {},
   "outputs": [
    {
     "name": "stdout",
     "output_type": "stream",
     "text": [
      "[[ 0.53846154  0.65517241  0.42105263  0.66666667]\n",
      " [ 0.51282051  0.48275862         nan  0.44444444]\n",
      " [ 0.43589744  0.27586207  0.47368421         nan]\n",
      " [ 0.23076923  0.27586207         nan  0.44444444]\n",
      " [ 0.30769231  0.4137931   0.78947368  0.66666667]\n",
      " [ 0.35897436         nan         nan         nan]\n",
      " [        nan         nan  0.63157895  0.33333333]\n",
      " [ 0.35897436  0.44827586  0.31578947         nan]\n",
      " [ 0.35897436  0.37931034  0.36842105  0.55555556]\n",
      " [        nan  0.24137931  0.47368421  0.33333333]]\n"
     ]
    }
   ],
   "source": [
    "#print collections.Counter(first_action_dual)\n",
    "#print numpy.mean(numpy.sum(first_action_dual))\n",
    "print (stay_percentage)"
   ]
  },
  {
   "cell_type": "code",
   "execution_count": null,
   "metadata": {
    "collapsed": true
   },
   "outputs": [],
   "source": []
  },
  {
   "cell_type": "code",
   "execution_count": 20,
   "metadata": {},
   "outputs": [
    {
     "name": "stdout",
     "output_type": "stream",
     "text": [
      "[ 0.38782051  0.39655172  0.4962406   0.49206349]\n"
     ]
    }
   ],
   "source": [
    "stay_percentage_mean = numpy.nanmean(stay_percentage, axis=0)\n",
    "print (stay_percentage_mean)"
   ]
  },
  {
   "cell_type": "code",
   "execution_count": 21,
   "metadata": {
    "scrolled": true
   },
   "outputs": [
    {
     "data": {
      "image/png": "[encoded data removed]",
      "text/plain": [
       "<matplotlib.figure.Figure at 0x7f5755d75358>"
      ]
     },
     "metadata": {},
     "output_type": "display_data"
    }
   ],
   "source": [
    "plt.plot([10, 20, 30, 40], stay_percentage_mean, marker = 'o')\n",
    "plt.xlabel(\"Trial Number\")\n",
    "plt.ylabel(\"Stay Probability\")\n",
    "plt.title(\"Stay probability for changes at different points\")\n",
    "plt.show()"
   ]
  },
  {
   "cell_type": "markdown",
   "metadata": {},
   "source": [
    "Outcome Devaluation for moderately trained. (Change == True, change_at = 10)"
   ]
  },
  {
   "cell_type": "code",
   "execution_count": null,
   "metadata": {
    "collapsed": true
   },
   "outputs": [],
   "source": [
    "times_dual = list()\n",
    "reward_dual = list()\n",
    "steps_dual = list()\n",
    "time_per_reward_dual = list()\n",
    "first_action_dual = list()\n",
    "change_at = 10\n",
    "iterations = 50\n",
    "change = True\n",
    "trials = 10\n",
    "for i in range(trials):\n",
    "    environment = numpy.ones((7, 7))\n",
    "    environment = -0.1*environment\n",
    "    trans_prob = 0.7\n",
    "    environment[6, 6] = 10\n",
    "    #environment[8, 8] = -10\n",
    "    #environment[0, 0] = -10\n",
    "    mb_internal_environment = numpy.zeros((7, 7))\n",
    "    #mb_internal_environment[6, 6] = 10\n",
    "    start_time = time.time()\n",
    "    dual_result = dual(iterations, mb_internal_environment, change, change_at)\n",
    "    reward_dual.append(dual_result[0])\n",
    "    steps_dual.append(dual_result[1])\n",
    "    times_dual.append(time.time() - start_time)\n",
    "    time_per_reward_dual.append(dual_result[3])\n",
    "    first_action_dual.append(dual_result[4])"
   ]
  },
  {
   "cell_type": "code",
   "execution_count": null,
   "metadata": {
    "collapsed": true
   },
   "outputs": [],
   "source": [
    "#print collections.Counter(first_action_dual)\n",
    "stay_percentage_moderatelytrained = list()\n",
    "print collections.Counter(tuple(i) for i in first_action_dual[0][change_at:]).values()\n",
    "for i in range(trials):\n",
    "    stay_percentage_moderatelytrained.append((1 - max(collections.Counter(tuple(i) for i in first_action_dual[i][change_at:]).values())/float(iterations-change_at)))\n",
    "print numpy.mean(stay_percentage_moderatelytrained)"
   ]
  },
  {
   "cell_type": "code",
   "execution_count": null,
   "metadata": {
    "collapsed": true
   },
   "outputs": [],
   "source": [
    "stay_percentage_labels = [\"Overtrained\", \"Moderately trained\"]\n",
    "plt.bar(numpy.arange(2), (numpy.mean(stay_percentage_overtrain), numpy.mean(stay_percentage_moderatelytrained)), color = 'b')\n",
    "plt.xticks(numpy.arange(2), stay_percentage_labels)\n",
    "plt.ylabel(\"First Action Stay Percentage\")\n",
    "plt.title(\"Outcome Devaluation\")\n",
    "plt.show()"
   ]
  },
  {
   "cell_type": "code",
   "execution_count": null,
   "metadata": {
    "collapsed": true
   },
   "outputs": [],
   "source": [
    "times_mb = list()\n",
    "reward_mb = list()\n",
    "steps_mb = list()\n",
    "time_per_reward_mb = list()\n",
    "for i in range(10):\n",
    "    environment = numpy.zeros((7, 7))\n",
    "    trans_prob = 0.7\n",
    "    environment[6, 6] = 10\n",
    "    \n",
    "    #environment[8, 8] = -10\n",
    "    #environment[0, 0] = -10\n",
    "    mb_internal_environment = numpy.zeros((7, 7))\n",
    "    start_time = time.time()\n",
    "    mb_result = mb(50, mb_internal_environment)\n",
    "    reward_mb.append(mb_result[0])\n",
    "    steps_mb.append(mb_result[1])\n",
    "    times_mb.append(time.time() - start_time)\n",
    "    time_per_reward_mb.append(mb_result[3])\n"
   ]
  },
  {
   "cell_type": "code",
   "execution_count": null,
   "metadata": {
    "collapsed": true
   },
   "outputs": [],
   "source": [
    "times_mf = list()\n",
    "reward_mf = list()\n",
    "steps_mf = list()\n",
    "time_per_reward_mf = list()\n",
    "for i in range(10):\n",
    "    environment = numpy.zeros((7, 7))\n",
    "    trans_prob = 0.7\n",
    "    environment[6, 6] = 10\n",
    "    #environment[8, 8] = -10\n",
    "    #environment[0, 0] = -10\n",
    "    mb_internal_environment = numpy.zeros((10, 10))\n",
    "    start_time = time.time()\n",
    "    mf_result = mf(50, mb_internal_environment)\n",
    "    reward_mf.append(mf_result[0])\n",
    "    steps_mf.append(mf_result[1])\n",
    "    times_mf.append(time.time() - start_time)\n",
    "    time_per_reward_mf.append(mf_result[4])"
   ]
  },
  {
   "cell_type": "markdown",
   "metadata": {},
   "source": [
    "Plotting time to complete one trial -- one walk through the environment. The walk completes on reward. \n",
    "The plot shows the dual process approaches TD in completing the walk through the environment -- showing goal directed behavior converted to habits."
   ]
  },
  {
   "cell_type": "code",
   "execution_count": null,
   "metadata": {
    "collapsed": true
   },
   "outputs": [],
   "source": [
    "timeperrewardmb_plot = plt.plot(numpy.arange(0, 50), numpy.mean(numpy.array(time_per_reward_mb), axis=0), color = 'b', label = 'MB')\n",
    "timeperrewardmf_plot = plt.plot(numpy.arange(0, 50), numpy.mean(numpy.array(time_per_reward_mf), axis=0), color = 'r', label = 'MF')\n",
    "timeperrewarddual_plot = plt.plot(numpy.arange(0, 50), numpy.mean(numpy.array(time_per_reward_dual), axis=0), color = 'g', label = 'Dual')\n",
    "plt.legend()\n",
    "plt.xlabel('Trial')\n",
    "plt.ylabel('Time to reach goal')\n",
    "\n",
    "#plt.xticks(numpy.arange(3), ('mb', 'dual', 'mf'))\n",
    "plt.show()"
   ]
  },
  {
   "cell_type": "code",
   "execution_count": null,
   "metadata": {
    "collapsed": true
   },
   "outputs": [],
   "source": [
    "reward_mean_dual = numpy.mean(numpy.array(reward_dual))\n",
    "reward_mean_mb = numpy.mean(numpy.array(reward_mb))\n",
    "reward_mean_mf = numpy.mean(numpy.array(reward_mf))\n",
    "times_mean_dual = numpy.mean(numpy.array(times_dual))\n",
    "times_mean_mb = numpy.mean(numpy.array(times_mb))\n",
    "times_mean_mf = numpy.mean(numpy.array(times_mf))\n",
    "steps_mean_dual = numpy.mean(steps_dual)\n",
    "steps_mean_mb = numpy.mean(steps_mb)\n",
    "steps_mean_mf = numpy.mean(steps_mf)\n"
   ]
  },
  {
   "cell_type": "code",
   "execution_count": null,
   "metadata": {
    "collapsed": true
   },
   "outputs": [],
   "source": [
    "print steps_mean_dual"
   ]
  },
  {
   "cell_type": "code",
   "execution_count": null,
   "metadata": {
    "collapsed": true
   },
   "outputs": [],
   "source": []
  },
  {
   "cell_type": "code",
   "execution_count": null,
   "metadata": {
    "collapsed": true
   },
   "outputs": [],
   "source": [
    "stepsmf_plot, = plt.plot(numpy.arange(0, 50), numpy.mean(numpy.array(steps_mf), axis=0), color = 'r', label = 'MF')\n",
    "stepsdual_plot, = plt.plot(numpy.arange(0, 50), numpy.mean(numpy.array(steps_dual), axis=0), color = 'g', label = 'Dual')\n",
    "stepsmb_plot, = plt.plot(numpy.arange(0, 50), numpy.mean(numpy.array(steps_mb), axis=0), color = 'b', label = 'MB')\n",
    "plt.legend()\n",
    "plt.xlabel(\"Trials\")\n",
    "plt.ylabel(\"Steps\")\n",
    "plt.show()"
   ]
  },
  {
   "cell_type": "code",
   "execution_count": null,
   "metadata": {
    "collapsed": true
   },
   "outputs": [],
   "source": [
    "rewards = numpy.array([reward_mean_mb, reward_mean_dual, reward_mean_mf])\n",
    "#yerror = numpy.array(reward_errors)\n",
    "print (rewards)"
   ]
  },
  {
   "cell_type": "code",
   "execution_count": null,
   "metadata": {
    "collapsed": true
   },
   "outputs": [],
   "source": [
    "reward_plot, = plt.plot(numpy.arange(0, 3), rewards)\n",
    "plt.xticks(numpy.arange(3), ('mb', 'dual', 'mf'))\n",
    "plt.xlim(xmin = -1, xmax = 4)\n",
    "#plt.ylim(ymin = 4.5, ymax = 5.5)\n",
    "plt.xlabel('RL methods')\n",
    "plt.ylabel(\"Rewards\")\n",
    "\n",
    "plt.show()"
   ]
  },
  {
   "cell_type": "code",
   "execution_count": null,
   "metadata": {
    "collapsed": true
   },
   "outputs": [],
   "source": [
    "times = numpy.array([times_mean_mb, times_mean_dual, times_mean_mf])\n",
    "print (times)\n",
    "plt.bar(numpy.arange(3), times, align='center')\n",
    "plt.xticks(numpy.arange(3), ('mb', 'dual', 'mf'))\n",
    "plt.xlim(xmin = -1, xmax = 4)\n",
    "#plt.ylim(ymin = -1, ymax = 10)\n",
    "plt.xlabel('RL methods')\n",
    "plt.ylabel(\"Time (in secs)\")\n",
    "\n",
    "plt.show()"
   ]
  },
  {
   "cell_type": "code",
   "execution_count": null,
   "metadata": {
    "collapsed": true
   },
   "outputs": [],
   "source": [
    "steps = numpy.array([steps_mean_mb, steps_mean_dual, steps_mean_mf])\n",
    "print (steps)\n",
    "plt.bar(numpy.arange(3), steps, align='center')\n",
    "plt.xticks(numpy.arange(3), ('mb', 'dual', 'mf'))\n",
    "plt.xlim(xmin = -1, xmax = 3)\n",
    "#plt.ylim(ymin = 350, ymax = 400)\n",
    "plt.xlabel('RL methods')\n",
    "plt.ylabel(\"Stpes\")\n",
    "\n",
    "plt.show()"
   ]
  },
  {
   "cell_type": "code",
   "execution_count": null,
   "metadata": {
    "collapsed": true
   },
   "outputs": [],
   "source": []
  },
  {
   "cell_type": "code",
   "execution_count": null,
   "metadata": {
    "collapsed": true
   },
   "outputs": [],
   "source": []
  }
 ],
 "metadata": {
  "anaconda-cloud": {},
  "kernelspec": {
   "display_name": "Python 3",
   "language": "python",
   "name": "python3"
  },
  "language_info": {
   "codemirror_mode": {
    "name": "ipython",
    "version": 3
   },
   "file_extension": ".py",
   "mimetype": "text/x-python",
   "name": "python",
   "nbconvert_exporter": "python",
   "pygments_lexer": "ipython3",
   "version": "3.6.0"
  }
 },
 "nbformat": 4,
 "nbformat_minor": 1
}
