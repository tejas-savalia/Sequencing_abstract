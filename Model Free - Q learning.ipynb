{
 "cells": [
  {
   "cell_type": "code",
   "execution_count": 6,
   "metadata": {
    "collapsed": false
   },
   "outputs": [
    {
     "name": "stdout",
     "output_type": "stream",
     "text": [
      "Inside model update - instant reward, state 0 [array([1, 0]) 0]\n",
      "Inside model update - instant reward, state 0 [array([1, 1]) 0]\n",
      "Inside model update - instant reward, state 0 [array([1, 2]) 0]\n",
      "Inside model update - instant reward, state 0 [array([1, 3]) 0]\n",
      "Inside model update - instant reward, state 0 [array([1, 4]) 0]\n",
      "Inside model update - instant reward, state 0 [array([1, 5]) 0]\n",
      "Inside model update - instant reward, state 0 [array([2, 5]) 0]\n",
      "Inside model update - instant reward, state 10 [array([3, 5]) 0]\n",
      "Inside model update - instant reward, state 0 [array([4, 5]) 0]\n",
      "Inside model update - instant reward, state 0 [array([4, 4]) 0]\n",
      "Inside model update - instant reward, state 0 [array([3, 4]) 0]\n",
      "Inside model update - instant reward, state 0 [array([2, 4]) 0]\n",
      "Inside model update - instant reward, state 0 [array([2, 3]) 0]\n",
      "Inside model update - instant reward, state 0 [array([3, 3]) 0]\n",
      "Inside model update - instant reward, state 0 [array([4, 3]) 0]\n",
      "Inside model update - instant reward, state 0 [array([5, 3]) 0]\n",
      "Inside model update - instant reward, state 0 [array([5, 4]) 0]\n",
      "Inside model update - instant reward, state 0 [array([5, 5]) 0]\n",
      "Inside model update - instant reward, state 0 [array([5, 6]) 0]\n",
      "Inside model update - instant reward, state 0 [array([4, 6]) 0]\n",
      "Inside model update - instant reward, state 0 [array([3, 6]) 0]\n",
      "Inside model update - instant reward, state 0 [array([2, 6]) 0]\n",
      "Inside model update - instant reward, state 0 [array([1, 6]) 0]\n",
      "Inside model update - instant reward, state 0 [array([1, 7]) 0]\n",
      "Inside model update - instant reward, state 0 [array([2, 7]) 0]\n",
      "Inside model update - instant reward, state 0 [array([3, 7]) 0]\n",
      "Inside model update - instant reward, state 0 [array([4, 7]) 0]\n",
      "Inside model update - instant reward, state 0 [array([5, 7]) 0]\n",
      "Inside model update - instant reward, state 0 [array([6, 7]) 0]\n",
      "Inside model update - instant reward, state 0 [array([6, 6]) 0]\n",
      "Inside model update - instant reward, state 0 [array([6, 5]) 0]\n",
      "Inside model update - instant reward, state 0 [array([6, 4]) 0]\n",
      "Inside model update - instant reward, state 0 [array([7, 4]) 0]\n",
      "Inside model update - instant reward, state 0 [array([7, 5]) 0]\n",
      "Inside model update - instant reward, state 0 [array([7, 6]) 0]\n",
      "Inside model update - instant reward, state 0 [array([8, 6]) 0]\n",
      "Inside model update - instant reward, state 0 [array([8, 5]) 0]\n",
      "Inside model update - instant reward, state 0 [array([9, 5]) 0]\n",
      "Inside model update - instant reward, state 0 [array([9, 6]) 0]\n",
      "Inside model update - instant reward, state 0 [array([9, 7]) 0]\n",
      "Inside model update - instant reward, state 0 [array([9, 8]) 0]\n",
      "Inside model update - instant reward, state 0 [array([8, 8]) 0]\n",
      "Inside model update - instant reward, state 0 [array([7, 8]) 0]\n",
      "Inside model update - instant reward, state 0 [array([6, 8]) 0]\n",
      "Inside model update - instant reward, state 0 [array([5, 8]) 0]\n",
      "Inside model update - instant reward, state 0 [array([4, 8]) 0]\n",
      "Inside model update - instant reward, state 0 [array([3, 8]) 0]\n",
      "Inside model update - instant reward, state 0 [array([2, 8]) 0]\n",
      "Inside model update - instant reward, state 0 [array([2, 9]) 0]\n",
      "Inside model update - instant reward, state 0 [array([3, 9]) 0]\n",
      "Inside model update - instant reward, state 0 [array([4, 9]) 0]\n",
      "Inside model update - instant reward, state 0 [array([5, 9]) 0]\n",
      "Inside model update - instant reward, state 0 [array([6, 9]) 0]\n",
      "Inside model update - instant reward, state 0 [array([7, 9]) 0]\n",
      "Inside model update - instant reward, state 0 [array([8, 9]) 0]\n",
      "Inside model update - instant reward, state 10 [array([9, 9]) 0]\n",
      "Inside model update - instant reward, state 0 [array([9, 8]) 0]\n",
      "Inside model update - instant reward, state 10 [array([9, 9]) 0]\n",
      "Inside model update - instant reward, state 0 [array([9, 8]) 0]\n",
      "Inside model update - instant reward, state 0 [array([8, 8]) 0]\n",
      "Inside model update - instant reward, state 0 [array([8, 7]) 0]\n",
      "Inside model update - instant reward, state 0 [array([7, 7]) 0]\n",
      "Inside model update - instant reward, state 0 [array([7, 6]) 0]\n",
      "Inside model update - instant reward, state 0 [array([8, 6]) 0]\n",
      "Inside model update - instant reward, state 0 [array([8, 7]) 0]\n",
      "Inside model update - instant reward, state 0 [array([8, 8]) 0]\n",
      "Inside model update - instant reward, state 0 [array([9, 8]) 0]\n",
      "Inside model update - instant reward, state 0 [array([9, 7]) 0]\n",
      "Inside model update - instant reward, state 0 [array([8, 7]) 0]\n",
      "Inside model update - instant reward, state 0 [array([9, 7]) 0]\n",
      "Inside model update - instant reward, state 0 [array([9, 8]) 0]\n",
      "Inside model update - instant reward, state 10 [array([9, 9]) 0]\n",
      "Inside model update - instant reward, state 0 [array([8, 9]) 0]\n",
      "Inside model update - instant reward, state 0 [array([7, 9]) 0]\n",
      "Inside model update - instant reward, state 0 [array([7, 8]) 0]\n",
      "Inside model update - instant reward, state 0 [array([7, 9]) 0]\n",
      "Inside model update - instant reward, state 0 [array([8, 9]) 0]\n",
      "Inside model update - instant reward, state 0 [array([7, 9]) 0]\n",
      "Inside model update - instant reward, state 0 [array([7, 8]) 0]\n",
      "Inside model update - instant reward, state 0 [array([8, 8]) 0]\n",
      "Inside model update - instant reward, state 0 [array([7, 8]) 0]\n",
      "Inside model update - instant reward, state 0 [array([7, 9]) 0]\n",
      "Inside model update - instant reward, state 0 [array([8, 9]) 0]\n",
      "Inside model update - instant reward, state 0 [array([8, 8]) 0]\n",
      "Inside model update - instant reward, state 0 [array([8, 7]) 0]\n",
      "Inside model update - instant reward, state 0 [array([8, 6]) 0]\n",
      "Inside model update - instant reward, state 0 [array([7, 6]) 0]\n",
      "Inside model update - instant reward, state 0 [array([8, 6]) 0]\n",
      "Inside model update - instant reward, state 0 [array([8, 7]) 0]\n",
      "Inside model update - instant reward, state 0 [array([8, 8]) 0]\n",
      "Inside model update - instant reward, state 0 [array([8, 9]) 0]\n",
      "Inside model update - instant reward, state 10 [array([9, 9]) 0]\n",
      "Inside model update - instant reward, state 0 [array([8, 9]) 0]\n",
      "Inside model update - instant reward, state 0 [array([8, 8]) 0]\n",
      "Inside model update - instant reward, state 0 [array([8, 9]) 0]\n",
      "Inside model update - instant reward, state 0 [array([7, 9]) 0]\n",
      "Inside model update - instant reward, state 0 [array([8, 9]) 0]\n",
      "Inside model update - instant reward, state 10 [array([9, 9]) 0]\n",
      "Inside model update - instant reward, state 0 [array([8, 9]) 0]\n",
      "Inside model update - instant reward, state 0 [array([7, 9]) 0]\n",
      "[array([7, 9]) 0]\n",
      "60\n"
     ]
    }
   ],
   "source": [
    "import numpy\n",
    "import Environment as ev\n",
    "import Agent\n",
    "import random"
   ]
  },
  {
   "cell_type": "code",
   "execution_count": 7,
   "metadata": {
    "collapsed": false
   },
   "outputs": [],
   "source": [
    "#q values is a list of tuples of the form (position, action, value). This list gives the entire grid world\n",
    "q_values = list()\n",
    "for i in range(10):\n",
    "    for j in range(10):\n",
    "        for k in ev.get_legal_actions([i, j]):\n",
    "            q_values.append([[i, j], k.tolist(), 0])\n",
    "alpha = 0.1\n",
    "gamma = 0.9"
   ]
  },
  {
   "cell_type": "code",
   "execution_count": 8,
   "metadata": {
    "collapsed": true
   },
   "outputs": [],
   "source": [
    "def next_pos(curr_pos, action):\n",
    "    next_pos, reward = ev.model_free_action(numpy.array(curr_pos), numpy.array(action))\n",
    "    return next_pos, reward"
   ]
  },
  {
   "cell_type": "code",
   "execution_count": 9,
   "metadata": {
    "collapsed": false
   },
   "outputs": [],
   "source": [
    "def q_states_from_pos(q_values, pos):\n",
    "    q_state = list()\n",
    "    for i in q_values:\n",
    "        if i[0] == pos:\n",
    "            q_state.append(i)\n",
    "    return q_state"
   ]
  },
  {
   "cell_type": "code",
   "execution_count": 10,
   "metadata": {
    "collapsed": true
   },
   "outputs": [],
   "source": [
    "def find_max_q(q_state):\n",
    "    a = list()\n",
    "    random.shuffle(q_state)\n",
    "    for i in q_state:\n",
    "        a.append(i[2])\n",
    "    max_q = q_state[a.index(max(a))]\n",
    "    return max_q"
   ]
  },
  {
   "cell_type": "code",
   "execution_count": 11,
   "metadata": {
    "collapsed": false
   },
   "outputs": [],
   "source": [
    "def action(pos, q_values):\n",
    "    q_state = q_states_from_pos(q_values, pos)\n",
    "    #find the action that gives max q value 80% times. Rest, explore\n",
    "    if random.uniform(0, 1) <= 0.8:\n",
    "        max_q = find_max_q(q_state)\n",
    "    else:\n",
    "        max_q = random.choice(q_state)\n",
    "    #Take the next step in the environment. Function returns new position and instant reward the environment gave\n",
    "    new_q_pos, instant_reward = next_pos(pos, max_q[1])    \n",
    "    new_state = q_states_from_pos(q_values, new_q_pos.tolist())\n",
    "    #TD Upate to previous state, based on instant reward and belief of the value of the next state\n",
    "    max_q[2] = q_update(max_q, new_state, instant_reward)\n",
    "    #Update the beleif by updating in q_values. \n",
    "    q_values[q_values.index(max_q)] = max_q\n",
    "    #if instant_reward != 0:\n",
    "    #    new_state = q\n",
    "    if instant_reward != 0:\n",
    "        new_state = q_states_from_pos(q_values, [0,0])\n",
    "    return new_state, q_values"
   ]
  },
  {
   "cell_type": "code",
   "execution_count": 12,
   "metadata": {
    "collapsed": true
   },
   "outputs": [],
   "source": [
    "def q_update(state, new_state, instant_reward):\n",
    "    max_over_new_state = find_max_q(new_state)\n",
    "    #update q. Q value of current state-action pair; Q(s, a) is equal to it's previous estimate + alpha times temporal difference error\n",
    "    state[2] = state[2] + alpha*(instant_reward + max_over_new_state[2] - state[2])\n",
    "    updated_value = state[2]\n",
    "    return updated_value"
   ]
  },
  {
   "cell_type": "code",
   "execution_count": 19,
   "metadata": {
    "collapsed": false
   },
   "outputs": [],
   "source": [
    "#new_pos = [0, 0]\n",
    "for i in range(100000):\n",
    "    new_state, q_values = action(new_pos, q_values)\n",
    "    new_pos = new_state[0][0]"
   ]
  },
  {
   "cell_type": "code",
   "execution_count": 20,
   "metadata": {
    "collapsed": false
   },
   "outputs": [
    {
     "name": "stdout",
     "output_type": "stream",
     "text": [
      "[[[0, 0], [1, 0], 9.99999999999995], [[0, 0], [0, 1], 9.999999999999964], [[0, 1], [1, 0], 9.999999999999957], [[0, 1], [0, 1], 9.999999999999972], [[0, 1], [0, -1], 9.999999999999957], [[0, 2], [1, 0], 9.999999999999964], [[0, 2], [0, 1], 9.999999999999979], [[0, 2], [0, -1], 9.999999999999964], [[0, 3], [1, 0], 9.999999999999972], [[0, 3], [0, 1], 9.999999999999986], [[0, 3], [0, -1], 9.999999999999972], [[0, 4], [1, 0], 9.999999999999964], [[0, 4], [0, 1], 9.999999999999993], [[0, 4], [0, -1], 9.999999999999979], [[0, 5], [1, 0], 0], [[0, 5], [0, 1], 0], [[0, 5], [0, -1], 0], [[0, 6], [1, 0], 0], [[0, 6], [0, 1], 0.0], [[0, 6], [0, -1], 0], [[0, 7], [1, 0], 0.0], [[0, 7], [0, 1], 0], [[0, 7], [0, -1], 0], [[0, 8], [1, 0], 0], [[0, 8], [0, 1], 0], [[0, 8], [0, -1], 0], [[0, 9], [1, 0], 0], [[0, 9], [0, -1], 0], [[1, 0], [-1, 0], 9.999999999999957], [[1, 0], [1, 0], 9.99999999999995], [[1, 0], [0, 1], 9.999999999999957], [[1, 1], [-1, 0], 9.999999999999964], [[1, 1], [1, 0], 9.999999999999957], [[1, 1], [0, 1], 9.999999999999964], [[1, 1], [0, -1], 9.99999999999995], [[1, 2], [-1, 0], 9.999999999999972], [[1, 2], [1, 0], 9.999999999999964], [[1, 2], [0, 1], 9.999999999999972], [[1, 2], [0, -1], 9.999999999999957], [[1, 3], [-1, 0], 9.999999999999979], [[1, 3], [1, 0], 9.999999999999972], [[1, 3], [0, 1], 9.999999999999964], [[1, 3], [0, -1], 9.999999999999964], [[1, 4], [-1, 0], 9.998321736036763], [[1, 4], [1, 0], 9.999786442078243], [[1, 4], [0, 1], 9.99667797005317], [[1, 4], [0, -1], 9.999999999999972], [[1, 5], [-1, 0], 9.999382963480828], [[1, 5], [1, 0], 6.470327774680278], [[1, 5], [0, 1], 0.1920725258907871], [[1, 5], [0, -1], 3.4389999999886323], [[1, 6], [-1, 0], 0.0], [[1, 6], [1, 0], 1.8902730542120283], [[1, 6], [0, 1], 0.0], [[1, 6], [0, -1], 0], [[1, 7], [-1, 0], 0], [[1, 7], [1, 0], 0.0], [[1, 7], [0, 1], 0], [[1, 7], [0, -1], 0.0], [[1, 8], [-1, 0], 0], [[1, 8], [1, 0], 0], [[1, 8], [0, 1], 0], [[1, 8], [0, -1], 0], [[1, 9], [-1, 0], 0], [[1, 9], [1, 0], 0], [[1, 9], [0, -1], 0], [[2, 0], [-1, 0], 9.999999746409163], [[2, 0], [1, 0], 9.99997782052115], [[2, 0], [0, 1], 9.999999999999957], [[2, 1], [-1, 0], 9.999999999999828], [[2, 1], [1, 0], 9.999999999999245], [[2, 1], [0, 1], 9.999999999999964], [[2, 1], [0, -1], 9.999999999999607], [[2, 2], [-1, 0], 9.999999999999964], [[2, 2], [1, 0], 9.999999999999972], [[2, 2], [0, 1], 9.999999999999972], [[2, 2], [0, -1], 9.999999999999957], [[2, 3], [-1, 0], 9.999999999999972], [[2, 3], [1, 0], 9.999999999999979], [[2, 3], [0, 1], 9.999999999999979], [[2, 3], [0, -1], 9.999999999999964], [[2, 4], [-1, 0], 9.999999999998435], [[2, 4], [1, 0], 9.999999999999986], [[2, 4], [0, 1], 9.99999999825449], [[2, 4], [0, -1], 9.999999999959469], [[2, 5], [-1, 0], 4.995453796145133], [[2, 5], [1, 0], 7.712320754503899], [[2, 5], [0, 1], 3.4597217807570666], [[2, 5], [0, -1], 9.999999999943922], [[2, 6], [-1, 0], 0.0], [[2, 6], [1, 0], 1.5626244286227455], [[2, 6], [0, 1], 0.036599535618407654], [[2, 6], [0, -1], 7.543736014446159], [[2, 7], [-1, 0], 0.0], [[2, 7], [1, 0], 0.0], [[2, 7], [0, 1], 0], [[2, 7], [0, -1], 0.6953911767497454], [[2, 8], [-1, 0], 0], [[2, 8], [1, 0], 0.0], [[2, 8], [0, 1], 0.0], [[2, 8], [0, -1], 0], [[2, 9], [-1, 0], 0], [[2, 9], [1, 0], 0.0], [[2, 9], [0, -1], 0.0], [[3, 0], [-1, 0], 9.999999071135168], [[3, 0], [1, 0], 4.291666117748008], [[3, 0], [0, 1], 6.883360666333581], [[3, 1], [-1, 0], 8.773912374433694], [[3, 1], [1, 0], 6.896848990509902], [[3, 1], [0, 1], 9.999999999999972], [[3, 1], [0, -1], 8.184120767375285], [[3, 2], [-1, 0], 9.999843146561455], [[3, 2], [1, 0], 9.998730293226899], [[3, 2], [0, 1], 9.999999999999979], [[3, 2], [0, -1], 9.999339088341467], [[3, 3], [-1, 0], 9.999999999999972], [[3, 3], [1, 0], 9.999999999999972], [[3, 3], [0, 1], 9.999999999999986], [[3, 3], [0, -1], 9.999999999999972], [[3, 4], [-1, 0], 9.999999999999979], [[3, 4], [1, 0], 9.999999999999979], [[3, 4], [0, 1], 9.999999999999993], [[3, 4], [0, -1], 9.999999999999979], [[3, 5], [-1, 0], 0], [[3, 5], [1, 0], 0], [[3, 5], [0, 1], 0], [[3, 5], [0, -1], 0], [[3, 6], [-1, 0], 0.754373601444616], [[3, 6], [1, 0], 6.283993301747838], [[3, 6], [0, 1], 0.06919668354879217], [[3, 6], [0, -1], 0], [[3, 7], [-1, 0], 0.0], [[3, 7], [1, 0], 0], [[3, 7], [0, 1], 0.0], [[3, 7], [0, -1], 1.165160343214096], [[3, 8], [-1, 0], 0.0], [[3, 8], [1, 0], 0], [[3, 8], [0, 1], 0.0], [[3, 8], [0, -1], 0.0], [[3, 9], [-1, 0], 0.0], [[3, 9], [1, 0], 0], [[3, 9], [0, -1], 0.0], [[4, 0], [-1, 0], 7.571341000858328], [[4, 0], [1, 0], 0.0], [[4, 0], [0, 1], 1.982227075842641], [[4, 1], [-1, 0], 9.477846040041305], [[4, 1], [1, 0], 0.0], [[4, 1], [0, 1], 0.9886111545954592], [[4, 1], [0, -1], 1.4583884721262383], [[4, 2], [-1, 0], 5.639914148188513], [[4, 2], [1, 0], 2.1815392999039913], [[4, 2], [0, 1], 9.999975118276867], [[4, 2], [0, -1], 4.026359635065513], [[4, 3], [-1, 0], 9.999999999999979], [[4, 3], [1, 0], 8.417554974289816], [[4, 3], [0, 1], 9.942592333912023], [[4, 3], [0, -1], 9.707907586342186], [[4, 4], [-1, 0], 9.86697205352024], [[4, 4], [1, 0], 9.823544574941234], [[4, 4], [0, 1], 9.999999999999986], [[4, 4], [0, -1], 9.942440574964044], [[4, 5], [-1, 0], 9.999999999999993], [[4, 5], [1, 0], 9.40247458799666], [[4, 5], [0, 1], 9.758085566504974], [[4, 5], [0, -1], 9.910340787615908], [[4, 6], [-1, 0], 1.2656399528016027], [[4, 6], [1, 0], 0.6350724288639613], [[4, 6], [0, 1], 0.0], [[4, 6], [0, -1], 9.960065944529964], [[4, 7], [-1, 0], 0.016619627134772812], [[4, 7], [1, 0], 0.0], [[4, 7], [0, 1], 0], [[4, 7], [0, -1], 0], [[4, 8], [-1, 0], 0], [[4, 8], [1, 0], 0], [[4, 8], [0, 1], 0], [[4, 8], [0, -1], 0], [[4, 9], [-1, 0], 0.0], [[4, 9], [1, 0], 0], [[4, 9], [0, -1], 0], [[5, 0], [-1, 0], 0.0], [[5, 0], [1, 0], 0.0], [[5, 0], [0, 1], 0.0], [[5, 1], [-1, 0], 0.8714264619136387], [[5, 1], [1, 0], 0.0], [[5, 1], [0, 1], 0.0], [[5, 1], [0, -1], 0.0], [[5, 2], [-1, 0], 5.91394317342469], [[5, 2], [1, 0], 0.0], [[5, 2], [0, 1], 0.33992984895400735], [[5, 2], [0, -1], 0.011074733672798948], [[5, 3], [-1, 0], 0.9999999999999979], [[5, 3], [1, 0], 0.0], [[5, 3], [0, 1], 9.55558842844539], [[5, 3], [0, -1], 0.3079389598361117], [[5, 4], [-1, 0], 9.998444907969295], [[5, 4], [1, 0], 0.007777100150619446], [[5, 4], [0, 1], 2.9943043171889725], [[5, 4], [0, -1], 0.8975183272236062], [[5, 5], [-1, 0], 9.930035842371176], [[5, 5], [1, 0], 0.4630582489480023], [[5, 5], [0, 1], 0.7536678556871563], [[5, 5], [0, -1], 4.557047031223765], [[5, 6], [-1, 0], 0], [[5, 6], [1, 0], 0.0], [[5, 6], [0, 1], 0], [[5, 6], [0, -1], 5.091895422311363], [[5, 7], [-1, 0], 0], [[5, 7], [1, 0], 0], [[5, 7], [0, 1], 0.0], [[5, 7], [0, -1], 0.25908515820960826], [[5, 8], [-1, 0], 0], [[5, 8], [1, 0], 0], [[5, 8], [0, 1], 0.0], [[5, 8], [0, -1], 0.0], [[5, 9], [-1, 0], 0.0], [[5, 9], [1, 0], 0.0], [[5, 9], [0, -1], 0.0], [[6, 0], [-1, 0], 0], [[6, 0], [1, 0], 0.0], [[6, 0], [0, 1], 0.0], [[6, 1], [-1, 0], 0.0], [[6, 1], [1, 0], 0.0], [[6, 1], [0, 1], 0.0], [[6, 1], [0, -1], 0], [[6, 2], [-1, 0], 0.0], [[6, 2], [1, 0], 0], [[6, 2], [0, 1], 0.0], [[6, 2], [0, -1], 0.0], [[6, 3], [-1, 0], 0.0], [[6, 3], [1, 0], 0.0002148324570932055], [[6, 3], [0, 1], 0.11856794253848726], [[6, 3], [0, -1], 0.0], [[6, 4], [-1, 0], 1.8926016414467632], [[6, 4], [1, 0], 0.0], [[6, 4], [0, 1], 0.21483245709320542], [[6, 4], [0, -1], 0], [[6, 5], [-1, 0], 3.4384202754734803], [[6, 5], [1, 0], 0], [[6, 5], [0, 1], 0.0], [[6, 5], [0, -1], 0], [[6, 6], [-1, 0], 0], [[6, 6], [1, 0], 0.0], [[6, 6], [0, 1], 0.0], [[6, 6], [0, -1], 0], [[6, 7], [-1, 0], 0], [[6, 7], [1, 0], 0.0], [[6, 7], [0, 1], 0.0], [[6, 7], [0, -1], 0.0], [[6, 8], [-1, 0], 0], [[6, 8], [1, 0], 0.0], [[6, 8], [0, 1], 0.0], [[6, 8], [0, -1], 0], [[6, 9], [-1, 0], 0.0], [[6, 9], [1, 0], 0.0], [[6, 9], [0, -1], 0], [[7, 0], [-1, 0], 0.0], [[7, 0], [1, 0], 0.0], [[7, 0], [0, 1], 0.0], [[7, 1], [-1, 0], 0.0], [[7, 1], [1, 0], 0.0], [[7, 1], [0, 1], 0.0], [[7, 1], [0, -1], 0.0], [[7, 2], [-1, 0], 0.0], [[7, 2], [1, 0], 0], [[7, 2], [0, 1], 0.0], [[7, 2], [0, -1], 0], [[7, 3], [-1, 0], 0.0040818166847709034], [[7, 3], [1, 0], 0.0], [[7, 3], [0, 1], 0], [[7, 3], [0, -1], 0.0], [[7, 4], [-1, 0], 0], [[7, 4], [1, 0], 0], [[7, 4], [0, 1], 0.0006513215599000002], [[7, 4], [0, -1], 0], [[7, 5], [-1, 0], 0.03960028476164093], [[7, 5], [1, 0], 0], [[7, 5], [0, 1], 0.0], [[7, 5], [0, -1], 0], [[7, 6], [-1, 0], 0.0], [[7, 6], [1, 0], 0], [[7, 6], [0, 1], 0], [[7, 6], [0, -1], 0.0], [[7, 7], [-1, 0], 0], [[7, 7], [1, 0], 0.0], [[7, 7], [0, 1], 0], [[7, 7], [0, -1], 0.0], [[7, 8], [-1, 0], 0], [[7, 8], [1, 0], 0], [[7, 8], [0, 1], 0.0], [[7, 8], [0, -1], 0.0], [[7, 9], [-1, 0], 0.0], [[7, 9], [1, 0], 0.0], [[7, 9], [0, -1], 0.0], [[8, 0], [-1, 0], 0.0], [[8, 0], [1, 0], 0.0], [[8, 0], [0, 1], 0.0], [[8, 1], [-1, 0], 0.0], [[8, 1], [1, 0], 0.0], [[8, 1], [0, 1], 0.0], [[8, 1], [0, -1], 0.0], [[8, 2], [-1, 0], 0], [[8, 2], [1, 0], 0.0], [[8, 2], [0, 1], 0.0], [[8, 2], [0, -1], 0.0], [[8, 3], [-1, 0], 0.0], [[8, 3], [1, 0], 0], [[8, 3], [0, 1], 0], [[8, 3], [0, -1], 0.0], [[8, 4], [-1, 0], 0], [[8, 4], [1, 0], 0], [[8, 4], [0, 1], 0], [[8, 4], [0, -1], 0], [[8, 5], [-1, 0], 0], [[8, 5], [1, 0], 0], [[8, 5], [0, 1], 0], [[8, 5], [0, -1], 0], [[8, 6], [-1, 0], 0], [[8, 6], [1, 0], 0], [[8, 6], [0, 1], 0], [[8, 6], [0, -1], 0], [[8, 7], [-1, 0], 0], [[8, 7], [1, 0], 0], [[8, 7], [0, 1], 0.0], [[8, 7], [0, -1], 0], [[8, 8], [-1, 0], 0], [[8, 8], [1, 0], 0], [[8, 8], [0, 1], 0.0], [[8, 8], [0, -1], 0], [[8, 9], [-1, 0], 0.0], [[8, 9], [1, 0], 1.0], [[8, 9], [0, -1], 0.0], [[9, 0], [-1, 0], 0.0], [[9, 0], [0, 1], 0.0], [[9, 1], [-1, 0], 0.0], [[9, 1], [0, 1], 0.0], [[9, 1], [0, -1], 0.0], [[9, 2], [-1, 0], 0.0], [[9, 2], [0, 1], 0], [[9, 2], [0, -1], 0], [[9, 3], [-1, 0], 0], [[9, 3], [0, 1], 0], [[9, 3], [0, -1], 0], [[9, 4], [-1, 0], 0], [[9, 4], [0, 1], 0], [[9, 4], [0, -1], 0], [[9, 5], [-1, 0], 0], [[9, 5], [0, 1], 0], [[9, 5], [0, -1], 0], [[9, 6], [-1, 0], 0], [[9, 6], [0, 1], 0], [[9, 6], [0, -1], 0], [[9, 7], [-1, 0], 0], [[9, 7], [0, 1], 0], [[9, 7], [0, -1], 0], [[9, 8], [-1, 0], 0], [[9, 8], [0, 1], 0], [[9, 8], [0, -1], 0], [[9, 9], [-1, 0], 0], [[9, 9], [0, -1], 0]]\n"
     ]
    }
   ],
   "source": [
    "print q_values"
   ]
  },
  {
   "cell_type": "code",
   "execution_count": null,
   "metadata": {
    "collapsed": false
   },
   "outputs": [],
   "source": [
    "print new_state[0][0]"
   ]
  },
  {
   "cell_type": "code",
   "execution_count": null,
   "metadata": {
    "collapsed": false
   },
   "outputs": [],
   "source": [
    "print new_state"
   ]
  },
  {
   "cell_type": "code",
   "execution_count": null,
   "metadata": {
    "collapsed": false
   },
   "outputs": [],
   "source": [
    "print q_values[q_values.index(a)][2]"
   ]
  },
  {
   "cell_type": "code",
   "execution_count": null,
   "metadata": {
    "collapsed": false
   },
   "outputs": [],
   "source": [
    "print next_pos([2, 5], [1, 0])"
   ]
  },
  {
   "cell_type": "code",
   "execution_count": null,
   "metadata": {
    "collapsed": true
   },
   "outputs": [],
   "source": []
  }
 ],
 "metadata": {
  "anaconda-cloud": {},
  "kernelspec": {
   "display_name": "Python [default]",
   "language": "python",
   "name": "python2"
  },
  "language_info": {
   "codemirror_mode": {
    "name": "ipython",
    "version": 2
   },
   "file_extension": ".py",
   "mimetype": "text/x-python",
   "name": "python",
   "nbconvert_exporter": "python",
   "pygments_lexer": "ipython2",
   "version": "2.7.12"
  }
 },
 "nbformat": 4,
 "nbformat_minor": 1
}
