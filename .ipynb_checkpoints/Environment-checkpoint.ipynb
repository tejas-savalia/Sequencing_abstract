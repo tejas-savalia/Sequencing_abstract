{
 "cells": [
  {
   "cell_type": "code",
   "execution_count": 2,
   "metadata": {
    "collapsed": true
   },
   "outputs": [],
   "source": [
    "import numpy"
   ]
  },
  {
   "cell_type": "code",
   "execution_count": 3,
   "metadata": {
    "collapsed": true
   },
   "outputs": [],
   "source": [
    "grid_size = [10, 10]"
   ]
  },
  {
   "cell_type": "code",
   "execution_count": 7,
   "metadata": {
    "collapsed": false
   },
   "outputs": [],
   "source": [
    "def grid_world(state, action):    \n",
    "    if state == grid_size:\n",
    "        return (state, 10)\n",
    "    action = action_vec(action)\n",
    "    new_state = state + action\n",
    "    if state_verify(state) != \"State not valid\":\n",
    "        return (new_state, 0)\n",
    "    else:\n",
    "        return (state, 0)"
   ]
  },
  {
   "cell_type": "code",
   "execution_count": 8,
   "metadata": {
    "collapsed": false
   },
   "outputs": [],
   "source": [
    "def action_vec(action):\n",
    "    if action == 'left':\n",
    "        return [-1, 0]\n",
    "    elif action == 'right':\n",
    "        return [1, 0]\n",
    "    elif action == 'top':\n",
    "        return [0, 1]\n",
    "    elif action == 'bottom':\n",
    "        return [0, -1]\n",
    "    else:\n",
    "        return [0, 0]"
   ]
  },
  {
   "cell_type": "code",
   "execution_count": 6,
   "metadata": {
    "collapsed": false
   },
   "outputs": [],
   "source": [
    "def state_verify(grid_size, poss_state):\n",
    "    if poss_state == grid_size:\n",
    "        return poss_state\n",
    "    if poss_state[0] < grid_size[0] and poss_state[1] < grid_size[1] and poss_state[0] >= 0 and poss_state [1] >= 0:\n",
    "        allowed_state = poss_state\n",
    "        return allowed_state\n",
    "    return \"State not valid\""
   ]
  },
  {
   "cell_type": "code",
   "execution_count": null,
   "metadata": {
    "collapsed": false
   },
   "outputs": [],
   "source": []
  },
  {
   "cell_type": "code",
   "execution_count": null,
   "metadata": {
    "collapsed": true
   },
   "outputs": [],
   "source": []
  },
  {
   "cell_type": "code",
   "execution_count": null,
   "metadata": {
    "collapsed": true
   },
   "outputs": [],
   "source": []
  }
 ],
 "metadata": {
  "anaconda-cloud": {},
  "kernelspec": {
   "display_name": "Python [default]",
   "language": "python",
   "name": "python2"
  },
  "language_info": {
   "codemirror_mode": {
    "name": "ipython",
    "version": 2
   },
   "file_extension": ".py",
   "mimetype": "text/x-python",
   "name": "python",
   "nbconvert_exporter": "python",
   "pygments_lexer": "ipython2",
   "version": "2.7.12"
  }
 },
 "nbformat": 4,
 "nbformat_minor": 1
}
