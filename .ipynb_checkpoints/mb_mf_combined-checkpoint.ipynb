{
 "cells": [
  {
   "cell_type": "code",
   "execution_count": 1,
   "metadata": {
    "collapsed": true
   },
   "outputs": [],
   "source": [
    "import numpy\n",
    "import math\n",
    "\n",
    "import random\n",
    "import time\n",
    "import matplotlib.pyplot as plt"
   ]
  },
  {
   "cell_type": "code",
   "execution_count": 2,
   "metadata": {
    "collapsed": false
   },
   "outputs": [],
   "source": [
    "environment = numpy.zeros((7, 7))\n",
    "trans_prob = 1\n",
    "environment[6, 6] = 10\n",
    "#environment[8, 8] = -10\n",
    "#environment[2, 3] = -5"
   ]
  },
  {
   "cell_type": "code",
   "execution_count": 3,
   "metadata": {
    "collapsed": true
   },
   "outputs": [],
   "source": [
    "alpha = 0.1\n",
    "gamma = 0.9"
   ]
  },
  {
   "cell_type": "code",
   "execution_count": 4,
   "metadata": {
    "collapsed": true
   },
   "outputs": [],
   "source": [
    "def get_legal_actions(pos):\n",
    "    legal_actions = list()\n",
    "    new_pos = list()\n",
    "    all_actions = [[1, 0], [0, 1], [-1, 0], [0, -1]]\n",
    "    for i in all_actions:\n",
    "        try:\n",
    "            new_pos = numpy.add(pos, numpy.array(i))\n",
    "            legal_actions.append(i)\n",
    "            env = environment[new_pos[0]][new_pos[1]]\n",
    "            if any(j < 0 for j in new_pos):\n",
    "                legal_actions.pop()\n",
    "        except IndexError:\n",
    "            legal_actions.pop()\n",
    "            \n",
    "        \n",
    "    return legal_actions"
   ]
  },
  {
   "cell_type": "code",
   "execution_count": null,
   "metadata": {
    "collapsed": true
   },
   "outputs": [],
   "source": []
  },
  {
   "cell_type": "code",
   "execution_count": 5,
   "metadata": {
    "collapsed": true
   },
   "outputs": [],
   "source": [
    "def take_action(pos, action):\n",
    "    # Take action in the actual environment and return a reward and new position based on environment dynamics\n",
    "    if numpy.random.rand(1) < trans_prob:\n",
    "        new_pos = numpy.add(pos, action)\n",
    "    else:\n",
    "        new_pos = numpy.add(pos, random.choice(get_legal_actions(pos)))\n",
    "    reward = environment[new_pos[0]][new_pos[1]]\n",
    "    return new_pos, reward"
   ]
  },
  {
   "cell_type": "code",
   "execution_count": null,
   "metadata": {
    "collapsed": false
   },
   "outputs": [],
   "source": []
  },
  {
   "cell_type": "code",
   "execution_count": 6,
   "metadata": {
    "collapsed": false
   },
   "outputs": [
    {
     "name": "stdout",
     "output_type": "stream",
     "text": [
      "[[  0.   0.   0.   0.   0.   0.   0.]\n",
      " [  0.   0.   0.   0.   0.   0.   0.]\n",
      " [  0.   0.   0.   0.   0.   0.   0.]\n",
      " [  0.   0.   0.   0.   0.   0.   0.]\n",
      " [  0.   0.   0.   0.   0.   0.   0.]\n",
      " [  0.   0.   0.   0.   0.   0.   0.]\n",
      " [  0.   0.   0.   0.   0.   0.  10.]]\n"
     ]
    }
   ],
   "source": [
    "mb_internal_environment = numpy.zeros((7, 7))\n",
    "mb_internal_environment[6, 6] = 10\n",
    "print mb_internal_environment"
   ]
  },
  {
   "cell_type": "code",
   "execution_count": 7,
   "metadata": {
    "collapsed": true
   },
   "outputs": [],
   "source": [
    "def mb_internal_environment_value(pos, mb_internal_environment):\n",
    "    value = mb_internal_environment[pos[0], pos[1]]\n",
    "    return value"
   ]
  },
  {
   "cell_type": "code",
   "execution_count": 8,
   "metadata": {
    "collapsed": true
   },
   "outputs": [],
   "source": [
    "def update_mb_internal_environment(pos, next_pos, reward, mb_internal_environment):\n",
    "    next_value_list = list()\n",
    "    for i in get_legal_actions(next_pos):\n",
    "        next_value_list.append(mb_internal_environment[next_pos[0]][next_pos[1]])\n",
    "    next_value = max(next_value_list)\n",
    "    mb_internal_environment[pos[0], pos[1]] = (1-alpha) * mb_internal_environment_value(pos, mb_internal_environment) + (alpha) * (reward + gamma*next_value)\n",
    "    return mb_internal_environment\n"
   ]
  },
  {
   "cell_type": "code",
   "execution_count": 9,
   "metadata": {
    "collapsed": true
   },
   "outputs": [],
   "source": [
    "def dls(pos, curr_depth, max_depth, mb_internal_environment):\n",
    "    value_list = list()\n",
    "    if curr_depth == max_depth:\n",
    "        return mb_internal_environment_value(pos, mb_internal_environment)\n",
    "    else:\n",
    "        actions = get_legal_actions(pos)\n",
    "        for i in actions:\n",
    "            next_pos = numpy.add(numpy.array(pos), numpy.array(i))\n",
    "            value = mb_internal_environment_value(pos, mb_internal_environment) + gamma * dls(next_pos, curr_depth+1, max_depth, mb_internal_environment)\n",
    "            value_list.append(value)\n",
    "        if value_list:\n",
    "            average_value = numpy.mean(numpy.array(value_list))\n",
    "    return average_value"
   ]
  },
  {
   "cell_type": "code",
   "execution_count": 10,
   "metadata": {
    "collapsed": true
   },
   "outputs": [],
   "source": [
    "def dls_action(pos, max_depth, mb_internal_environment):\n",
    "    # Do depth Limited Search till max_depth on the mb_internal_environment\n",
    "    actions = get_legal_actions(pos)\n",
    "    next_value_list = list()\n",
    "    next_pos_list = list()\n",
    "    for i in actions:\n",
    "        next_pos = numpy.add(numpy.array(pos), numpy.array(i))\n",
    "        next_value_list.append(dls(next_pos, 0, max_depth, mb_internal_environment))\n",
    "        next_pos_list.append(next_pos)\n",
    "    zipped = list(zip(actions, next_value_list))\n",
    "    random.shuffle(zipped)\n",
    "    actions, next_value_list = zip(*zipped)\n",
    "    random.shuffle(zip(actions, next_value_list))\n",
    "    action = actions[numpy.argmax(next_value_list)]\n",
    "    return action"
   ]
  },
  {
   "cell_type": "code",
   "execution_count": null,
   "metadata": {
    "collapsed": false
   },
   "outputs": [],
   "source": []
  },
  {
   "cell_type": "code",
   "execution_count": 11,
   "metadata": {
    "collapsed": true
   },
   "outputs": [],
   "source": [
    "def q_action(pos, mb_internal_environment):\n",
    "    # Look for q values in mf_internal_environment for given position\n",
    "    actions = get_legal_actions(pos)\n",
    "    next_value_list = list()\n",
    "    next_pos_list = list()\n",
    "    for i in actions:\n",
    "        next_pos = numpy.add(numpy.array(pos), numpy.array(i))\n",
    "        next_value_list.append(mb_internal_environment[next_pos[0], next_pos[1]])\n",
    "        next_pos_list.append(next_pos)\n",
    "    random.shuffle(actions)\n",
    "    action = actions[numpy.argmax(next_value_list)]\n",
    "    return action"
   ]
  },
  {
   "cell_type": "code",
   "execution_count": 12,
   "metadata": {
    "collapsed": true
   },
   "outputs": [],
   "source": [
    "def dual(num_iters, mb_internal_environment):\n",
    "    sum_reward = 0\n",
    "    max_depth = 4\n",
    "    steps_per_reward = 0\n",
    "    steps = list()\n",
    "    time_per_reward = list()\n",
    "    \n",
    "    for i in range(num_iters):\n",
    "        pos = [0, 0]\n",
    "        j = 0\n",
    "        goal_start_time = time.time()\n",
    "        \n",
    "        while True:\n",
    "            if j%(i+1) == 0:\n",
    "                action = dls_action(pos, max_depth, mb_internal_environment)\n",
    "                next_pos, reward = take_action(pos, action)\n",
    "                mb_internal_environment = update_mb_internal_environment(pos, next_pos, reward, mb_internal_environment)\n",
    "                pos = next_pos\n",
    "            else:\n",
    "                action = q_action(pos, mb_internal_environment)\n",
    "                next_pos, reward = take_action(pos, action)\n",
    "                mb_internal_environment = update_mb_internal_environment(pos, next_pos, reward, mb_internal_environment)\n",
    "                pos = next_pos\n",
    "            sum_reward = 0.5*sum_reward + 0.5*reward\n",
    "            steps_per_reward += 1\n",
    "            j += 1\n",
    "            if reward != 0:\n",
    "                mb_internal_environment[pos[0], pos[1]] = (1-alpha) * mb_internal_environment_value(pos, mb_internal_environment) + (alpha) * (reward)\n",
    "                steps.append(steps_per_reward)\n",
    "                steps_per_reward = 0\n",
    "                #print \"here\", pos\n",
    "                goal_time = time.time()\n",
    "                time_per_reward.append(goal_time - goal_start_time)\n",
    "                \n",
    "                break\n",
    "    return sum_reward, steps, mb_internal_environment, time_per_reward"
   ]
  },
  {
   "cell_type": "code",
   "execution_count": 13,
   "metadata": {
    "collapsed": true
   },
   "outputs": [],
   "source": [
    "def mb(num_iters, mb_internal_environment):\n",
    "    sum_reward = 0\n",
    "    max_depth = 4\n",
    "    steps = list()\n",
    "    time_per_reward = list()\n",
    "    for i in range(num_iters):\n",
    "        pos = [0, 0]\n",
    "        steps_per_reward = 0\n",
    "        #print (mb_internal_environment)    \n",
    "        goal_start_time = time.time()\n",
    "        while True:\n",
    "            action = dls_action(pos, max_depth, mb_internal_environment)\n",
    "            next_pos, reward = take_action(pos, action)\n",
    "            mb_internal_environemnt = update_mb_internal_environment(pos, next_pos, reward, mb_internal_environment)\n",
    "            pos = next_pos\n",
    "            sum_reward = 0.5*sum_reward + 0.5*reward\n",
    "            steps_per_reward += 1\n",
    "            if reward != 0:\n",
    "                mb_internal_environment[pos[0], pos[1]] = (1-alpha) * mb_internal_environment_value(pos, mb_internal_environment) + (alpha) * (reward)                \n",
    "                steps.append(steps_per_reward)\n",
    "                steps_per_reward = 0\n",
    "                goal_time = time.time()\n",
    "                time_per_reward.append(goal_time - goal_start_time)\n",
    "                #print \"here\"\n",
    "                break\n",
    "\n",
    "    return sum_reward, steps, mb_internal_environment, time_per_reward"
   ]
  },
  {
   "cell_type": "code",
   "execution_count": 14,
   "metadata": {
    "collapsed": true
   },
   "outputs": [],
   "source": [
    "def mf(num_iters, mb_internal_environment):\n",
    "    sum_reward = 0\n",
    "    steps = list()\n",
    "    time_per_reward = list()\n",
    "    \n",
    "    for i in range(num_iters):\n",
    "        pos = [0, 0]\n",
    "        steps_per_reward = 0        \n",
    "        #print (mb_internal_environment)\n",
    "        goal_start_time = time.time()\n",
    "        \n",
    "        while True:\n",
    "            action = q_action(pos, mb_internal_environment)\n",
    "            next_pos, reward = take_action(pos, action)\n",
    "            mb_internal_environment = update_mb_internal_environment(pos, next_pos, reward, mb_internal_environment)\n",
    "            pos = next_pos\n",
    "            sum_reward = 0.5*sum_reward + 0.5*reward\n",
    "            steps_per_reward += 1\n",
    "            if reward != 0:\n",
    "                \n",
    "                mb_internal_environment[pos[0], pos[1]] = (1-alpha) * mb_internal_environment_value(pos, mb_internal_environment) + (alpha) * (reward)\n",
    "                steps.append(steps_per_reward)\n",
    "                steps_per_reward = 0\n",
    "                goal_time = time.time()\n",
    "                time_per_reward.append(goal_time - goal_start_time)\n",
    "                \n",
    "                break\n",
    "            \n",
    "    return sum_reward, steps, mb_internal_environment, mb_internal_environment, time_per_reward"
   ]
  },
  {
   "cell_type": "code",
   "execution_count": 15,
   "metadata": {
    "collapsed": false
   },
   "outputs": [
    {
     "name": "stdout",
     "output_type": "stream",
     "text": [
      "[[  0.   0.   0.   0.   0.   0.   0.]\n",
      " [  0.   0.   0.   0.   0.   0.   0.]\n",
      " [  0.   0.   0.   0.   0.   0.   0.]\n",
      " [  0.   0.   0.   0.   0.   0.   0.]\n",
      " [  0.   0.   0.   0.   0.   0.   0.]\n",
      " [  0.   0.   0.   0.   0.   0.   0.]\n",
      " [  0.   0.   0.   0.   0.   0.  10.]]\n"
     ]
    }
   ],
   "source": [
    "mb_internal_environment = numpy.zeros((7, 7))\n",
    "mb_internal_environment[6, 6] = 10\n",
    "print mb_internal_environment"
   ]
  },
  {
   "cell_type": "markdown",
   "metadata": {},
   "source": [
    "Run the Dual Process on grid world. Get a list of individual time taken for each and rewards obtained."
   ]
  },
  {
   "cell_type": "code",
   "execution_count": 16,
   "metadata": {
    "collapsed": false
   },
   "outputs": [],
   "source": [
    "times_dual = list()\n",
    "reward_dual = list()\n",
    "steps_dual = list()\n",
    "time_per_reward_dual = list()\n",
    "for i in range(5):\n",
    "    mb_internal_environment = numpy.zeros((7, 7))\n",
    "    mb_internal_environment[6, 6] = 10\n",
    "    start_time = time.time()\n",
    "    dual_result = dual(40, mb_internal_environment)\n",
    "    reward_dual.append(dual_result[0])\n",
    "    steps_dual.append(dual_result[1])\n",
    "    times_dual.append(time.time() - start_time)\n",
    "    time_per_reward_dual.append(dual_result[3])"
   ]
  },
  {
   "cell_type": "code",
   "execution_count": 17,
   "metadata": {
    "collapsed": false
   },
   "outputs": [],
   "source": [
    "times_mb = list()\n",
    "reward_mb = list()\n",
    "steps_mb = list()\n",
    "time_per_reward_mb = list()\n",
    "for i in range(5):\n",
    "    mb_internal_environment = numpy.zeros((7, 7))\n",
    "    mb_internal_environment[6, 6] = 10\n",
    "    start_time = time.time()\n",
    "    mb_result = mb(40, mb_internal_environment)\n",
    "    reward_mb.append(mb_result[0])\n",
    "    steps_mb.append(mb_result[1])\n",
    "    times_mb.append(time.time() - start_time)\n",
    "    time_per_reward_mb.append(mb_result[3])\n"
   ]
  },
  {
   "cell_type": "code",
   "execution_count": 18,
   "metadata": {
    "collapsed": false
   },
   "outputs": [],
   "source": [
    "times_mf = list()\n",
    "reward_mf = list()\n",
    "steps_mf = list()\n",
    "time_per_reward_mf = list()\n",
    "for i in range(5):\n",
    "    mb_internal_environment = numpy.zeros((7, 7))\n",
    "    mb_internal_environment[6, 6] = 10\n",
    "    start_time = time.time()\n",
    "    mf_result = mf(40, mb_internal_environment)\n",
    "    reward_mf.append(mf_result[0])\n",
    "    steps_mf.append(mf_result[1])\n",
    "    times_mf.append(time.time() - start_time)\n",
    "    time_per_reward_mf.append(mf_result[4])"
   ]
  },
  {
   "cell_type": "code",
   "execution_count": null,
   "metadata": {
    "collapsed": false
   },
   "outputs": [],
   "source": []
  },
  {
   "cell_type": "code",
   "execution_count": 19,
   "metadata": {
    "collapsed": false
   },
   "outputs": [
    {
     "data": {
      "image/png": "[encoded data removed]",
      "text/plain": [
       "<matplotlib.figure.Figure at 0x7f761c48d7d0>"
      ]
     },
     "metadata": {},
     "output_type": "display_data"
    }
   ],
   "source": [
    "#print (sum(steps_mf)/300)\n",
    "#print (sum(steps_mb)/300)\n",
    "\n",
    "#print (sum(steps_dual)/300)\n",
    "#print (numpy.mean(numpy.array(steps_mf), axis=0))\n",
    "#print (numpy.mean(numpy.array(steps_dual), axis=0))\n",
    "#print (numpy.mean(numpy.array(steps_mb), axis=0))\n",
    "\n",
    "#stepsmf_plot, = plt.plot(numpy.arange(0, 35), numpy.mean(numpy.array(steps_mf), axis=0), color = 'r')\n",
    "#stepsdual_plot, = plt.plot(numpy.arange(0, 35), numpy.mean(numpy.array(steps_dual), axis=0), color = 'g')\n",
    "#stepsmb_plot, = plt.plot(numpy.arange(0, 35), numpy.mean(numpy.array(steps_mb), axis=0), color = 'b')\n",
    "\n",
    "timeperrewardmb_plot = plt.plot(numpy.arange(0, 40), numpy.mean(numpy.array(time_per_reward_mb), axis=0), color = 'b', label = 'MB')\n",
    "timeperrewardmf_plot = plt.plot(numpy.arange(0, 40), numpy.mean(numpy.array(time_per_reward_mf), axis=0), color = 'r', label = 'MF')\n",
    "timeperrewarddual_plot = plt.plot(numpy.arange(0, 40), numpy.mean(numpy.array(time_per_reward_dual), axis=0), color = 'g', label = 'Dual')\n",
    "plt.legend()\n",
    "plt.xlabel('Trial')\n",
    "plt.ylabel('Time to reach goal')\n",
    "\n",
    "#plt.xticks(numpy.arange(3), ('mb', 'dual', 'mf'))\n",
    "plt.show()"
   ]
  },
  {
   "cell_type": "code",
   "execution_count": 20,
   "metadata": {
    "collapsed": false
   },
   "outputs": [],
   "source": [
    "reward_mean_dual = numpy.mean(numpy.array(reward_dual))\n",
    "reward_mean_mb = numpy.mean(numpy.array(reward_mb))\n",
    "reward_mean_mf = numpy.mean(numpy.array(reward_mf))\n",
    "times_mean_dual = numpy.mean(numpy.array(times_dual))\n",
    "times_mean_mb = numpy.mean(numpy.array(times_mb))\n",
    "times_mean_mf = numpy.mean(numpy.array(times_mf))\n",
    "steps_mean_dual = sum(steps_dual[0])\n",
    "steps_mean_mb = sum(steps_mb[0])\n",
    "steps_mean_mf = sum(steps_mf[0])\n"
   ]
  },
  {
   "cell_type": "code",
   "execution_count": 21,
   "metadata": {
    "collapsed": false
   },
   "outputs": [
    {
     "name": "stdout",
     "output_type": "stream",
     "text": [
      "[[156, 246, 274, 138, 230, 192, 502, 130, 458, 162, 76, 292, 118, 144, 344, 90, 110, 532, 178, 102, 176, 52, 80, 766, 160, 274, 154, 80, 36, 104, 32, 42, 42, 140, 434, 236, 714, 252, 98, 62], [270, 62, 138, 86, 336, 570, 232, 100, 150, 84, 336, 68, 38, 246, 40, 150, 38, 292, 54, 286, 282, 200, 48, 42, 178, 88, 68, 234, 252, 90, 150, 62, 330, 220, 70, 660, 562, 40, 600, 124], [144, 132, 162, 154, 332, 86, 96, 146, 178, 90, 66, 102, 42, 352, 422, 102, 664, 22, 330, 440, 30, 80, 92, 208, 422, 60, 22, 64, 280, 44, 50, 66, 118, 200, 440, 42, 94, 384, 86, 132], [32, 46, 96, 90, 94, 136, 120, 694, 274, 418, 254, 170, 68, 82, 380, 120, 150, 414, 22, 238, 494, 192, 310, 210, 210, 244, 348, 148, 78, 172, 190, 170, 74, 484, 30, 38, 112, 368, 292, 96], [242, 52, 52, 114, 400, 120, 482, 62, 74, 48, 316, 528, 52, 72, 78, 124, 220, 20, 170, 482, 494, 94, 40, 90, 202, 138, 668, 80, 96, 30, 30, 256, 384, 82, 290, 182, 146, 178, 118, 102]]\n"
     ]
    }
   ],
   "source": [
    "print steps_mf"
   ]
  },
  {
   "cell_type": "code",
   "execution_count": 22,
   "metadata": {
    "collapsed": false
   },
   "outputs": [
    {
     "data": {
      "text/plain": [
       "3"
      ]
     },
     "execution_count": 22,
     "metadata": {},
     "output_type": "execute_result"
    }
   ],
   "source": [
    "3%5"
   ]
  },
  {
   "cell_type": "code",
   "execution_count": 30,
   "metadata": {
    "collapsed": false
   },
   "outputs": [
    {
     "data": {
      "image/png": "[encoded data removed]",
      "text/plain": [
       "<matplotlib.figure.Figure at 0x7f75f6c45890>"
      ]
     },
     "metadata": {},
     "output_type": "display_data"
    }
   ],
   "source": [
    "stepsmf_plot, = plt.plot(numpy.arange(0, 40), numpy.mean(numpy.array(steps_mf), axis=0), color = 'r', label = 'MF')\n",
    "stepsdual_plot, = plt.plot(numpy.arange(0, 40), numpy.mean(numpy.array(steps_dual), axis=0), color = 'g', label = 'Dual')\n",
    "stepsmb_plot, = plt.plot(numpy.arange(0, 40), numpy.mean(numpy.array(steps_mb), axis=0), color = 'b', label = 'MB')\n",
    "plt.legend()\n",
    "plt.xlabel(\"Trials\")\n",
    "plt.ylabel(\"Steps\")\n",
    "plt.show()"
   ]
  },
  {
   "cell_type": "code",
   "execution_count": 23,
   "metadata": {
    "collapsed": false
   },
   "outputs": [
    {
     "name": "stdout",
     "output_type": "stream",
     "text": [
      "[ 5.001221  5.        5.      ]\n"
     ]
    }
   ],
   "source": [
    "rewards = numpy.array([reward_mean_mb, reward_mean_dual, reward_mean_mf])\n",
    "#yerror = numpy.array(reward_errors)\n",
    "print (rewards)"
   ]
  },
  {
   "cell_type": "code",
   "execution_count": 24,
   "metadata": {
    "collapsed": false
   },
   "outputs": [
    {
     "data": {
      "image/png": "[encoded data removed]",
      "text/plain": [
       "<matplotlib.figure.Figure at 0x7f75f6e51410>"
      ]
     },
     "metadata": {},
     "output_type": "display_data"
    }
   ],
   "source": [
    "reward_plot, = plt.plot(numpy.arange(0, 3), rewards)\n",
    "plt.xticks(numpy.arange(3), ('mb', 'dual', 'mf'))\n",
    "plt.xlim(xmin = -1, xmax = 4)\n",
    "#plt.ylim(ymin = 4.5, ymax = 5.5)\n",
    "plt.xlabel('RL methods')\n",
    "plt.ylabel(\"Rewards\")\n",
    "\n",
    "plt.show()"
   ]
  },
  {
   "cell_type": "code",
   "execution_count": 25,
   "metadata": {
    "collapsed": false
   },
   "outputs": [
    {
     "name": "stdout",
     "output_type": "stream",
     "text": [
      "[ 12.72956142   7.75155082   1.19149981]\n"
     ]
    },
    {
     "data": {
      "image/png": "[encoded data removed]",
      "text/plain": [
       "<matplotlib.figure.Figure at 0x7f75f6dd4f90>"
      ]
     },
     "metadata": {},
     "output_type": "display_data"
    }
   ],
   "source": [
    "times = numpy.array([times_mean_mb, times_mean_dual, times_mean_mf])\n",
    "print (times)\n",
    "plt.bar(numpy.arange(3), times, align='center')\n",
    "plt.xticks(numpy.arange(3), ('mb', 'dual', 'mf'))\n",
    "plt.xlim(xmin = -1, xmax = 4)\n",
    "#plt.ylim(ymin = -1, ymax = 10)\n",
    "plt.xlabel('RL methods')\n",
    "plt.ylabel(\"Time (in secs)\")\n",
    "\n",
    "plt.show()"
   ]
  },
  {
   "cell_type": "code",
   "execution_count": 26,
   "metadata": {
    "collapsed": false
   },
   "outputs": [
    {
     "name": "stdout",
     "output_type": "stream",
     "text": [
      "[ 562 4364 8408]\n"
     ]
    },
    {
     "data": {
      "image/png": "[encoded data removed]",
      "text/plain": [
       "<matplotlib.figure.Figure at 0x7f75f6f03d90>"
      ]
     },
     "metadata": {},
     "output_type": "display_data"
    }
   ],
   "source": [
    "steps = numpy.array([steps_mean_mb, steps_mean_dual, steps_mean_mf])\n",
    "print (steps)\n",
    "plt.bar(numpy.arange(3), steps, align='center')\n",
    "plt.xticks(numpy.arange(3), ('mb', 'dual', 'mf'))\n",
    "plt.xlim(xmin = -1, xmax = 3)\n",
    "#plt.ylim(ymin = 350, ymax = 400)\n",
    "plt.xlabel('RL methods')\n",
    "plt.ylabel(\"Stpes\")\n",
    "\n",
    "plt.show()"
   ]
  },
  {
   "cell_type": "code",
   "execution_count": null,
   "metadata": {
    "collapsed": true
   },
   "outputs": [],
   "source": []
  },
  {
   "cell_type": "code",
   "execution_count": null,
   "metadata": {
    "collapsed": true
   },
   "outputs": [],
   "source": []
  }
 ],
 "metadata": {
  "anaconda-cloud": {},
  "kernelspec": {
   "display_name": "Python 2",
   "language": "python",
   "name": "python2"
  },
  "language_info": {
   "codemirror_mode": {
    "name": "ipython",
    "version": 2
   },
   "file_extension": ".py",
   "mimetype": "text/x-python",
   "name": "python",
   "nbconvert_exporter": "python",
   "pygments_lexer": "ipython2",
   "version": "2.7.13"
  }
 },
 "nbformat": 4,
 "nbformat_minor": 1
}
