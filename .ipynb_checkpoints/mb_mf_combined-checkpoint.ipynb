{
 "cells": [
  {
   "cell_type": "code",
   "execution_count": 1,
   "metadata": {
    "collapsed": true
   },
   "outputs": [],
   "source": [
    "import numpy\n",
    "import math\n",
    "\n",
    "import random\n",
    "import time\n",
    "import matplotlib.pyplot as plt\n",
    "import collections\n",
    "from scipy.optimize import curve_fit"
   ]
  },
  {
   "cell_type": "code",
   "execution_count": 2,
   "metadata": {
    "collapsed": true
   },
   "outputs": [],
   "source": [
    "environment = numpy.zeros((2, 7))\n",
    "trans_prob = 0.7\n",
    "environment[1, 6] = 10\n",
    "#environment[8, 8] = -10\n",
    "environment[1, 0] = 5"
   ]
  },
  {
   "cell_type": "code",
   "execution_count": 3,
   "metadata": {
    "collapsed": true
   },
   "outputs": [],
   "source": [
    "alpha = 0.5\n",
    "gamma = 0.9"
   ]
  },
  {
   "cell_type": "code",
   "execution_count": 4,
   "metadata": {
    "collapsed": true
   },
   "outputs": [],
   "source": [
    "def softmax(values):\n",
    "    scoreMatExp = numpy.exp(numpy.asarray(values))\n",
    "    return scoreMatExp / scoreMatExp.sum(0)"
   ]
  },
  {
   "cell_type": "code",
   "execution_count": 5,
   "metadata": {
    "collapsed": true
   },
   "outputs": [],
   "source": [
    "def action_from_softmax(softmax_scores):\n",
    "    random_number = numpy.random.random_sample()\n",
    "    cumm_sum = numpy.cumsum(softmax_scores)\n",
    "    for i in range(len(softmax_scores)):\n",
    "        if random_number < cumm_sum[i]:\n",
    "            return i"
   ]
  },
  {
   "cell_type": "code",
   "execution_count": null,
   "metadata": {
    "collapsed": true
   },
   "outputs": [],
   "source": []
  },
  {
   "cell_type": "code",
   "execution_count": 6,
   "metadata": {
    "collapsed": true
   },
   "outputs": [],
   "source": [
    "def get_legal_actions(pos):\n",
    "    legal_actions = list()\n",
    "    new_pos = list()\n",
    "    all_actions = [[1, 0], [0, 1], [-1, 0], [0, -1]]\n",
    "    for i in all_actions:\n",
    "        try:\n",
    "            new_pos = numpy.add(pos, numpy.array(i))\n",
    "            legal_actions.append(i)\n",
    "            env = environment[new_pos[0]][new_pos[1]]\n",
    "            if any(j < 0 for j in new_pos):\n",
    "                legal_actions.pop()\n",
    "        except IndexError:\n",
    "            legal_actions.pop()\n",
    "            \n",
    "        \n",
    "    return legal_actions"
   ]
  },
  {
   "cell_type": "code",
   "execution_count": null,
   "metadata": {
    "collapsed": true
   },
   "outputs": [],
   "source": []
  },
  {
   "cell_type": "code",
   "execution_count": 7,
   "metadata": {
    "collapsed": true
   },
   "outputs": [],
   "source": [
    "def take_action(pos, action):\n",
    "    # Take action in the actual environment and return a reward and new position based on environment dynamics\n",
    "    if numpy.random.rand(1) < trans_prob:\n",
    "        new_pos = numpy.add(pos, action)\n",
    "    else:\n",
    "        new_pos = numpy.add(pos, random.choice(get_legal_actions(pos)))\n",
    "    reward = environment[new_pos[0]][new_pos[1]]\n",
    "    return new_pos, reward"
   ]
  },
  {
   "cell_type": "code",
   "execution_count": null,
   "metadata": {
    "collapsed": true
   },
   "outputs": [],
   "source": []
  },
  {
   "cell_type": "code",
   "execution_count": null,
   "metadata": {
    "collapsed": true
   },
   "outputs": [],
   "source": []
  },
  {
   "cell_type": "code",
   "execution_count": 8,
   "metadata": {
    "collapsed": true
   },
   "outputs": [],
   "source": [
    "def mb_internal_environment_value(pos, mb_internal_environment):\n",
    "    value = mb_internal_environment[pos[0], pos[1]]\n",
    "    return value"
   ]
  },
  {
   "cell_type": "code",
   "execution_count": 9,
   "metadata": {
    "collapsed": true
   },
   "outputs": [],
   "source": [
    "def update_mb_internal_environment(pos, next_pos, reward, mb_internal_environment):\n",
    "    next_value_list = list()\n",
    "    for i in get_legal_actions(next_pos):\n",
    "        next_value_list.append(mb_internal_environment[next_pos[0]][next_pos[1]])\n",
    "    next_value = max(next_value_list)\n",
    "    error = reward + gamma*next_value - mb_internal_environment_value(pos, mb_internal_environment)\n",
    "    mb_internal_environment[pos[0], pos[1]] = mb_internal_environment_value(pos, mb_internal_environment) + alpha * error\n",
    "    return mb_internal_environment\n"
   ]
  },
  {
   "cell_type": "code",
   "execution_count": 10,
   "metadata": {
    "collapsed": true
   },
   "outputs": [],
   "source": [
    "def dls(pos, curr_depth, max_depth, mb_internal_environment):\n",
    "    value_list = list()\n",
    "    if curr_depth == max_depth:\n",
    "        return mb_internal_environment_value(pos, mb_internal_environment)\n",
    "    else:\n",
    "        actions = get_legal_actions(pos)\n",
    "        for i in actions:\n",
    "            next_pos = numpy.add(numpy.array(pos), numpy.array(i))\n",
    "            value = mb_internal_environment_value(pos, mb_internal_environment) + gamma * dls(next_pos, curr_depth+1, max_depth, mb_internal_environment)\n",
    "            value_list.append(value)\n",
    "        if value_list:\n",
    "            average_value = numpy.mean(numpy.array(value_list))\n",
    "    return average_value"
   ]
  },
  {
   "cell_type": "code",
   "execution_count": 11,
   "metadata": {
    "collapsed": true
   },
   "outputs": [],
   "source": [
    "def dls_action(pos, max_depth, mb_internal_environment):\n",
    "    # Do depth Limited Search till max_depth on the mb_internal_environment\n",
    "    actions = get_legal_actions(pos)\n",
    "    next_value_list = list()\n",
    "    next_pos_list = list()\n",
    "    for i in actions:\n",
    "        next_pos = numpy.add(numpy.array(pos), numpy.array(i))\n",
    "        next_value_list.append(dls(next_pos, 0, max_depth, mb_internal_environment))\n",
    "        next_pos_list.append(next_pos)\n",
    "    zipped = list(zip(actions, next_value_list))\n",
    "    random.shuffle(zipped)\n",
    "    actions, next_value_list = zip(*zipped)\n",
    "    action = actions[action_from_softmax(softmax(next_value_list))]\n",
    "    return action"
   ]
  },
  {
   "cell_type": "code",
   "execution_count": null,
   "metadata": {
    "collapsed": true
   },
   "outputs": [],
   "source": []
  },
  {
   "cell_type": "code",
   "execution_count": 12,
   "metadata": {
    "collapsed": true
   },
   "outputs": [],
   "source": [
    "def q_action(pos, mb_internal_environment):\n",
    "    # Look for q values in mf_internal_environment for given position\n",
    "    actions = get_legal_actions(pos)\n",
    "    next_value_list = list()\n",
    "    next_pos_list = list()\n",
    "    for i in actions:\n",
    "        next_pos = numpy.add(numpy.array(pos), numpy.array(i))\n",
    "        next_value_list.append(mb_internal_environment[next_pos[0], next_pos[1]])\n",
    "        next_pos_list.append(next_pos)\n",
    "    zipped = list(zip(actions, next_value_list))\n",
    "    random.shuffle(zipped)\n",
    "    actions, next_value_list = zip(*zipped)\n",
    "    action = actions[action_from_softmax(softmax(next_value_list))]\n",
    "    return action"
   ]
  },
  {
   "cell_type": "code",
   "execution_count": 43,
   "metadata": {
    "collapsed": true
   },
   "outputs": [],
   "source": [
    "def dual(num_iters, mb_internal_environment, change_env, change_at):\n",
    "    max_depth = 3\n",
    "    steps_per_reward = 0\n",
    "    steps = list()\n",
    "    time_per_reward = list()\n",
    "    first_action = list()\n",
    "    response_time_across_trials = list()\n",
    "    dls_count_across_trials = list()\n",
    "    q_count_across_trials = list()\n",
    "    total_count_across_trials = list()\n",
    "    total_reward_across_trials = list()\n",
    "    chunk_count = 0\n",
    "    for i in range(num_iters):\n",
    "        response_time = list()\n",
    "        pos = [0, 0]\n",
    "        mb_heat_env = numpy.zeros((numpy.shape(mb_internal_environment)))\n",
    "        mf_heat_env = numpy.zeros((numpy.shape(mb_internal_environment)))\n",
    "        map_heat = numpy.zeros((numpy.shape(mb_internal_environment)))\n",
    "        j = 0\n",
    "        dls_count = 0\n",
    "        q_count = 0\n",
    "        sum_reward = 0\n",
    "        total_count = 1\n",
    "        factor = 1\n",
    "        goal_start_time = time.time()\n",
    "        #change the environment at moderate training\n",
    "        if change_env and i == change_at:\n",
    "            environment[6, 6] = -10\n",
    "            environment[0, 0] = 10\n",
    "        while True:\n",
    "            if j % int((i)/factor+1) == 0 or chunk_count == 9:\n",
    "                factor += 0.5\n",
    "                mb_heat_env[pos[0]][pos[1]] += 1\n",
    "                response_time_start = time.time()\n",
    "                action = dls_action(pos, max_depth, mb_internal_environment)\n",
    "                next_pos, reward = take_action(pos, action)\n",
    "                mb_internal_environment = update_mb_internal_environment(pos, next_pos, reward, mb_internal_environment)\n",
    "                pos = next_pos\n",
    "                response_time_end = time.time()\n",
    "                dls_count += 1\n",
    "                chunk_count = 0\n",
    "                \n",
    "            else:\n",
    "                mf_heat_env[pos[0]][pos[1]] += 1\n",
    "                response_time_start = time.time()\n",
    "                action = q_action(pos, mb_internal_environment)\n",
    "                next_pos, reward = take_action(pos, action)\n",
    "                mb_internal_environment = update_mb_internal_environment(pos, next_pos, reward, mb_internal_environment)\n",
    "                pos = next_pos\n",
    "                response_time_end = time.time()\n",
    "                q_count += 1\n",
    "                chunk_count += 1\n",
    "            map_heat[pos[0]][pos[1]] += 1\n",
    "                \n",
    "            response_time.append(response_time_end - response_time_start)\n",
    "            sum_reward += reward\n",
    "            steps_per_reward += 1\n",
    "            if j == 0 and i == change_at:\n",
    "                prev_first = action\n",
    "            if j == 0 and i > change_at:\n",
    "                if numpy.array_equal(prev_first, [1, 0]) or numpy.array_equal(prev_first, [0, 1]):\n",
    "                    first_action.append(numpy.array_equal([1, 0], action) or numpy.array_equal([0, 1], action))\n",
    "                    \n",
    "            j += 1\n",
    "            if reward > 1:\n",
    "                mb_internal_environment[pos[0], pos[1]] = (1-alpha) * mb_internal_environment_value(pos, mb_internal_environment) + (alpha) * (reward)\n",
    "                steps.append(steps_per_reward)\n",
    "                steps_per_reward = 0\n",
    "                #print \"here\", pos\n",
    "                goal_time = time.time()\n",
    "                time_per_reward.append(goal_time - goal_start_time)\n",
    "                \n",
    "                break\n",
    "            total_count += 1\n",
    "            \n",
    "        total_reward_across_trials.append(sum_reward)\n",
    "        dls_count_across_trials.append(dls_count)\n",
    "        q_count_across_trials.append(q_count)\n",
    "        total_count_across_trials.append(total_count)\n",
    "        \"\"\"\n",
    "        print (\"Mb Heat\")\n",
    "        plt.imshow(mb_heat_env, cmap='hot', interpolation='nearest')\n",
    "        plt.show()\n",
    "        print (\"Mf Heat\")\n",
    "        plt.imshow(mf_heat_env, cmap='hot', interpolation='nearest')\n",
    "        plt.show()\n",
    "        \n",
    "        #print (\"Map Heat\")\n",
    "        #plt.imshow(mb_internal_environment, cmap='hot', interpolation='nearest')\n",
    "        #plt.show()\n",
    "        \"\"\"\n",
    "        response_time_across_trials.append(numpy.mean(response_time))\n",
    "    return total_reward_across_trials, steps, mb_internal_environment, time_per_reward, first_action, response_time_across_trials, dls_count_across_trials, q_count_across_trials,total_count_across_trials"
   ]
  },
  {
   "cell_type": "code",
   "execution_count": 14,
   "metadata": {
    "collapsed": true
   },
   "outputs": [],
   "source": [
    "def mb(num_iters, mb_internal_environment):\n",
    "    sum_reward = 0\n",
    "    max_depth = 3\n",
    "    steps = list()\n",
    "    time_per_reward = list()\n",
    "    for i in range(num_iters):\n",
    "        pos = [0, 0]\n",
    "        steps_per_reward = 0\n",
    "        goal_start_time = time.time()\n",
    "        while True:\n",
    "            action = dls_action(pos, max_depth, mb_internal_environment)\n",
    "            next_pos, reward = take_action(pos, action)\n",
    "            mb_internal_environemnt = update_mb_internal_environment(pos, next_pos, reward, mb_internal_environment)\n",
    "            pos = next_pos\n",
    "            sum_reward = 0.5*sum_reward + 0.5*reward\n",
    "            steps_per_reward += 1\n",
    "            if reward != 0:\n",
    "                mb_internal_environment[pos[0], pos[1]] = (1-alpha) * mb_internal_environment_value(pos, mb_internal_environment) + (alpha) * (reward)                \n",
    "                steps.append(steps_per_reward)\n",
    "                steps_per_reward = 0\n",
    "                goal_time = time.time()\n",
    "                time_per_reward.append(goal_time - goal_start_time)\n",
    "                #print \"here\"\n",
    "                break\n",
    "\n",
    "    return sum_reward, steps, mb_internal_environment, time_per_reward"
   ]
  },
  {
   "cell_type": "code",
   "execution_count": 15,
   "metadata": {
    "collapsed": true
   },
   "outputs": [],
   "source": [
    "def mf(num_iters, mb_internal_environment):\n",
    "    sum_reward = 0\n",
    "    steps = list()\n",
    "    time_per_reward = list()\n",
    "    \n",
    "    for i in range(num_iters):\n",
    "        pos = [3, 3]\n",
    "        steps_per_reward = 0        \n",
    "        #print (mb_internal_environment)\n",
    "        goal_start_time = time.time()\n",
    "        \n",
    "        while True:\n",
    "            action = q_action(pos, mb_internal_environment)\n",
    "            next_pos, reward = take_action(pos, action)\n",
    "            mb_internal_environment = update_mb_internal_environment(pos, next_pos, reward, mb_internal_environment)\n",
    "            pos = next_pos\n",
    "            sum_reward = 0.5*sum_reward + 0.5*reward\n",
    "            steps_per_reward += 1\n",
    "            if reward != 0:\n",
    "                \n",
    "                mb_internal_environment[pos[0], pos[1]] = (1-alpha) * mb_internal_environment_value(pos, mb_internal_environment) + (alpha) * (reward)\n",
    "                steps.append(steps_per_reward)\n",
    "                steps_per_reward = 0\n",
    "                goal_time = time.time()\n",
    "                time_per_reward.append(goal_time - goal_start_time)\n",
    "                \n",
    "                break\n",
    "            \n",
    "    return sum_reward, steps, mb_internal_environment, mb_internal_environment, time_per_reward"
   ]
  },
  {
   "cell_type": "code",
   "execution_count": null,
   "metadata": {
    "collapsed": true
   },
   "outputs": [],
   "source": []
  },
  {
   "cell_type": "markdown",
   "metadata": {},
   "source": [
    "Run the Dual Process on grid world. Get a list of individual time taken for each and rewards obtained."
   ]
  },
  {
   "cell_type": "code",
   "execution_count": 44,
   "metadata": {
    "collapsed": true
   },
   "outputs": [],
   "source": [
    "times_dual = list()\n",
    "reward_dual = list()\n",
    "steps_dual = list()\n",
    "time_per_reward_dual = list()\n",
    "first_action_dual = list()\n",
    "response_time_dual = list()\n",
    "dls_count_dual = list()\n",
    "q_count_dual = list()\n",
    "total_count_dual = list()\n",
    "change_at = 30\n",
    "iterations = 50\n",
    "change = False\n",
    "trials = 10\n",
    "for i in range(trials):\n",
    "    environment = numpy.ones((7, 7))\n",
    "    environment = -0.1*environment\n",
    "    trans_prob = 0.7\n",
    "    environment[6, 6] = 10\n",
    "    #environment[8, 8] = -10\n",
    "    #environment[0, 0] = -10\n",
    "    mb_internal_environment = numpy.zeros((7, 7))\n",
    "    #mb_internal_environment[6, 6] = 10\n",
    "    start_time = time.time()\n",
    "    dual_result = dual(iterations, mb_internal_environment, change, change_at)\n",
    "    reward_dual.append(dual_result[0])\n",
    "    steps_dual.append(dual_result[1])\n",
    "    times_dual.append(time.time() - start_time)\n",
    "    time_per_reward_dual.append(dual_result[3])\n",
    "    first_action_dual.append(dual_result[4])\n",
    "    response_time_dual.append(dual_result[5])\n",
    "    dls_count_dual.append(dual_result[6])\n",
    "    q_count_dual.append(dual_result[7])\n",
    "    total_count_dual.append(dual_result[8])\n",
    "\n"
   ]
  },
  {
   "cell_type": "code",
   "execution_count": 45,
   "metadata": {},
   "outputs": [
    {
     "name": "stdout",
     "output_type": "stream",
     "text": [
      "[ 134.4   47.6   37.    30.    38.8   32.2   23.5   20.2   19.2   22.\n",
      "   17.6    8.5    6.7   12.2    8.2    6.4    7.2    7.3    5.     3.9\n",
      "    7.8    6.8    5.5    5.2    5.1    5.7    5.7    5.3    5.8    4.\n",
      "    3.5    4.7    4.7    3.9    3.3    3.6    3.5    3.7    3.9    2.7\n",
      "    2.8    3.4    3.2    3.     3.7    3.8    3.4    3.6    4.     3. ]\n",
      "[ 134.4   47.6   39.    34.    46.8   42.2   37.2   35.8   38.8   46.\n",
      "   41.2   26.8   28.8   41.6   32.8   30.2   31.6   32.4   30.2   26.    36.\n",
      "   32.8   27.4   27.    27.6   31.4   31.2   31.2   34.8   27.4   26.6\n",
      "   30.8   31.4   27.    25.4   30.2   27.2   26.6   32.6   23.    24.2\n",
      "   29.2   26.4   25.6   32.4   29.2   26.    28.    32.2   23.8]\n",
      "[-3.34  5.34  6.2   6.7   5.42  5.88  6.38  6.52  6.22  5.5   5.98  7.42\n",
      "  7.22  5.94  6.82  7.08  6.94  6.86  7.08  7.5   6.5   6.82  7.36  7.4\n",
      "  7.34  6.96  6.98  6.98  6.62  7.36  7.44  7.02  6.96  7.4   7.56  7.08\n",
      "  7.38  7.44  6.84  7.8   7.68  7.18  7.46  7.54  6.86  7.18  7.5   7.3\n",
      "  6.88  7.72]\n"
     ]
    }
   ],
   "source": [
    "print (numpy.mean(dls_count_dual, axis=0))\n",
    "print (numpy.mean(total_count_dual, axis=0))\n",
    "print (numpy.mean(reward_dual, axis=0))"
   ]
  },
  {
   "cell_type": "code",
   "execution_count": 46,
   "metadata": {
    "scrolled": true
   },
   "outputs": [
    {
     "data": {
      "image/png": "[encoded data removed]",
      "text/plain": [
       "<matplotlib.figure.Figure at 0x7f73c45f2c18>"
      ]
     },
     "metadata": {},
     "output_type": "display_data"
    }
   ],
   "source": [
    "#print dls_count_dual\n",
    "#print q_count_dual\n",
    "#print total_count_dual\n",
    "plt.cla()\n",
    "mb_line, = plt.plot(numpy.arange(iterations), (numpy.true_divide(numpy.transpose(numpy.mean(dls_count_dual, axis=0)), numpy.transpose(numpy.mean(total_count_dual, axis=0)))), label = \"GD Percentage\")\n",
    "mf_line, = plt.plot(numpy.arange(iterations), numpy.true_divide(numpy.transpose(numpy.mean(q_count_dual, axis=0)), numpy.transpose(numpy.mean(total_count_dual, axis=0))))\n",
    "plt.legend([mb_line, mf_line], [\"Model Based\", \"Model_free\"])\n",
    "plt.title(\"Relative Control of MB and MF actors\")\n",
    "plt.xlabel(\"Iterations\")\n",
    "plt.ylabel(\"Proportion of Actions\")\n",
    "plt.show()"
   ]
  },
  {
   "cell_type": "code",
   "execution_count": 47,
   "metadata": {},
   "outputs": [
    {
     "data": {
      "image/png": "[encoded data removed]",
      "text/plain": [
       "<matplotlib.figure.Figure at 0x7f73b411d630>"
      ]
     },
     "metadata": {},
     "output_type": "display_data"
    },
    {
     "name": "stdout",
     "output_type": "stream",
     "text": [
      "6.724\n"
     ]
    }
   ],
   "source": [
    "plt.cla()\n",
    "reward_line, = plt.plot(numpy.arange(iterations), numpy.mean(reward_dual, axis=0))\n",
    "plt.show()\n",
    "print (numpy.mean(reward_dual))"
   ]
  },
  {
   "cell_type": "code",
   "execution_count": 34,
   "metadata": {},
   "outputs": [
    {
     "data": {
      "image/png": "[encoded data removed]",
      "text/plain": [
       "<matplotlib.figure.Figure at 0x7f73b437c390>"
      ]
     },
     "metadata": {},
     "output_type": "display_data"
    }
   ],
   "source": [
    "plt.cla()\n",
    "plt.plot(numpy.arange(iterations), numpy.multiply(numpy.mean(response_time_dual, axis=0), 1000))\n",
    "plt.title(\"Decreasing Response Time With Practice\")\n",
    "plt.ylabel(\"Mean Response Time\")\n",
    "plt.xlabel(\"Iterations\")\n",
    "plt.show()"
   ]
  },
  {
   "cell_type": "markdown",
   "metadata": {},
   "source": [
    "Outcome devaluation for overtraining. (Change = True, change_at = 30)"
   ]
  },
  {
   "cell_type": "code",
   "execution_count": 26,
   "metadata": {},
   "outputs": [],
   "source": [
    "times_dual = list()\n",
    "reward_dual = list()\n",
    "steps_dual = list()\n",
    "time_per_reward_dual = list()\n",
    "first_action_dual = list()\n",
    "change = True\n",
    "iterations = 50\n",
    "trials = 10\n",
    "change_list = [10, 20, 30, 40]\n",
    "stay_percentage = numpy.zeros((trials, len(change_list)))\n",
    "for i in range(trials):\n",
    "    for k in range(len(change_list)):\n",
    "        environment = numpy.ones((7, 7))\n",
    "        environment = -0.1*environment\n",
    "        trans_prob = 0.7\n",
    "        environment[6, 6] = 10\n",
    "        #environment[8, 8] = -10\n",
    "        environment[0, 0] = -10\n",
    "        mb_internal_environment = numpy.zeros((7, 7))\n",
    "        #mb_internal_environment[6, 6] = 10\n",
    "        start_time = time.time()\n",
    "        dual_result = dual(iterations, mb_internal_environment, change, change_at=change_list[k])\n",
    "        reward_dual.append(dual_result[0])\n",
    "        steps_dual.append(dual_result[1])\n",
    "        times_dual.append(time.time() - start_time)\n",
    "        time_per_reward_dual.append(dual_result[3])\n",
    "        stay_percentage[i][k] = numpy.mean(dual_result[4])\n",
    "        \n",
    "    #stay_percentage[i] = [numpy.mean(i) for i in first_action_dual]\n",
    "    #print float(sum(first_action_dual))\n"
   ]
  },
  {
   "cell_type": "code",
   "execution_count": 27,
   "metadata": {},
   "outputs": [
    {
     "name": "stdout",
     "output_type": "stream",
     "text": [
      "[[ 0.02564103  0.06896552  0.10526316  0.22222222]\n",
      " [ 0.07692308  0.06896552  0.21052632  0.33333333]\n",
      " [ 0.05128205  0.03448276  0.15789474  0.55555556]\n",
      " [ 0.02564103  0.06896552  0.15789474  0.22222222]\n",
      " [ 0.02564103  0.03448276  0.15789474  0.33333333]\n",
      " [ 0.1025641   0.10344828  0.21052632  0.22222222]\n",
      " [ 0.02564103  0.          0.10526316  0.33333333]\n",
      " [ 0.07692308  0.13793103  0.21052632  0.33333333]\n",
      " [ 0.07692308  0.10344828  0.10526316  0.44444444]\n",
      " [ 0.07692308  0.13793103  0.21052632  0.22222222]]\n"
     ]
    }
   ],
   "source": [
    "#print collections.Counter(first_action_dual)\n",
    "#print numpy.mean(numpy.sum(first_action_dual))\n",
    "print (stay_percentage)"
   ]
  },
  {
   "cell_type": "code",
   "execution_count": null,
   "metadata": {
    "collapsed": true
   },
   "outputs": [],
   "source": []
  },
  {
   "cell_type": "code",
   "execution_count": 28,
   "metadata": {},
   "outputs": [
    {
     "name": "stdout",
     "output_type": "stream",
     "text": [
      "[ 0.05641026  0.07586207  0.16315789  0.32222222]\n"
     ]
    }
   ],
   "source": [
    "stay_percentage_mean = numpy.nanmean(stay_percentage, axis=0)\n",
    "print (stay_percentage_mean)"
   ]
  },
  {
   "cell_type": "code",
   "execution_count": 29,
   "metadata": {
    "scrolled": true
   },
   "outputs": [
    {
     "data": {
      "image/png": "[encoded data removed]",
      "text/plain": [
       "<matplotlib.figure.Figure at 0x7f73b44b6908>"
      ]
     },
     "metadata": {},
     "output_type": "display_data"
    }
   ],
   "source": [
    "plt.plot([10, 20, 30, 40], stay_percentage_mean, marker = 'o')\n",
    "plt.xlabel(\"Trial Number\")\n",
    "plt.ylabel(\"Stay Probability\")\n",
    "plt.title(\"Stay probability for changes at different points\")\n",
    "plt.show()"
   ]
  },
  {
   "cell_type": "markdown",
   "metadata": {},
   "source": [
    "Outcome Devaluation for moderately trained. (Change == True, change_at = 10)"
   ]
  },
  {
   "cell_type": "code",
   "execution_count": null,
   "metadata": {
    "collapsed": true
   },
   "outputs": [],
   "source": [
    "times_dual = list()\n",
    "reward_dual = list()\n",
    "steps_dual = list()\n",
    "time_per_reward_dual = list()\n",
    "first_action_dual = list()\n",
    "change_at = 10\n",
    "iterations = 50\n",
    "change = True\n",
    "trials = 10\n",
    "for i in range(trials):\n",
    "    environment = numpy.zeros((7, 7))\n",
    "    trans_prob = 0.7\n",
    "    environment[6, 6] = 10\n",
    "    #environment[8, 8] = -10\n",
    "    #environment[0, 0] = -10\n",
    "    mb_internal_environment = numpy.zeros((7, 7))\n",
    "    #mb_internal_environment[6, 6] = 10\n",
    "    start_time = time.time()\n",
    "    dual_result = dual(iterations, mb_internal_environment, change, change_at)\n",
    "    reward_dual.append(dual_result[0])\n",
    "    steps_dual.append(dual_result[1])\n",
    "    times_dual.append(time.time() - start_time)\n",
    "    time_per_reward_dual.append(dual_result[3])\n",
    "    first_action_dual.append(dual_result[4])"
   ]
  },
  {
   "cell_type": "code",
   "execution_count": null,
   "metadata": {},
   "outputs": [],
   "source": [
    "#print collections.Counter(first_action_dual)\n",
    "stay_percentage_moderatelytrained = list()\n",
    "print collections.Counter(tuple(i) for i in first_action_dual[0][change_at:]).values()\n",
    "for i in range(trials):\n",
    "    stay_percentage_moderatelytrained.append((1 - max(collections.Counter(tuple(i) for i in first_action_dual[i][change_at:]).values())/float(iterations-change_at)))\n",
    "print numpy.mean(stay_percentage_moderatelytrained)"
   ]
  },
  {
   "cell_type": "code",
   "execution_count": null,
   "metadata": {},
   "outputs": [],
   "source": [
    "stay_percentage_labels = [\"Overtrained\", \"Moderately trained\"]\n",
    "plt.bar(numpy.arange(2), (numpy.mean(stay_percentage_overtrain), numpy.mean(stay_percentage_moderatelytrained)), color = 'b')\n",
    "plt.xticks(numpy.arange(2), stay_percentage_labels)\n",
    "plt.ylabel(\"First Action Stay Percentage\")\n",
    "plt.title(\"Outcome Devaluation\")\n",
    "plt.show()"
   ]
  },
  {
   "cell_type": "code",
   "execution_count": null,
   "metadata": {
    "collapsed": true
   },
   "outputs": [],
   "source": [
    "times_mb = list()\n",
    "reward_mb = list()\n",
    "steps_mb = list()\n",
    "time_per_reward_mb = list()\n",
    "for i in range(10):\n",
    "    environment = numpy.zeros((7, 7))\n",
    "    trans_prob = 0.7\n",
    "    environment[6, 6] = 10\n",
    "    \n",
    "    #environment[8, 8] = -10\n",
    "    #environment[0, 0] = -10\n",
    "    mb_internal_environment = numpy.zeros((7, 7))\n",
    "    start_time = time.time()\n",
    "    mb_result = mb(50, mb_internal_environment)\n",
    "    reward_mb.append(mb_result[0])\n",
    "    steps_mb.append(mb_result[1])\n",
    "    times_mb.append(time.time() - start_time)\n",
    "    time_per_reward_mb.append(mb_result[3])\n"
   ]
  },
  {
   "cell_type": "code",
   "execution_count": null,
   "metadata": {
    "collapsed": true
   },
   "outputs": [],
   "source": [
    "times_mf = list()\n",
    "reward_mf = list()\n",
    "steps_mf = list()\n",
    "time_per_reward_mf = list()\n",
    "for i in range(10):\n",
    "    environment = numpy.zeros((7, 7))\n",
    "    trans_prob = 0.7\n",
    "    environment[6, 6] = 10\n",
    "    #environment[8, 8] = -10\n",
    "    #environment[0, 0] = -10\n",
    "    mb_internal_environment = numpy.zeros((10, 10))\n",
    "    start_time = time.time()\n",
    "    mf_result = mf(50, mb_internal_environment)\n",
    "    reward_mf.append(mf_result[0])\n",
    "    steps_mf.append(mf_result[1])\n",
    "    times_mf.append(time.time() - start_time)\n",
    "    time_per_reward_mf.append(mf_result[4])"
   ]
  },
  {
   "cell_type": "markdown",
   "metadata": {},
   "source": [
    "Plotting time to complete one trial -- one walk through the environment. The walk completes on reward. \n",
    "The plot shows the dual process approaches TD in completing the walk through the environment -- showing goal directed behavior converted to habits."
   ]
  },
  {
   "cell_type": "code",
   "execution_count": null,
   "metadata": {},
   "outputs": [],
   "source": [
    "timeperrewardmb_plot = plt.plot(numpy.arange(0, 50), numpy.mean(numpy.array(time_per_reward_mb), axis=0), color = 'b', label = 'MB')\n",
    "timeperrewardmf_plot = plt.plot(numpy.arange(0, 50), numpy.mean(numpy.array(time_per_reward_mf), axis=0), color = 'r', label = 'MF')\n",
    "timeperrewarddual_plot = plt.plot(numpy.arange(0, 50), numpy.mean(numpy.array(time_per_reward_dual), axis=0), color = 'g', label = 'Dual')\n",
    "plt.legend()\n",
    "plt.xlabel('Trial')\n",
    "plt.ylabel('Time to reach goal')\n",
    "\n",
    "#plt.xticks(numpy.arange(3), ('mb', 'dual', 'mf'))\n",
    "plt.show()"
   ]
  },
  {
   "cell_type": "code",
   "execution_count": null,
   "metadata": {
    "collapsed": true
   },
   "outputs": [],
   "source": [
    "reward_mean_dual = numpy.mean(numpy.array(reward_dual))\n",
    "reward_mean_mb = numpy.mean(numpy.array(reward_mb))\n",
    "reward_mean_mf = numpy.mean(numpy.array(reward_mf))\n",
    "times_mean_dual = numpy.mean(numpy.array(times_dual))\n",
    "times_mean_mb = numpy.mean(numpy.array(times_mb))\n",
    "times_mean_mf = numpy.mean(numpy.array(times_mf))\n",
    "steps_mean_dual = numpy.mean(steps_dual)\n",
    "steps_mean_mb = numpy.mean(steps_mb)\n",
    "steps_mean_mf = numpy.mean(steps_mf)\n"
   ]
  },
  {
   "cell_type": "code",
   "execution_count": null,
   "metadata": {},
   "outputs": [],
   "source": [
    "print steps_mean_dual"
   ]
  },
  {
   "cell_type": "code",
   "execution_count": null,
   "metadata": {
    "collapsed": true
   },
   "outputs": [],
   "source": []
  },
  {
   "cell_type": "code",
   "execution_count": null,
   "metadata": {},
   "outputs": [],
   "source": [
    "stepsmf_plot, = plt.plot(numpy.arange(0, 50), numpy.mean(numpy.array(steps_mf), axis=0), color = 'r', label = 'MF')\n",
    "stepsdual_plot, = plt.plot(numpy.arange(0, 50), numpy.mean(numpy.array(steps_dual), axis=0), color = 'g', label = 'Dual')\n",
    "stepsmb_plot, = plt.plot(numpy.arange(0, 50), numpy.mean(numpy.array(steps_mb), axis=0), color = 'b', label = 'MB')\n",
    "plt.legend()\n",
    "plt.xlabel(\"Trials\")\n",
    "plt.ylabel(\"Steps\")\n",
    "plt.show()"
   ]
  },
  {
   "cell_type": "code",
   "execution_count": null,
   "metadata": {},
   "outputs": [],
   "source": [
    "rewards = numpy.array([reward_mean_mb, reward_mean_dual, reward_mean_mf])\n",
    "#yerror = numpy.array(reward_errors)\n",
    "print (rewards)"
   ]
  },
  {
   "cell_type": "code",
   "execution_count": null,
   "metadata": {},
   "outputs": [],
   "source": [
    "reward_plot, = plt.plot(numpy.arange(0, 3), rewards)\n",
    "plt.xticks(numpy.arange(3), ('mb', 'dual', 'mf'))\n",
    "plt.xlim(xmin = -1, xmax = 4)\n",
    "#plt.ylim(ymin = 4.5, ymax = 5.5)\n",
    "plt.xlabel('RL methods')\n",
    "plt.ylabel(\"Rewards\")\n",
    "\n",
    "plt.show()"
   ]
  },
  {
   "cell_type": "code",
   "execution_count": null,
   "metadata": {},
   "outputs": [],
   "source": [
    "times = numpy.array([times_mean_mb, times_mean_dual, times_mean_mf])\n",
    "print (times)\n",
    "plt.bar(numpy.arange(3), times, align='center')\n",
    "plt.xticks(numpy.arange(3), ('mb', 'dual', 'mf'))\n",
    "plt.xlim(xmin = -1, xmax = 4)\n",
    "#plt.ylim(ymin = -1, ymax = 10)\n",
    "plt.xlabel('RL methods')\n",
    "plt.ylabel(\"Time (in secs)\")\n",
    "\n",
    "plt.show()"
   ]
  },
  {
   "cell_type": "code",
   "execution_count": null,
   "metadata": {},
   "outputs": [],
   "source": [
    "steps = numpy.array([steps_mean_mb, steps_mean_dual, steps_mean_mf])\n",
    "print (steps)\n",
    "plt.bar(numpy.arange(3), steps, align='center')\n",
    "plt.xticks(numpy.arange(3), ('mb', 'dual', 'mf'))\n",
    "plt.xlim(xmin = -1, xmax = 3)\n",
    "#plt.ylim(ymin = 350, ymax = 400)\n",
    "plt.xlabel('RL methods')\n",
    "plt.ylabel(\"Stpes\")\n",
    "\n",
    "plt.show()"
   ]
  },
  {
   "cell_type": "code",
   "execution_count": null,
   "metadata": {
    "collapsed": true
   },
   "outputs": [],
   "source": []
  },
  {
   "cell_type": "code",
   "execution_count": null,
   "metadata": {
    "collapsed": true
   },
   "outputs": [],
   "source": []
  }
 ],
 "metadata": {
  "anaconda-cloud": {},
  "kernelspec": {
   "display_name": "Python 3",
   "language": "python",
   "name": "python3"
  },
  "language_info": {
   "codemirror_mode": {
    "name": "ipython",
    "version": 3
   },
   "file_extension": ".py",
   "mimetype": "text/x-python",
   "name": "python",
   "nbconvert_exporter": "python",
   "pygments_lexer": "ipython3",
   "version": "3.6.0"
  }
 },
 "nbformat": 4,
 "nbformat_minor": 1
}
