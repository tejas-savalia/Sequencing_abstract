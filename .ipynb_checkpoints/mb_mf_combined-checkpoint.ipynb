{
 "cells": [
  {
   "cell_type": "code",
   "execution_count": 30,
   "metadata": {
    "collapsed": true
   },
   "outputs": [],
   "source": [
    "import numpy\n",
    "import math\n",
    "import random\n",
    "import time\n",
    "import matplotlib.pyplot as plt"
   ]
  },
  {
   "cell_type": "code",
   "execution_count": 2,
   "metadata": {},
   "outputs": [],
   "source": [
    "environment = numpy.zeros((5, 5))\n",
    "trans_prob = 0.7\n",
    "environment[3, 4] = 10"
   ]
  },
  {
   "cell_type": "code",
   "execution_count": 3,
   "metadata": {
    "collapsed": true
   },
   "outputs": [],
   "source": [
    "alpha = 0.5\n",
    "gamma = 0.9"
   ]
  },
  {
   "cell_type": "code",
   "execution_count": 4,
   "metadata": {
    "collapsed": true
   },
   "outputs": [],
   "source": [
    "def get_legal_actions(pos):\n",
    "    legal_actions = list()\n",
    "    new_pos = list()\n",
    "    all_actions = [[1, 0], [0, 1], [-1, 0], [0, -1]]\n",
    "    for i in all_actions:\n",
    "        try:\n",
    "            new_pos = numpy.add(pos, numpy.array(i))\n",
    "            legal_actions.append(i)\n",
    "            env = environment[new_pos[0]][new_pos[1]]\n",
    "            if any(j < 0 for j in new_pos):\n",
    "                legal_actions.pop()\n",
    "        except IndexError:\n",
    "            legal_actions.pop()\n",
    "            \n",
    "        \n",
    "    return legal_actions"
   ]
  },
  {
   "cell_type": "code",
   "execution_count": null,
   "metadata": {},
   "outputs": [],
   "source": []
  },
  {
   "cell_type": "code",
   "execution_count": 5,
   "metadata": {
    "collapsed": true
   },
   "outputs": [],
   "source": [
    "def take_action(pos, action):\n",
    "    # Take action in the actual environment and return a reward and new position based on environment dynamics\n",
    "    if numpy.random.rand(1) < 0.2:\n",
    "        new_pos = numpy.add(pos, action)\n",
    "    else:\n",
    "        new_pos = numpy.add(pos, random.choice(get_legal_actions(pos)))\n",
    "    reward = environment[new_pos[0]][new_pos[1]]\n",
    "    return new_pos, reward"
   ]
  },
  {
   "cell_type": "code",
   "execution_count": null,
   "metadata": {},
   "outputs": [],
   "source": []
  },
  {
   "cell_type": "code",
   "execution_count": 6,
   "metadata": {
    "collapsed": true
   },
   "outputs": [],
   "source": [
    "mb_internal_environment = numpy.zeros((5, 5))\n"
   ]
  },
  {
   "cell_type": "code",
   "execution_count": 7,
   "metadata": {
    "collapsed": true
   },
   "outputs": [],
   "source": [
    "def mb_internal_environment_value(pos):\n",
    "    value = mb_internal_environment[pos[0], pos[1]]\n",
    "    return value"
   ]
  },
  {
   "cell_type": "code",
   "execution_count": 8,
   "metadata": {
    "collapsed": true
   },
   "outputs": [],
   "source": [
    "def update_mb_internal_environment(pos, next_pos, reward):\n",
    "    next_value_list = list()\n",
    "    for i in get_legal_actions(next_pos):\n",
    "        next_value_list.append(mb_internal_environment[next_pos[0]][next_pos[1]])\n",
    "    next_value = max(next_value_list)\n",
    "    mb_internal_environment[pos[0], pos[1]] = (1-alpha) * mb_internal_environment_value(pos) + (alpha) * (reward + gamma*next_value)"
   ]
  },
  {
   "cell_type": "code",
   "execution_count": 9,
   "metadata": {},
   "outputs": [],
   "source": [
    "def dls(pos, curr_depth, max_depth):\n",
    "    value_list = list()\n",
    "    if curr_depth == max_depth:\n",
    "        return mb_internal_environment_value(pos)\n",
    "    else:\n",
    "        actions = get_legal_actions(pos)\n",
    "        for i in actions:\n",
    "            next_pos = numpy.add(numpy.array(pos), numpy.array(i))\n",
    "            value = mb_internal_environment_value(pos) + gamma * dls(next_pos, curr_depth+1, max_depth)\n",
    "            value_list.append(value)\n",
    "        if value_list:\n",
    "            average_value = numpy.mean(numpy.array(value_list))\n",
    "    return average_value"
   ]
  },
  {
   "cell_type": "code",
   "execution_count": 10,
   "metadata": {},
   "outputs": [],
   "source": [
    "def dls_action(pos, max_depth):\n",
    "    # Do depth Limited Search till max_depth on the mb_internal_environment\n",
    "    actions = get_legal_actions(pos)\n",
    "    next_value_list = list()\n",
    "    next_pos_list = list()\n",
    "    for i in actions:\n",
    "        next_pos = numpy.add(numpy.array(pos), numpy.array(i))\n",
    "        next_value_list.append(dls(next_pos, 0, max_depth))\n",
    "        next_pos_list.append(next_pos)\n",
    "    action = actions[numpy.argmax(next_value_list)]\n",
    "    return action"
   ]
  },
  {
   "cell_type": "code",
   "execution_count": null,
   "metadata": {},
   "outputs": [],
   "source": []
  },
  {
   "cell_type": "code",
   "execution_count": 11,
   "metadata": {
    "collapsed": true
   },
   "outputs": [],
   "source": [
    "def q_action(pos):\n",
    "    # Look for q values in mf_internal_environment for given position\n",
    "    actions = get_legal_actions(pos)\n",
    "    next_value_list = list()\n",
    "    next_pos_list = list()\n",
    "    for i in actions:\n",
    "        next_pos = numpy.add(numpy.array(pos), numpy.array(i))\n",
    "        next_value_list.append(mb_internal_environment[next_pos[0], next_pos[1]])\n",
    "        next_pos_list.append(next_pos)\n",
    "    action = actions[numpy.argmax(next_value_list)]\n",
    "    return action"
   ]
  },
  {
   "cell_type": "code",
   "execution_count": 12,
   "metadata": {
    "collapsed": true
   },
   "outputs": [],
   "source": [
    "def dual(num_iters, steps_per_iter):\n",
    "    sum_reward = 0\n",
    "    max_depth = 4\n",
    "    for i in range(num_iters):\n",
    "        pos = [0, 0]\n",
    "        for j in range(steps_per_iter):\n",
    "            if j%(i+1) == 0:\n",
    "                action = dls_action(pos, max_depth)\n",
    "                next_pos, reward = take_action(pos, action)\n",
    "                update_mb_internal_environment(pos, next_pos, reward)\n",
    "                pos = next_pos\n",
    "            else:\n",
    "                action = q_action(pos)\n",
    "                next_pos, reward = take_action(pos, action)\n",
    "                update_mb_internal_environment(pos, next_pos, reward)\n",
    "                pos = next_pos\n",
    "            sum_reward += reward\n",
    "    return sum_reward"
   ]
  },
  {
   "cell_type": "code",
   "execution_count": 13,
   "metadata": {},
   "outputs": [],
   "source": [
    "def mb(num_iters, steps_per_iter):\n",
    "    sum_reward = 0\n",
    "    max_depth = 4\n",
    "    for i in range(num_iters):\n",
    "        pos = [0, 0]\n",
    "        for j in range(steps_per_iter):\n",
    "            action = dls_action(pos, max_depth)\n",
    "            next_pos, reward = take_action(pos, action)\n",
    "            update_mb_internal_environment(pos, next_pos, reward)\n",
    "            pos = next_pos\n",
    "            sum_reward += reward\n",
    "    return sum_reward"
   ]
  },
  {
   "cell_type": "code",
   "execution_count": 14,
   "metadata": {},
   "outputs": [],
   "source": [
    "def mf(num_iters, steps_per_iter):\n",
    "    sum_reward = 0\n",
    "    max_depth = 4\n",
    "    for i in range(num_iters):\n",
    "        pos = [0, 0]\n",
    "        for j in range(steps_per_iter):\n",
    "            action = q_action(pos)\n",
    "            next_pos, reward = take_action(pos, action)\n",
    "            update_mb_internal_environment(pos, next_pos, reward)\n",
    "            pos = next_pos\n",
    "            sum_reward += reward\n",
    "    return sum_reward"
   ]
  },
  {
   "cell_type": "code",
   "execution_count": 15,
   "metadata": {
    "collapsed": true
   },
   "outputs": [],
   "source": [
    "mb_internal_environment = numpy.zeros((5, 5))\n"
   ]
  },
  {
   "cell_type": "markdown",
   "metadata": {},
   "source": [
    "Run the Dual Process on grid world. Get a list of individual time taken for each and rewards obtained."
   ]
  },
  {
   "cell_type": "code",
   "execution_count": 26,
   "metadata": {},
   "outputs": [
    {
     "name": "stdout",
     "output_type": "stream",
     "text": [
      "[0.9158928394317627, 0.7143638134002686, 0.7276911735534668, 0.7102200984954834, 0.6785447597503662, 0.7192459106445312, 0.7012913227081299, 0.719804048538208, 0.7651691436767578, 0.7381784915924072, 0.7119762897491455, 0.7234270572662354, 0.7170059680938721, 0.7201838493347168, 0.7348880767822266, 0.7142274379730225, 0.7016327381134033, 0.7236471176147461, 0.7141249179840088, 0.700660228729248]\n",
      "[530.0, 490.0, 360.0, 550.0, 590.0, 540.0, 420.0, 370.0, 360.0, 540.0, 440.0, 490.0, 460.0, 340.0, 320.0, 580.0, 630.0, 410.0, 410.0, 420.0]\n"
     ]
    }
   ],
   "source": [
    "times_dual = list()\n",
    "reward_dual = list()\n",
    "for i in range(20):\n",
    "    mb_internal_environment = numpy.zeros((5, 5))\n",
    "    start_time = time.time()\n",
    "    reward_dual.append(dual(40, 24))\n",
    "    times_dual.append(time.time() - start_time)\n",
    "print (times_dual)\n",
    "print (reward_dual)"
   ]
  },
  {
   "cell_type": "code",
   "execution_count": 27,
   "metadata": {},
   "outputs": [
    {
     "name": "stdout",
     "output_type": "stream",
     "text": [
      "[6.97906494140625, 6.705512762069702, 6.388406276702881, 6.849632501602173, 6.928613662719727, 6.799907684326172, 6.8535308837890625, 6.903970241546631, 6.544677019119263, 6.3058998584747314, 6.669878959655762, 6.741959810256958, 6.604400396347046, 6.825824737548828, 6.8393237590789795, 6.867632865905762, 6.78385329246521, 6.712416648864746, 6.743344068527222, 6.731619119644165]\n",
      "[550.0, 470.0, 620.0, 580.0, 420.0, 600.0, 610.0, 560.0, 430.0, 510.0, 400.0, 540.0, 630.0, 600.0, 500.0, 520.0, 560.0, 440.0, 490.0, 570.0]\n"
     ]
    }
   ],
   "source": [
    "times_mb = list()\n",
    "reward_mb = list()\n",
    "for i in range(20):\n",
    "    mb_internal_environment = numpy.zeros((5, 5))\n",
    "    start_time = time.time()\n",
    "    reward_mb.append(mb(40, 24))\n",
    "    times_mb.append(time.time() - start_time)\n",
    "print (times_mb)\n",
    "print (reward_mb)"
   ]
  },
  {
   "cell_type": "code",
   "execution_count": 28,
   "metadata": {},
   "outputs": [
    {
     "name": "stdout",
     "output_type": "stream",
     "text": [
      "[0.07032608985900879, 0.06940031051635742, 0.06765198707580566, 0.06753969192504883, 0.06870007514953613, 0.06742405891418457, 0.06732439994812012, 0.06748700141906738, 0.06741976737976074, 0.06702518463134766, 0.0690915584564209, 0.06876111030578613, 0.07081770896911621, 0.06711053848266602, 0.06751680374145508, 0.06732416152954102, 0.0674893856048584, 0.0676414966583252, 0.06685113906860352, 0.06682801246643066]\n",
      "[470.0, 520.0, 460.0, 320.0, 510.0, 410.0, 380.0, 390.0, 600.0, 530.0, 530.0, 540.0, 430.0, 470.0, 540.0, 440.0, 340.0, 250.0, 650.0, 380.0]\n"
     ]
    }
   ],
   "source": [
    "times_mf = list()\n",
    "reward_mf = list()\n",
    "for i in range(20):\n",
    "    mb_internal_environment = numpy.zeros((5, 5))\n",
    "    start_time = time.time()\n",
    "    reward_mf.append(mf(40, 24))\n",
    "    times_mf.append(time.time() - start_time)\n",
    "print (times_mf)\n",
    "print (reward_mf)"
   ]
  },
  {
   "cell_type": "code",
   "execution_count": 65,
   "metadata": {},
   "outputs": [],
   "source": [
    "reward_mean_dual = numpy.mean(numpy.array(reward_dual))\n",
    "reward_mean_mb = numpy.mean(numpy.array(reward_mb))\n",
    "reward_mean_mf = numpy.mean(numpy.array(reward_mf))\n",
    "times_mean_dual = numpy.mean(numpy.array(times_dual))\n",
    "times_mean_mb = numpy.mean(numpy.array(times_mb))\n",
    "times_mean_mf = numpy.mean(numpy.array(times_mf))\n"
   ]
  },
  {
   "cell_type": "code",
   "execution_count": 66,
   "metadata": {},
   "outputs": [],
   "source": [
    "reward_errors = ([max(reward_dual) - numpy.mean(numpy.array(reward_dual)), max(reward_mb) - numpy.mean(numpy.array(reward_mb)), max(reward_mf) - numpy.mean(numpy.array(reward_mf))]), "
   ]
  },
  {
   "cell_type": "code",
   "execution_count": 67,
   "metadata": {},
   "outputs": [],
   "source": [
    "times_errors = ([max(times_dual) - numpy.mean(numpy.array(times_dual)), max(times_mb) - numpy.mean(numpy.array(times_mb)), max(times_mf) - numpy.mean(numpy.array(times_mf))]), "
   ]
  },
  {
   "cell_type": "code",
   "execution_count": 73,
   "metadata": {},
   "outputs": [
    {
     "name": "stdout",
     "output_type": "stream",
     "text": [
      "[ 530.   462.5  458. ]\n"
     ]
    }
   ],
   "source": [
    "rewards = numpy.array([reward_mean_mb, reward_mean_dual, reward_mean_mf])\n",
    "yerror = numpy.array(reward_errors)\n",
    "print (rewards)"
   ]
  },
  {
   "cell_type": "code",
   "execution_count": 74,
   "metadata": {},
   "outputs": [
    {
     "data": {
      "image/png": "[encoded data removed]",
      "text/plain": [
       "<matplotlib.figure.Figure at 0x7f7c9cf804e0>"
      ]
     },
     "metadata": {},
     "output_type": "display_data"
    }
   ],
   "source": [
    "reward_plot, = plt.plot(numpy.arange(0, 3), rewards)\n",
    "plt.xticks(numpy.arange(3), ('mb', 'dual', 'mf'))\n",
    "plt.xlim(xmin = -1, xmax = 4)\n",
    "plt.ylim(ymin = 300, ymax = 600)\n",
    "plt.xlabel('RL methods')\n",
    "plt.ylabel(\"Rewards\")\n",
    "\n",
    "plt.show()"
   ]
  },
  {
   "cell_type": "code",
   "execution_count": 79,
   "metadata": {},
   "outputs": [
    {
     "name": "stdout",
     "output_type": "stream",
     "text": [
      "[ 6.73897347  0.72760876  0.06798652]\n"
     ]
    },
    {
     "data": {
      "image/png": "[encoded data removed]",
      "text/plain": [
       "<matplotlib.figure.Figure at 0x7f7c9cfa2cf8>"
      ]
     },
     "metadata": {},
     "output_type": "display_data"
    }
   ],
   "source": [
    "times = numpy.array([times_mean_mb, times_mean_dual, times_mean_mf])\n",
    "print (times)\n",
    "reward_plot, = plt.plot(numpy.arange(0, 3), times)\n",
    "plt.xticks(numpy.arange(3), ('mb', 'dual', 'mf'))\n",
    "plt.xlim(xmin = -1, xmax = 4)\n",
    "plt.ylim(ymin = -1, ymax = 10)\n",
    "plt.xlabel('RL methods')\n",
    "plt.ylabel(\"Time (in secs)\")\n",
    "\n",
    "plt.show()"
   ]
  },
  {
   "cell_type": "code",
   "execution_count": null,
   "metadata": {
    "collapsed": true
   },
   "outputs": [],
   "source": []
  }
 ],
 "metadata": {
  "anaconda-cloud": {},
  "kernelspec": {
   "display_name": "Python 2",
   "language": "python",
   "name": "python2"
  },
  "language_info": {
   "codemirror_mode": {
    "name": "ipython",
    "version": 3
   },
   "file_extension": ".py",
   "mimetype": "text/x-python",
   "name": "python",
   "nbconvert_exporter": "python",
   "pygments_lexer": "ipython3",
   "version": "3.6.0"
  }
 },
 "nbformat": 4,
 "nbformat_minor": 1
}
